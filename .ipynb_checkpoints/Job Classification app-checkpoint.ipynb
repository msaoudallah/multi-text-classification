{
 "cells": [
  {
   "cell_type": "markdown",
   "metadata": {},
   "source": [
    "# Job Title Classification By Industry"
   ]
  },
  {
   "cell_type": "markdown",
   "metadata": {},
   "source": [
    "#### loading libraries"
   ]
  },
  {
   "cell_type": "code",
   "execution_count": 1,
   "metadata": {},
   "outputs": [],
   "source": [
    "import numpy as np\n",
    "import pandas as pd\n",
    "import matplotlib.pyplot as plt\n",
    "import seaborn as sns "
   ]
  },
  {
   "cell_type": "markdown",
   "metadata": {},
   "source": [
    "#### reading the dataset"
   ]
  },
  {
   "cell_type": "code",
   "execution_count": 2,
   "metadata": {},
   "outputs": [],
   "source": [
    "data = pd.read_csv(\"Job titles and industries.csv\")"
   ]
  },
  {
   "cell_type": "markdown",
   "metadata": {},
   "source": [
    "#### data exploration"
   ]
  },
  {
   "cell_type": "code",
   "execution_count": 3,
   "metadata": {},
   "outputs": [
    {
     "data": {
      "text/html": [
       "<div>\n",
       "<style scoped>\n",
       "    .dataframe tbody tr th:only-of-type {\n",
       "        vertical-align: middle;\n",
       "    }\n",
       "\n",
       "    .dataframe tbody tr th {\n",
       "        vertical-align: top;\n",
       "    }\n",
       "\n",
       "    .dataframe thead th {\n",
       "        text-align: right;\n",
       "    }\n",
       "</style>\n",
       "<table border=\"1\" class=\"dataframe\">\n",
       "  <thead>\n",
       "    <tr style=\"text-align: right;\">\n",
       "      <th></th>\n",
       "      <th>job title</th>\n",
       "      <th>industry</th>\n",
       "    </tr>\n",
       "  </thead>\n",
       "  <tbody>\n",
       "    <tr>\n",
       "      <th>0</th>\n",
       "      <td>technical support and helpdesk supervisor - co...</td>\n",
       "      <td>IT</td>\n",
       "    </tr>\n",
       "    <tr>\n",
       "      <th>1</th>\n",
       "      <td>senior technical support engineer</td>\n",
       "      <td>IT</td>\n",
       "    </tr>\n",
       "    <tr>\n",
       "      <th>2</th>\n",
       "      <td>head of it services</td>\n",
       "      <td>IT</td>\n",
       "    </tr>\n",
       "    <tr>\n",
       "      <th>3</th>\n",
       "      <td>js front end engineer</td>\n",
       "      <td>IT</td>\n",
       "    </tr>\n",
       "    <tr>\n",
       "      <th>4</th>\n",
       "      <td>network and telephony controller</td>\n",
       "      <td>IT</td>\n",
       "    </tr>\n",
       "  </tbody>\n",
       "</table>\n",
       "</div>"
      ],
      "text/plain": [
       "                                           job title industry\n",
       "0  technical support and helpdesk supervisor - co...       IT\n",
       "1                  senior technical support engineer       IT\n",
       "2                                head of it services       IT\n",
       "3                              js front end engineer       IT\n",
       "4                   network and telephony controller       IT"
      ]
     },
     "execution_count": 3,
     "metadata": {},
     "output_type": "execute_result"
    }
   ],
   "source": [
    "data.head()"
   ]
  },
  {
   "cell_type": "code",
   "execution_count": 4,
   "metadata": {},
   "outputs": [
    {
     "name": "stdout",
     "output_type": "stream",
     "text": [
      "<class 'pandas.core.frame.DataFrame'>\n",
      "RangeIndex: 8586 entries, 0 to 8585\n",
      "Data columns (total 2 columns):\n",
      " #   Column     Non-Null Count  Dtype \n",
      "---  ------     --------------  ----- \n",
      " 0   job title  8586 non-null   object\n",
      " 1   industry   8586 non-null   object\n",
      "dtypes: object(2)\n",
      "memory usage: 134.3+ KB\n"
     ]
    }
   ],
   "source": [
    "data.info()"
   ]
  },
  {
   "cell_type": "code",
   "execution_count": 5,
   "metadata": {},
   "outputs": [
    {
     "data": {
      "text/html": [
       "<div>\n",
       "<style scoped>\n",
       "    .dataframe tbody tr th:only-of-type {\n",
       "        vertical-align: middle;\n",
       "    }\n",
       "\n",
       "    .dataframe tbody tr th {\n",
       "        vertical-align: top;\n",
       "    }\n",
       "\n",
       "    .dataframe thead th {\n",
       "        text-align: right;\n",
       "    }\n",
       "</style>\n",
       "<table border=\"1\" class=\"dataframe\">\n",
       "  <thead>\n",
       "    <tr style=\"text-align: right;\">\n",
       "      <th></th>\n",
       "      <th>job title</th>\n",
       "      <th>industry</th>\n",
       "    </tr>\n",
       "  </thead>\n",
       "  <tbody>\n",
       "    <tr>\n",
       "      <th>count</th>\n",
       "      <td>8586</td>\n",
       "      <td>8586</td>\n",
       "    </tr>\n",
       "    <tr>\n",
       "      <th>unique</th>\n",
       "      <td>3890</td>\n",
       "      <td>4</td>\n",
       "    </tr>\n",
       "    <tr>\n",
       "      <th>top</th>\n",
       "      <td>marketing executive</td>\n",
       "      <td>IT</td>\n",
       "    </tr>\n",
       "    <tr>\n",
       "      <th>freq</th>\n",
       "      <td>91</td>\n",
       "      <td>4746</td>\n",
       "    </tr>\n",
       "  </tbody>\n",
       "</table>\n",
       "</div>"
      ],
      "text/plain": [
       "                  job title industry\n",
       "count                  8586     8586\n",
       "unique                 3890        4\n",
       "top     marketing executive       IT\n",
       "freq                     91     4746"
      ]
     },
     "execution_count": 5,
     "metadata": {},
     "output_type": "execute_result"
    }
   ],
   "source": [
    "data.describe()"
   ]
  },
  {
   "cell_type": "markdown",
   "metadata": {},
   "source": [
    "we have only 2 cols, both are textual , we have no nulls to worry about , but we still need to deal with text data"
   ]
  },
  {
   "cell_type": "code",
   "execution_count": 6,
   "metadata": {},
   "outputs": [
    {
     "data": {
      "text/plain": [
       "4618"
      ]
     },
     "execution_count": 6,
     "metadata": {},
     "output_type": "execute_result"
    }
   ],
   "source": [
    "data.duplicated().sum()"
   ]
  },
  {
   "cell_type": "markdown",
   "metadata": {},
   "source": [
    "about half of the data is duplicates , we need to remove them"
   ]
  },
  {
   "cell_type": "markdown",
   "metadata": {},
   "source": [
    "#### explore the label "
   ]
  },
  {
   "cell_type": "code",
   "execution_count": 7,
   "metadata": {},
   "outputs": [],
   "source": [
    "industry = data['industry']"
   ]
  },
  {
   "cell_type": "code",
   "execution_count": 8,
   "metadata": {},
   "outputs": [
    {
     "data": {
      "text/plain": [
       "IT             0.552760\n",
       "Marketing      0.236548\n",
       "Education      0.167133\n",
       "Accountancy    0.043559\n",
       "Name: industry, dtype: float64"
      ]
     },
     "execution_count": 8,
     "metadata": {},
     "output_type": "execute_result"
    }
   ],
   "source": [
    "industry.value_counts(normalize=True)"
   ]
  },
  {
   "cell_type": "markdown",
   "metadata": {},
   "source": [
    "#### there is class impalance here , Accountancy is represented with less than 1% in data"
   ]
  },
  {
   "cell_type": "markdown",
   "metadata": {},
   "source": [
    "#### Data Visualization"
   ]
  },
  {
   "cell_type": "code",
   "execution_count": 9,
   "metadata": {},
   "outputs": [],
   "source": [
    "def hist_pie(df,target):\n",
    "    fig, ax=plt.subplots(1,2,figsize=(15,6))\n",
    "    _ = sns.histplot(x=target, data=df, ax=ax[0],bins=4,hue=target,)\n",
    "    _ = df[target].value_counts().plot.pie(autopct=\"%1.1f%%\", ax=ax[1])"
   ]
  },
  {
   "cell_type": "code",
   "execution_count": 10,
   "metadata": {},
   "outputs": [
    {
     "data": {
      "image/png": "[encoded data removed]",
      "text/plain": [
       "<Figure size 1080x432 with 2 Axes>"
      ]
     },
     "metadata": {
      "needs_background": "light"
     },
     "output_type": "display_data"
    }
   ],
   "source": [
    "hist_pie(data,'industry')"
   ]
  },
  {
   "cell_type": "markdown",
   "metadata": {},
   "source": [
    "### Data Preprocessing"
   ]
  },
  {
   "cell_type": "markdown",
   "metadata": {},
   "source": [
    "since machine learning models accepts only numbers , we need to deal with \"job title\" column"
   ]
  },
  {
   "cell_type": "code",
   "execution_count": 11,
   "metadata": {},
   "outputs": [],
   "source": [
    "# remove duplicates\n",
    "data = data.drop_duplicates()"
   ]
  },
  {
   "cell_type": "code",
   "execution_count": 12,
   "metadata": {},
   "outputs": [],
   "source": [
    "job_title = [a for a in data['job title'].values] "
   ]
  },
  {
   "cell_type": "code",
   "execution_count": 13,
   "metadata": {},
   "outputs": [
    {
     "data": {
      "text/plain": [
       "['technical support and helpdesk supervisor - county buildings, ayr soa04086',\n",
       " 'senior technical support engineer',\n",
       " 'head of it services',\n",
       " 'js front end engineer',\n",
       " 'network and telephony controller',\n",
       " 'privileged access management expert',\n",
       " 'devops engineers x 3 - global brand',\n",
       " 'data modeller',\n",
       " 'php web developer £45,000 based in london',\n",
       " 'solution / technical architect - ethical brand',\n",
       " 'lead developer - ethical brand',\n",
       " 'junior front-end developer',\n",
       " 'vb .net web developer, milton keynes, £45k',\n",
       " 'data scientist, newcastle, up to £40k',\n",
       " 'senior bi engineer',\n",
       " 'machine learning engineer',\n",
       " 'full stack developer, oxfordshire, £40k',\n",
       " 'c# software developer, waltham cross, £55k',\n",
       " 'senior data engineer',\n",
       " 'erp support analyst - unit4, agresso business world',\n",
       " 'application support analyst - cheshire - financial services',\n",
       " 'accountancy software trainer - manchester - remote working',\n",
       " 'business analyst',\n",
       " 'delivery lead',\n",
       " 'devops engineer x 2 temp - county buildings, ayr soa04079',\n",
       " 'it change and problem analyst',\n",
       " 'data science - product manager',\n",
       " 'development team lead',\n",
       " 'project manager',\n",
       " '.net developer',\n",
       " 'senior web developer',\n",
       " 'java developer',\n",
       " 'lead data engineer',\n",
       " 'ict technician',\n",
       " 'infrastructure architect',\n",
       " 'front end developer contract',\n",
       " 'java developer - dv cleared - contract',\n",
       " 'senior ios developer',\n",
       " 'ui developer',\n",
       " 'senior data engineer - machine learning',\n",
       " 'solution architect',\n",
       " 'front end javascript developer (react.js), £55k, 4 days remote, 1 day ascot',\n",
       " 'application support analyst - dynamics - central london - £competative',\n",
       " 'civils agent / manager',\n",
       " 'application support analyst',\n",
       " 'devops engineer',\n",
       " 'part time web editor with search',\n",
       " 'senior bi analyst',\n",
       " 'junior-mid level developer',\n",
       " 'php/drupal web developer',\n",
       " 'junior web developer',\n",
       " 'marketing bi analyst',\n",
       " 'product manager - £65-70,000 - great career progression',\n",
       " 'digital insight analyst',\n",
       " 'bi data architect',\n",
       " 'senior network consulting engineer',\n",
       " 'python developer - leading fintech greenfield projects',\n",
       " 'cloud platform engineer',\n",
       " 'paid search specialist',\n",
       " 'senior python developer',\n",
       " 'head of data & analytics',\n",
       " 'senior software engineer',\n",
       " 'bi manager',\n",
       " 'bi developer',\n",
       " 'bi analyst',\n",
       " 'data architect',\n",
       " 'junior data architect',\n",
       " 'analytics manager',\n",
       " 'data analyst',\n",
       " 'full-stack developer',\n",
       " 'graduate it administrator',\n",
       " 'data scientist',\n",
       " 'data engineer',\n",
       " '3rd line infrastructure support engineer - £40-45,000',\n",
       " 'head of leadership analytics',\n",
       " 'powerbi developer',\n",
       " 'lead digital analyst',\n",
       " 'it infrastructure analyst',\n",
       " 'senior java developer',\n",
       " 'senior devops engineer',\n",
       " 'infrastructure manager',\n",
       " 'senior software engineer - java',\n",
       " 'devops engineer - birmingham - docker - kubernetes',\n",
       " 'lead java developer',\n",
       " 'software developer - c# .net javascript',\n",
       " 'datatcentre support analyst  linux, ms server 2016',\n",
       " 'infrastructure engineer',\n",
       " 'software quality assurance qa',\n",
       " 'web developer',\n",
       " 'software developer',\n",
       " 'software test engineer',\n",
       " 'senior network engineer',\n",
       " 'it support engineer, 2nd/3rd line, witney',\n",
       " 'php developer',\n",
       " 'qa lead',\n",
       " 'technical customer support engineer - windows',\n",
       " 'finance epm applications analyst',\n",
       " 'javascript web developer',\n",
       " 'senior .net developer',\n",
       " 'java developer - poland',\n",
       " 'java data engineer',\n",
       " 'sap ewm / wm lead consultant',\n",
       " 'product manager - sports trading',\n",
       " 'project manager - sportsbook',\n",
       " 'java it support engineer',\n",
       " 'java developer - j2ee',\n",
       " 'chief architect - back end',\n",
       " 'java developer all levels',\n",
       " 'it support engineer - level 2 - hosting, servers, cloud',\n",
       " 'professional services consultant - implementation - paris',\n",
       " 'professional services consultant - software - paris',\n",
       " 'professional services consultant - based in paris, france',\n",
       " 'clinical engineering manager',\n",
       " 'tech support',\n",
       " 'product owner - payments',\n",
       " 'epm applications analyst - finance',\n",
       " 'ch0834 - web development officers',\n",
       " 'software engineer',\n",
       " 'business application team lead - finance',\n",
       " 'business application team lead - hr/payroll',\n",
       " 'hardware engineer',\n",
       " 'client service and database operations executive',\n",
       " 'software consultant',\n",
       " 'data quality kpi analyst',\n",
       " 'customer service',\n",
       " 'unified communications manager',\n",
       " 'database manager charity sector',\n",
       " 'technical lead',\n",
       " 'php developer - chesterfield - £17,000 to £25,000 - javascript',\n",
       " 'lead data scientist',\n",
       " 'games artist - west yorkshire - up to £30,000 - 2d and 3d',\n",
       " 'experienced web & systems developer',\n",
       " 'dynamics crm functional consultant',\n",
       " 'javascript developer angular',\n",
       " 'global head of data management',\n",
       " 'mdm architect',\n",
       " 'full stack javascript developer - html, css, node.js - plymouth',\n",
       " 'trainee it support - no experience required',\n",
       " 'automation anywhere developer - contract',\n",
       " 'project manager/ it',\n",
       " 'data quality',\n",
       " 'global service delivery lead',\n",
       " 'it support / windows / linux / networking / vmware £28-35k',\n",
       " 'data quality analyst',\n",
       " 'javascript developer - react or angular',\n",
       " 'junior / graduate software developer, c# / asp.net',\n",
       " 'low latency java developer - contract',\n",
       " 'c# developer',\n",
       " 'big data architect azure',\n",
       " 'senior analytics qa engineer',\n",
       " 'software development team lead',\n",
       " 'software support analyst - fleet - £40k',\n",
       " 'mobile developer (ios/android)',\n",
       " 'supplier assurance advisor - information security',\n",
       " 'application support analyst (sql server)',\n",
       " 'senior software developer',\n",
       " 'test automation engineer',\n",
       " 'sales development representative - £32k ote',\n",
       " 'technical team lead - c# & sql',\n",
       " 'lead nodejs developer',\n",
       " 'hpc infrastructure engineer',\n",
       " 'entry level developer - c#',\n",
       " '1st line support - service desk analyst - (£25,000 - £28,000) 12 months',\n",
       " '3rd line support analyst',\n",
       " 'full-stack .net / c# mvc developer - leicestershire',\n",
       " 'cloud engineer',\n",
       " 'data analyst - sql',\n",
       " 'ux lead',\n",
       " 'it  support analyst',\n",
       " 'client onboarding support',\n",
       " 'client support advisor',\n",
       " 'web services & sharepoint administrator',\n",
       " 'infrastructure analyst',\n",
       " 'business solutions analyst',\n",
       " 'development tech lead',\n",
       " 'full stack developer - .net, c#, sql, html, css, rest, asp.net',\n",
       " 'front end developer / web developer contract',\n",
       " 'web developer (agency)',\n",
       " 'it service analyst',\n",
       " 'junior business analyst',\n",
       " 'security engineer',\n",
       " 'network support engineer',\n",
       " 'user researcher',\n",
       " 'broadband support technician',\n",
       " 'it technician',\n",
       " 'technical consultant',\n",
       " 'junior data analyst',\n",
       " 'technology consultant',\n",
       " 'it support analyst - ormskirk, lancashire- £30,000',\n",
       " 'business analyst ba',\n",
       " 'lead front end developer',\n",
       " 'salesforce consultant / business analyst',\n",
       " 'ux designer',\n",
       " 'global business intelligence developer',\n",
       " 'sql developer',\n",
       " 'network lead',\n",
       " 'it business analyst',\n",
       " 'application architect - devops',\n",
       " 'senior infrastructure engineer',\n",
       " 'head of mi',\n",
       " 'front end developer',\n",
       " 'government it consultants',\n",
       " 'senior systems engineer',\n",
       " 'business intelligence developer',\n",
       " 'java developer - spring, hibernate, agile',\n",
       " 'senior project manager must have telecoms experience',\n",
       " 'project manager telecoms experience required',\n",
       " 'software engineer - javascript, node.js',\n",
       " '2nd line support',\n",
       " 'php  laravel developer',\n",
       " 'product designer - elegant, innovative, experience enhancing',\n",
       " 'android developer',\n",
       " 'ios developer',\n",
       " 'manual tester data warehouse',\n",
       " 'data analyst - business analyst within data - etl analyst',\n",
       " 'sql developer with strong unix scripting skills - invest in you',\n",
       " 'front-end developer - angular typescript / es6, bleeding edge',\n",
       " 'start up senior software engineer - free thinker, microservices',\n",
       " 'start up software engineer - free thinker, microservices',\n",
       " 'internet economy senior full stack engineer - react, java, es6',\n",
       " 'internet economy senior mobile software engineer - native apps',\n",
       " 'internet economy senior back end software engineer -distributed',\n",
       " 'java developer with interest in big data - train kafka, hadoop',\n",
       " 'java enterprise developer - spring, supportive culture, invest',\n",
       " 'java software engineer - sdlc, r&d, agile, innovative, 1.8',\n",
       " 'security software engineer - java or c#, security architecture',\n",
       " 'linux systems administrator - gcp, devops, ci / cd',\n",
       " 'informatica developer - migration, dwh, oracle, pl/sql',\n",
       " 'senior java software engineer / java application architect',\n",
       " 'application architect - looking to security architecture',\n",
       " 'java software engineer / java developer - low-latency, agile',\n",
       " 'infrastructure support officer',\n",
       " 'ict support assistant',\n",
       " 'data analyst transaction monitoring',\n",
       " 'mainframe specialist',\n",
       " '3rd line infrastructure engineer microsoft',\n",
       " 'screening automation application developer',\n",
       " \"2 x oracle  / ms sql dba's - glasgow\",\n",
       " 'senior middleware developer',\n",
       " 'middleware developer',\n",
       " 'technical designer - infrastructure & networks',\n",
       " 'platform engineer',\n",
       " 'aws platform engineer',\n",
       " 'technical support engineer',\n",
       " 'technical infrastructure engineer',\n",
       " 'web developer - php, mongodb',\n",
       " 'trainee network technician',\n",
       " 'test analyst',\n",
       " 'senior systems engineer (299jc)',\n",
       " '2nd line support engineer',\n",
       " 'graduate service desk analyst',\n",
       " 'systems manager - ormskirk, lancashire- £30,000',\n",
       " 'business analyst - it',\n",
       " 'automation tester - essex - £50k',\n",
       " 'devops engineers - jnr, mid, snr, lead - multiple roles',\n",
       " 'full stack developer',\n",
       " 'database developer',\n",
       " 'senior project manager',\n",
       " 'erp implementation project manager',\n",
       " '1st line support',\n",
       " 'back end developer',\n",
       " 'service solutions manager (6 months fixed term)',\n",
       " 'junior it consultant',\n",
       " 'floorwalker',\n",
       " 'support technician',\n",
       " 'senior project consultant',\n",
       " 'it trainer',\n",
       " 'sales business executive',\n",
       " 'it support engineer',\n",
       " 'data migration consultant',\n",
       " 'javascript - node',\n",
       " 'associate cyber security consultant',\n",
       " 'technical support manager (6 months fixed term)',\n",
       " 'software development manager',\n",
       " 'cyber security consulting manager',\n",
       " 'junior/mid c# developer',\n",
       " 'data officer',\n",
       " 'graduate front end designer/developer',\n",
       " 'senior cyber security consultant',\n",
       " 'senior quality assurance (qa) engineer',\n",
       " 'it analyst',\n",
       " 'it professional',\n",
       " 'it project manager',\n",
       " 'senior project manager - i.t services',\n",
       " 'product manager insurance / financial it systems  software',\n",
       " '3rd line support engineer, infrastructure',\n",
       " 'senior solutions engineer, infrastructure',\n",
       " 'infrastructure manager - hands on opportunity to work from home',\n",
       " 'technical support engineer, retail',\n",
       " 'infrastructure support engineer, sponsored vcp certification',\n",
       " 'full stack java developer',\n",
       " 'ad ops manager',\n",
       " 'network support manager, senior network engineer',\n",
       " 'delivery manager - solihull',\n",
       " 'head of data governance',\n",
       " 'it support/1st-2nd line/desktop engineer',\n",
       " 'c# / .net developer',\n",
       " 'dev-ops engineer',\n",
       " 'javascript developer',\n",
       " 'junior software developer',\n",
       " 'service desk support analyst',\n",
       " 'java based graduate developer, central norwich, £21,000pa + excellent benefits & salary progression',\n",
       " 'project manager / digital / technology / agile / doncaster',\n",
       " 'quality control analyst',\n",
       " 'junior rails developer',\n",
       " 'mi developer',\n",
       " 'senior software engineer (full stack)',\n",
       " 'senior front-end ui developer',\n",
       " 'aws dev ops engineer',\n",
       " 'software tester',\n",
       " 'senior ios engineer - designing native ios apps',\n",
       " 'technical architect',\n",
       " 'technical director',\n",
       " 'project manager insurance / financial services systems',\n",
       " '2nd line / sql server professional',\n",
       " 'agile business analyst',\n",
       " 'it service technician',\n",
       " 'python engineer',\n",
       " 'digital customer experience executive',\n",
       " 'toots technician',\n",
       " 'commercial analyst',\n",
       " 'systems architect',\n",
       " '1st line customer service',\n",
       " 'customer service technical support',\n",
       " 'service desk technician 1st line',\n",
       " 'group it network engineer',\n",
       " 'windows 10 migration engineer',\n",
       " 'information security manager - cyber security',\n",
       " 'angular developer',\n",
       " 'project manager / doncaster',\n",
       " 'vb.net developer',\n",
       " 'head of digital marketing - ksa  riyadh',\n",
       " 'privileged access identity management specialist',\n",
       " 'sap otc consultant',\n",
       " 'senior business change analyst',\n",
       " 'senior cro consultant - digital agency - london - £55000 - international travel opportunities',\n",
       " 'software procurement consultant : global energy co.',\n",
       " 'android lead',\n",
       " '3rd line infrastructure engineer',\n",
       " 'qlik sence',\n",
       " 'xwgc docucare asda',\n",
       " 'partner account manager',\n",
       " 'php web developer - mysql',\n",
       " 'field engineer - managed services - camden £30-40k',\n",
       " 'software developer graduate programme - april start',\n",
       " '3rd line engineer',\n",
       " 'front-end ui developer',\n",
       " 'senior business analyst',\n",
       " 'change management consultant',\n",
       " 'product manager',\n",
       " 'senior service desk analyst',\n",
       " 'chief executive officer - cyber security services',\n",
       " 'senior ux/ui designer',\n",
       " 'infrastructure project manager',\n",
       " 'smart meter training lead',\n",
       " 'salesforce administrator',\n",
       " 'digital product manager',\n",
       " 'software developer (level 2)',\n",
       " 'full stack developer - educational technology company',\n",
       " 'it support engineer - travel throughout london',\n",
       " 'azure devops engineer',\n",
       " 'contract front end developer',\n",
       " 'sql data analyst',\n",
       " 'software developer (level 3)',\n",
       " 'php web developer - west london',\n",
       " 'full stack javascript developer - html, css, node.js - bristol',\n",
       " 'head of infrastructure / infrastructure manager, oxford, £80k',\n",
       " 'field engineer - managed services - stratford £30-40k',\n",
       " 'it security officer',\n",
       " 'system administrator',\n",
       " 'windows systems administrator',\n",
       " 'crm developer',\n",
       " 'full stack developer - javascript',\n",
       " 'technical support analyst (fintech) - central london - £30k -£60k',\n",
       " 'test/ senior test engineers',\n",
       " 'technology project management - aop lead',\n",
       " 'support and operations engineer',\n",
       " 'server engineer - manchester - £250 - £275',\n",
       " 'api integration developer',\n",
       " '1st line technical support',\n",
       " 'xml developer',\n",
       " 'java engineer',\n",
       " 'support analyst',\n",
       " 'embedded software engineer',\n",
       " 'digital workplace consultant - surrey - £60k',\n",
       " 'junior/graduate c#.net developer, oxfordshire',\n",
       " 'it helpdesk technical support analyst',\n",
       " 'front end web developer',\n",
       " 'it electronic security design engineer',\n",
       " 'application support engineer sql',\n",
       " 'operations support analyst',\n",
       " '.net developers needed - brno!',\n",
       " 'it service management and design consultant - milton keynes',\n",
       " '2nd line helpdesk support engineer',\n",
       " 'service desk analyst',\n",
       " 'it project engineer',\n",
       " '3rd line it engineer',\n",
       " '2nd line engineer',\n",
       " 'agile test analyst',\n",
       " 'agile automation test specialist',\n",
       " '2nd line it engineer',\n",
       " 'citrix engineer',\n",
       " 'aem adobe consultant role: £100-120k basic salary, plus bonus & benefits (multinational)',\n",
       " 'platform integration engineer',\n",
       " 'business support executive/product owner',\n",
       " 'senior technical manager',\n",
       " 'cloud contact centre consultant - genesys - uk & ireland',\n",
       " 'customer service technician (it help desk)',\n",
       " 'pre-sales engineer',\n",
       " 'server engineer',\n",
       " 'contact centre business analyst / engineer - genesys - dublin',\n",
       " 'backend engineer',\n",
       " 'php / filemaker developer - graduates welcome',\n",
       " 'electrical service engineer',\n",
       " 'business analyst - private banking/change',\n",
       " 'digital project manager',\n",
       " 'contact centre engineer - genesys - london',\n",
       " 'react native developer',\n",
       " 'senior back end developer - malta',\n",
       " 'project manager / business analyst  - fix',\n",
       " 'service desk team leader',\n",
       " 'infrastructure technician',\n",
       " 'senior it support engineer',\n",
       " 'technical support analyst',\n",
       " 'c# software developer .net mvc',\n",
       " 'software engineer kotlin, spring boot, kafka',\n",
       " 'key account manager',\n",
       " 'ict support engineer x2- county buildings, ayr soa04142',\n",
       " 'devops technician x4 - county buildings, ayr soa04149',\n",
       " 'buisness analyst oracle',\n",
       " 'contract test automation engineer - javascript - cypress',\n",
       " 'sap pi consultant',\n",
       " 'it engineer hosting team',\n",
       " 'lead developer',\n",
       " 'technical services engineer',\n",
       " 'mid weight php / drupal developer - with flexible working - bristol',\n",
       " 'agresso systems support / software support',\n",
       " 'scrum master agile',\n",
       " 'senior angular developer - with flexible working - bristol or based remotely',\n",
       " 'principal software engineer',\n",
       " 'frontend developer - £450 p/d',\n",
       " 'scrum master',\n",
       " 'java developer - e-commerce',\n",
       " 'senior software engineer - polyglot skills / agile',\n",
       " 'it technical manager',\n",
       " 'infrastructure architect, enterprise, windows, togaf',\n",
       " 'contract php / laravel developer - immediate start',\n",
       " 'php developer - west midlands - £400 per day',\n",
       " 'web developer - london agency - £50,000',\n",
       " 'salesforce developer - contract',\n",
       " 'test architect - test manager',\n",
       " 'biztalk developer',\n",
       " 'senior network engineer, wireless, wifi',\n",
       " '.net developer - greenfield project - multiple roles',\n",
       " 'network build manager, network manager, isp, telco',\n",
       " 'senior react native developer',\n",
       " 'servicenow consultant',\n",
       " 'network engineer, isp, telecoms, broadband, cable',\n",
       " 'network / infrastructure engineer - projects',\n",
       " 'senior it support engineer - stand alone it engineer role',\n",
       " 'graduate it support engineer',\n",
       " 'network architect, network designer,isp',\n",
       " 'database administrator',\n",
       " 'deployment engineer - linux, windows, sql, oracle',\n",
       " 'application support specialist',\n",
       " 'front-end developer',\n",
       " 'senior devops engineer - london - £80k',\n",
       " 'senior it support engineer, 1st-3rd line, manufacturing',\n",
       " 'python developer - contract',\n",
       " 'drupal developer',\n",
       " 'project manager security clearance needed',\n",
       " '.net developer - angular - greenfield project',\n",
       " 'senior it service engineer',\n",
       " 'devops analyst - fintech -windows, cloud, scripting, powershell',\n",
       " 'senior react developer',\n",
       " 'servicenow testing & transition lead',\n",
       " 'it technical support analyst, training in 3rd line',\n",
       " 'senior full-stack developer  bristol',\n",
       " 'senior infrastructure engineer - windows server & azure',\n",
       " 'junior drupal web developer',\n",
       " 'test automation engineer - £35 - £45k - leeds - digital agency',\n",
       " 'development manager - west london - £85-90k',\n",
       " 'business analyst systems',\n",
       " 'digital product analyst - great benefits!',\n",
       " 'test and product compliance manager',\n",
       " 'assistant systems administrator',\n",
       " 'commercial analyst (revenue & pricing analytics)',\n",
       " 'project manager - surrey - £35,000 - £45,000',\n",
       " 'software engineer - polyglot - central bristol',\n",
       " 'junior project manager',\n",
       " 'c# .net software engineer',\n",
       " 'c# .net developer',\n",
       " 'junior php developer',\n",
       " 'field engineer',\n",
       " 'digital transformation manager',\n",
       " 'linux production support engineer',\n",
       " 'sap project manager',\n",
       " 'senior it governance & assurance analyst',\n",
       " 'help desk analyst',\n",
       " 'it coordinator',\n",
       " 'business analyst business process',\n",
       " 'devops engineer - award winning ecommerce tech company',\n",
       " 'technical support specialist',\n",
       " 'business analyst it',\n",
       " 'solutions architect',\n",
       " 'desktop support',\n",
       " '1st line support engineer contract',\n",
       " 'senior digital analyst',\n",
       " 'pos support',\n",
       " 'qube analyst and systems developer - real estate - london',\n",
       " 'javascript developer - bristol - £45,000',\n",
       " 'euc specialist',\n",
       " 'c++ software engineer',\n",
       " 'tech lead - data engineering',\n",
       " 'epos or pc or computer field service engineer / technical courier - southampton / bournemouth',\n",
       " 'incident manager',\n",
       " 'mid / senior developer',\n",
       " 'qa engineer - up to £20,000 doe - preston',\n",
       " 'business development manager',\n",
       " 'infrastructure system team leader',\n",
       " 'graduate test engineer',\n",
       " 'graduate it software support',\n",
       " 'senior ruby on rails developer - permanent - london - hiring now!',\n",
       " 'it support specialist',\n",
       " 'data scientist / machine learning engineer',\n",
       " 'change analyst - contract',\n",
       " 'project consultant',\n",
       " 'full-stack developer role',\n",
       " 'ms dynamics ax business analyst',\n",
       " 'process automation senior manager',\n",
       " 'fullstack developer',\n",
       " 'service desk analyst - desktop - sharepoint - o365 - 1st line',\n",
       " 'network analyst',\n",
       " 'junior developer',\n",
       " 'interim programme manager ir35',\n",
       " 'product manager cyber - wimborne - £30,000-£45,000',\n",
       " 'field service technician',\n",
       " 'helpdesk analyst',\n",
       " 'helpdesk operative',\n",
       " 'senior systems architect - scotstoun - contract role',\n",
       " 'permanent - qa tester - london',\n",
       " 'senior information security analyst',\n",
       " 'ux designer, user experience, ucd, usability testing, adobe, css, html, javascript',\n",
       " 'project support',\n",
       " 'it systems engineer - it / security',\n",
       " 'senior it infrastructure engineer - £50k',\n",
       " 'contract business analyst',\n",
       " 'junior python developer',\n",
       " 'digital product designer',\n",
       " 'product tech lead',\n",
       " 'senior pmo analyst - brighton',\n",
       " 'senior network engineer ferndown- £45,000 benefits',\n",
       " 'project support/project planner - windows 10',\n",
       " 'it systems engineer',\n",
       " 'graduate implementation engineer - preston - £20,000',\n",
       " 'laravel/vue.js developer',\n",
       " '3rd line support engineer',\n",
       " 'it support analyst',\n",
       " 'it engineer (1st & 2nd line) - uxbridge, uk - £150 - £175 per day - 3 days per week',\n",
       " 'it support engineer / ict technician / field engineer',\n",
       " 'change project manager / financial services',\n",
       " 'windows 10 rollout engineer',\n",
       " '.net core - 6 month contract - reigate - competitive rates',\n",
       " 'is business partner',\n",
       " 'first line support technician - poole - £17,000-£19,000',\n",
       " 'ict senior communications engineer',\n",
       " 'junior it support engineer',\n",
       " 'project support co-ordinator - £19/£20 per hour paye',\n",
       " 'software developer vb6 and c#',\n",
       " 'java software engineer',\n",
       " 'infrastructure engineer - 3rd line',\n",
       " 'penetration tester - multinational company',\n",
       " 'senior python software developer - bristol - python, agile',\n",
       " 'digital analyst implementation',\n",
       " 'system analyst - 18 month contract',\n",
       " 'php developer - symfony',\n",
       " 'elasticsearch / elastic stack developer/engineer',\n",
       " 'front end developer - preston - up to £37,000',\n",
       " 'lead devops engineer',\n",
       " 'contract python developer required',\n",
       " 'java developers central scotland',\n",
       " 'senior helpdesk analyst',\n",
       " 'integration technical leads',\n",
       " 'test engineer',\n",
       " 'infrastructure engineer - contract - £300 - £325 per day',\n",
       " 'principal devops engineer',\n",
       " 'software engineer - c# mvc',\n",
       " 'principal java engineer',\n",
       " 'automation tester - jmeter',\n",
       " 'dba lead',\n",
       " 'software engineer, python,  healthcare solutions',\n",
       " 'helpdesk manager',\n",
       " 'technical writer - bristol',\n",
       " 'senior/lead developer',\n",
       " 'software engineer - java',\n",
       " 'systems, information & support manager',\n",
       " 'bi sql developer',\n",
       " 'it programme manager claims delivery ivr self-serve portals',\n",
       " 'software engineer - c#',\n",
       " 'senior software developer - c# & java',\n",
       " 'senior software developer - poole - £45-50,000 p.a.',\n",
       " 'digital test lead - up to £45k - bristol',\n",
       " 'firmware engineer',\n",
       " 'real time analyst bournemouth £29,000 ote',\n",
       " 'penetration tester - good company culture',\n",
       " 'finance systems analyst',\n",
       " 'software tester - bournemouth £35,000',\n",
       " 'erp support consultant applications - poole - £25-35k  bonus',\n",
       " 'account manager',\n",
       " 'software engineer java - central bristol - £32,000 - £40,000',\n",
       " 'it project manager sdlc - bristol - £40,000 - £45,000',\n",
       " 'desktop service desk engineer',\n",
       " 'software developer - fintech - bournemouth',\n",
       " '2nd line it field engineer',\n",
       " 'it support technician',\n",
       " 'software engineer c++ fpga',\n",
       " 'senior .net developer - remote',\n",
       " 'solutions architect x 3',\n",
       " 'juniper network engineer',\n",
       " 'business intelligence analyst',\n",
       " 'c++ linux software engineer',\n",
       " 'senior pmo analyst',\n",
       " 'contract product owner',\n",
       " 'technical author',\n",
       " 'crm developer ms dynamics',\n",
       " 'geospatial gis software engineer - london- competitive salary',\n",
       " 'technical support',\n",
       " 'service delivery manager - managed it services - manc to £45k',\n",
       " 'service desk analyst (alternating shift pattern)',\n",
       " 'web developer full stack',\n",
       " 'lead mi developer data science',\n",
       " 'hardware & pre-sales engineer',\n",
       " 'it software developer',\n",
       " 'test engineer - mission critical projects - brighton',\n",
       " 'senior systems engineer - london - £500 per day',\n",
       " 'tech lead',\n",
       " 'mi analyst',\n",
       " 'senior platform engineer',\n",
       " 'l1 desktop support engineer - growing msp - to £30k plus benefits',\n",
       " 'websphere application specialist',\n",
       " 'frontend developer - scarborough - £22k - £32k doe',\n",
       " 'uat coordinator / uat manager',\n",
       " 'software developer in test',\n",
       " 'backend php developer - scarborough - £22k - £32k doe',\n",
       " 'sql bi developer',\n",
       " 'junior it support engineer - london central -£25k',\n",
       " 'presales engineer / sales engineer saas',\n",
       " 'bi analyst - microstrategy - peterborough',\n",
       " 'tester software',\n",
       " 'security architect',\n",
       " 'junior it developer',\n",
       " 'level 3 infrastructure engineer - nottingham -  c£35,000',\n",
       " 'project manager / scrum master - insurance',\n",
       " 'linux administrator - redhat/ docker/puppet/git - remote working - £££',\n",
       " 'junior front end developer',\n",
       " 'front end developer js, html, css',\n",
       " 'senior aws engineer',\n",
       " 'senior data analyst',\n",
       " 'software engineering manager',\n",
       " 'software developer c#.net sql',\n",
       " 'senior php developer',\n",
       " 'lead .net developer',\n",
       " 'senior dynatrace consultant',\n",
       " 'service design and transition manager - inside ir35',\n",
       " 'support engineer',\n",
       " 'senior javascript developer',\n",
       " 'devops engineer - global brand',\n",
       " 'it support engineer - £30k',\n",
       " 'test analyst - software house',\n",
       " 'technical support specialist with spanish',\n",
       " 'technical support engineer with spanish',\n",
       " 'it software support',\n",
       " 'application systems project manager',\n",
       " '2nd line it support engineer',\n",
       " 'business applications manager',\n",
       " 'etl developer contract',\n",
       " 'bilingual 2nd/3rd line support engineer',\n",
       " 'field account manager - mid market',\n",
       " 'senior mobile developer',\n",
       " 'it service desk analyst',\n",
       " 'web developer - php / laravel / aws',\n",
       " '.net / sql software engineer',\n",
       " 'c#/ .net developer',\n",
       " 'javascript developer - react, vue, node, express',\n",
       " 'senior business analyst - ndc implementation airline',\n",
       " 'node.js developer',\n",
       " 'mis systems manager',\n",
       " 'frontend developer - react, vue, javascript',\n",
       " 'front end developer - learn react!',\n",
       " 'bi/data analyst',\n",
       " 'field account manager - north east',\n",
       " 'angular developer angular v6 - finance',\n",
       " 'senior product desginer - ui',\n",
       " 'c# .net senior developer',\n",
       " 'scala developer',\n",
       " 'senior ux designer',\n",
       " 'c# .net technical architect',\n",
       " 'project co-ordinator',\n",
       " 'senior developer',\n",
       " 'c# .net solutions architect',\n",
       " '.net architect - asp.net  microservices aws',\n",
       " '3rd line infrastructure support',\n",
       " 'contract 1st line support',\n",
       " 'c++ software engineer, stats, maths',\n",
       " '2nd line support engineer - macclesfield',\n",
       " 'umbraco developer sme contractor',\n",
       " 'senior director - software engineering',\n",
       " 'senior account executive',\n",
       " 'office assistant',\n",
       " 'data analyst(sales)',\n",
       " 'it operations analyst - ibm kit experience',\n",
       " 'turkish and english speaking -it helpdesk support / call centre',\n",
       " 'it team manager software applications',\n",
       " 'senior automation engineer',\n",
       " 'network engineer',\n",
       " 'software support technician',\n",
       " 'mainframe operator / software engineer',\n",
       " 'german and english speaking it helpdesk support / call centre',\n",
       " '2nd line support technician, sharepoint',\n",
       " 'android developer - kotlin, android / sdk / java',\n",
       " 'mobile app release engineer',\n",
       " 'senior test engineer - web applications - selenium / ranorex',\n",
       " 'the bi developer',\n",
       " 'application packaging specialist - app-v / msi - sc cleared',\n",
       " 'senior full stack developer',\n",
       " 'junior installations consultant',\n",
       " 'react .js developer - redux / babel',\n",
       " '.net analyst programmer',\n",
       " 'ios developer - objective-c / swift',\n",
       " 'it operations analyst - ibm kit - command centre',\n",
       " 'pre-sales solutions architect - azure, 365, ems, citrix',\n",
       " 'it tech support',\n",
       " 'magento developer',\n",
       " 'fpga design engineer  - consultancy',\n",
       " 'lead test analyst web / mobile applications',\n",
       " 'software engineer - embedded',\n",
       " 'web developer - global digital company - bournemouth',\n",
       " 'software engineer - robotics',\n",
       " 'c++ software engineer - automotive',\n",
       " 'backend developer',\n",
       " 'it support agent - dutch, german or danish speaker',\n",
       " 'technical lead / tech lead - central london',\n",
       " 'business analyst / project manager',\n",
       " 'configuration specialist',\n",
       " 'qa tester',\n",
       " 'backend developer - php',\n",
       " 'ba/ pm - trading technology experience',\n",
       " 'elasticsearch developer - big data',\n",
       " 'sql database administrator',\n",
       " 'web / wordpress developer & seo strategist',\n",
       " 'datacentre network & security team leader',\n",
       " 'technical business analyst sql, xml, software',\n",
       " 'infrastructure engineer/technical consultant',\n",
       " 'gis operations specialist',\n",
       " 'senior/lead ux developer',\n",
       " 'pre-sales architect - connectivity',\n",
       " 'npd project manager — global innovator',\n",
       " '1st line managed services support analyst',\n",
       " 'information analyst',\n",
       " 'senior front-end developer',\n",
       " 'infrastructure and desktop support engineer',\n",
       " 'senior support analyst',\n",
       " 'wireless installation engineer',\n",
       " 'analyst developer',\n",
       " 'application support manager',\n",
       " 'it developer',\n",
       " 'senior infrastructure engineer - oracle',\n",
       " 'c# developer (web apps)',\n",
       " 'it infrastructure engineer - 3rd line',\n",
       " '1st line support engineer',\n",
       " 'contract data analyst - master data management - milton keynes',\n",
       " 'solutions engineer',\n",
       " 'full stack developer c#, .net, wpf',\n",
       " 'ux designer - bristol',\n",
       " 'it service coordinator',\n",
       " 'licence manager',\n",
       " 'frontend developer',\n",
       " 'service desk analyst nhs',\n",
       " 'engineer - oracle',\n",
       " 'field service engineer',\n",
       " 'it support engineer 2nd line',\n",
       " 'front end developer - react native',\n",
       " 'systems administrator',\n",
       " 'mid and senior java engineer - camberley, surrey - £50,000-£80,000 + bonus + benefits',\n",
       " 'graduate java / devops engineer - london',\n",
       " 'microsoft consultant o365/ems/sccm/w10',\n",
       " 'data manager',\n",
       " 'business sales executive',\n",
       " 'it software asset manager',\n",
       " 'business support executive/ single customer view- product owner',\n",
       " 'information security compliance analyst',\n",
       " 'french speaking business development representative',\n",
       " 'installations engineer',\n",
       " 'great devops role - cardiff - flex on salary!',\n",
       " 'bpm developer',\n",
       " 'senior analyst',\n",
       " 'office 365 technical architect',\n",
       " 'front end developer - leeds - up to 50k',\n",
       " 'erp implementation manager - 15 month contract',\n",
       " 'senior pmo manager',\n",
       " 'c#.net developer - cirencester - great brand - up to 50k',\n",
       " 'specialist test analyst',\n",
       " 'linux systems administrator',\n",
       " 'head of it operations - international retail properties',\n",
       " 'junior c# developer - sports',\n",
       " 'systems analyst',\n",
       " 'php/mongodb developer - flexible working',\n",
       " 'c# software developer',\n",
       " 'retail technology project manager - international luxury brands',\n",
       " 'middleware software developer',\n",
       " '3rd line cloud support engineer',\n",
       " 'salesforce administrator - digital advertising',\n",
       " 'technical specialist',\n",
       " 'software developer c++',\n",
       " 'devops engineer - jnr, mid, snr, lead - numerous roles - south e',\n",
       " 'senior infrastructure engineer linux',\n",
       " 'it support manager',\n",
       " 'full stack php developer',\n",
       " 'senior magento developer - in-house opportunity',\n",
       " 'contract - c# developer - gateshead - £350 - £450pd',\n",
       " 'team lead java',\n",
       " 'dba sql',\n",
       " 'senior data scientist',\n",
       " 'front end engineer',\n",
       " 'senior dynamics developer',\n",
       " 'cloud solutions engineer',\n",
       " 'technical writer',\n",
       " 'front end javascript engineer',\n",
       " 'it manager - software house',\n",
       " '2nd line support manager - times tech 100',\n",
       " 'systems administrator wintel - devops',\n",
       " 'devops engineer - ms gold partner saas',\n",
       " 'service delivery manager',\n",
       " 'software implementation consultant',\n",
       " 'junior product owner on peep eu - 0074',\n",
       " 'robotics process automation solution architect',\n",
       " 'office365 implementation engineer',\n",
       " 'senior it technician',\n",
       " 'junior devops engineer',\n",
       " 'infrastructure analyst - £50k per year - professional services firm',\n",
       " 'desktop engineer',\n",
       " '2nd line field engineer',\n",
       " 'service desk technician',\n",
       " '24/7 service desk analyst',\n",
       " 'sap business analyst',\n",
       " 'crm manager',\n",
       " '2nd line desktop support engineer, build laptops/desktops, sccm',\n",
       " '2nd line support technician',\n",
       " 'penetration tester',\n",
       " 'field engineer - it infrastructure engineer',\n",
       " 'product owner',\n",
       " 'mid-level web developer',\n",
       " 'business analyst - agile, stakeholder management - crewe',\n",
       " 'mid-level software developer',\n",
       " 'it desktop support engineer',\n",
       " 'junior web designer',\n",
       " 'microsoft dynamics solutions designer',\n",
       " 'platforms 3rd line engineer',\n",
       " 'internal communications change lead',\n",
       " 'sharepoint developer',\n",
       " '2nd/3rd line support engineer',\n",
       " 'cloud / infrastructure engineer / architect - surrey',\n",
       " 'it systems administrator',\n",
       " 'site reliability engineer- devops / cloud / kubernetes / docker',\n",
       " 'javascript software developer, machine learning & saas',\n",
       " 'it manager',\n",
       " 'full stack developer - leeds - up to 50k',\n",
       " 'business support administrator',\n",
       " 'contract - frontend developer - south of york- £200 - £300 p/d',\n",
       " 'operational change specialist  (fund operations, transfer agency)',\n",
       " 'agile project manager',\n",
       " 'go developer',\n",
       " 'java and .net developer',\n",
       " 'senior business analyst (digital)',\n",
       " 'senior content executive',\n",
       " 'software cloud developer',\n",
       " 'data analysis scientist - spectroscopy',\n",
       " 'it support analyst - £ 25,000 - £ 27,000 - wednesbury',\n",
       " 'head of technology - cto - kingston, surrey - £125,000',\n",
       " 'customer support specialist',\n",
       " 'enterprise mobility & security / office 365 engineer',\n",
       " 'java developer -',\n",
       " '2nd line it support technician, leeds',\n",
       " '2nd line telecoms support - broadband - desk based -salford',\n",
       " '.net developer, software engineer, c#, postgresql',\n",
       " 'enterprise mobility & security project manager',\n",
       " '3rd line it support engineer, halesowen',\n",
       " 'network support engineer - 2nd',\n",
       " 'junior it support technician',\n",
       " 'service assurance/controls lead',\n",
       " 'windows 10 / applications project manager',\n",
       " 'energy operations analyst',\n",
       " 'penetration test manager',\n",
       " 'senior data executive',\n",
       " 'enterprise mobility & security business analyst',\n",
       " 'mid-level php developer',\n",
       " 'software test engineer - peterborough - £35,000',\n",
       " 'test automation engineer - global company',\n",
       " 'python developer/ application developer - newport, wales',\n",
       " 'windows 10 / applications business analyst',\n",
       " 'senior c# developer',\n",
       " 'front end developer - es6/react',\n",
       " 'devops engineer - belfast - 85,000',\n",
       " 'ux/ui developer',\n",
       " 'web designer',\n",
       " 'service delivery manager - managed it services - london to £45k',\n",
       " 'head of business centre',\n",
       " 'it service desk analyst financial services',\n",
       " 'fire and security systems service maintenance engineer',\n",
       " 'contract nodejs developer',\n",
       " 'risk specialist - cyber security',\n",
       " 'technical pmo analyst - delivery - ftse 100',\n",
       " 'senior full stack engineer ruby  up to 80k',\n",
       " 'graduate developer',\n",
       " 'data analyst - sql, python',\n",
       " 'it change specialist',\n",
       " 'full stack software engineer, c#, .net core, aws, javascript, git, tdd',\n",
       " 'service support analyst',\n",
       " 'it support & development  (part time remote working)',\n",
       " '1st and 2nd line support - it systems administrator',\n",
       " 'it development manager -  global live chat - west sussex - £neg',\n",
       " 'full stack software developer',\n",
       " 'lead front-end developer -react.js,',\n",
       " '3rd line security support engineer',\n",
       " 'junior/graduate full stack developer',\n",
       " 'infrastructure - 3rd line - senior infrastructure specialist',\n",
       " 'software architect',\n",
       " 'junior front-end developer react.js',\n",
       " 'sql server developer - public sector',\n",
       " 'lead engineer - west london',\n",
       " 'javascript developer - react/node',\n",
       " 'electronics engineer',\n",
       " 'technical support analyst - brinny',\n",
       " 'front-end developer (react js)',\n",
       " 'html developer',\n",
       " 'information security manager',\n",
       " 'it helpdesk support engineer',\n",
       " 'ms dynamics ax / d365 project manager',\n",
       " 'it support team leader - southampton- up to £35,000',\n",
       " 'senior bi developer',\n",
       " 'it helpdesk',\n",
       " 'principal consultant.',\n",
       " 'admin',\n",
       " 'helpdesk',\n",
       " 'junior devops engineer- fintech -windows, scripting, powershell',\n",
       " 'release and environments manager',\n",
       " 'application packager - birmingham - £250-350pd',\n",
       " 'it support',\n",
       " 'sql server dba',\n",
       " 'web developer / senior web developer',\n",
       " 'operations director',\n",
       " 'software sales executive',\n",
       " 'digital business analyst',\n",
       " 'web developer / php developer',\n",
       " '.net developer - asp.net',\n",
       " 'network and systems administrator',\n",
       " '1st line support analyst',\n",
       " 'oracle systems specialist',\n",
       " 'it infrastructure engineer',\n",
       " 'sql programmer',\n",
       " 'web/print designer',\n",
       " 'it systems specialist',\n",
       " 'javascript developer node/angular',\n",
       " 'magento developer full stack 1/2 days remote work',\n",
       " 'java developer must be eligible for security clearance',\n",
       " 'javascript react developer digital agency',\n",
       " 'java developer must be a british citizen',\n",
       " 'c++ developer',\n",
       " 'java engineer video streaming',\n",
       " 'change analyst',\n",
       " 'magento developer - 2 days remote - £60-70k',\n",
       " 'java developer - must be british citizen for security clearance',\n",
       " 'front end react developer',\n",
       " 'group infrastructure manager',\n",
       " '3rd line engineer / cloud engineer - pdp training  certs',\n",
       " 'javascript developer 2 of react/angular/vue',\n",
       " 'polyglot developer java and python or node',\n",
       " 'project manager - software application projects/ agile',\n",
       " 'mid level wordpress php developer',\n",
       " 'java team lead - security - must be british citizen for clearanc',\n",
       " 'web developer / engineer - award winning digital - southampton',\n",
       " 'web tester',\n",
       " 'senior python cloud era developer',\n",
       " 'financialforce contractor',\n",
       " 'device assurance engineer',\n",
       " 'contract front-end developer',\n",
       " '.net developers',\n",
       " 'software support engineer (cloud & saas)',\n",
       " 'senior infrastructure engineer - stirling - £48,000',\n",
       " 'project coordinator - £28,000 - west midlands',\n",
       " 'senior netsuite management consultant, leading top 10 firm, london',\n",
       " 'software developer, leading top 10 firm, gatwick',\n",
       " 'practice management software developer, leading top 10 firm, gatwick',\n",
       " 'it business solutions advisor, leading top 10 firm, gatwick',\n",
       " 'software tester, leading top 10 firm, gatwick',\n",
       " 'database administrator, leading top 10 firm, gatwick',\n",
       " 'senior practice management advisor, leading top 10 firm, gatwick',\n",
       " 'netsuite management consultant, leading top 10 firm, london',\n",
       " 'lead desktop architect',\n",
       " 'c# developer (sql server) risk team - leading hedge fund',\n",
       " ...]"
      ]
     },
     "execution_count": 13,
     "metadata": {},
     "output_type": "execute_result"
    }
   ],
   "source": [
    "job_title"
   ]
  },
  {
   "cell_type": "code",
   "execution_count": 14,
   "metadata": {},
   "outputs": [],
   "source": [
    "job_title_length = [len(a.split(' ')) for a in data['job title'].values] "
   ]
  },
  {
   "cell_type": "code",
   "execution_count": 15,
   "metadata": {},
   "outputs": [
    {
     "data": {
      "text/plain": [
       "(20, 1, 4.574344758064516, 2.4091385728927968)"
      ]
     },
     "execution_count": 15,
     "metadata": {},
     "output_type": "execute_result"
    }
   ],
   "source": [
    "max(job_title_length), min(job_title_length), np.mean(job_title_length), np.std(job_title_length)"
   ]
  },
  {
   "cell_type": "code",
   "execution_count": 16,
   "metadata": {
    "scrolled": true
   },
   "outputs": [
    {
     "data": {
      "text/plain": [
       "<seaborn.axisgrid.FacetGrid at 0x1ee1482aa30>"
      ]
     },
     "execution_count": 16,
     "metadata": {},
     "output_type": "execute_result"
    },
    {
     "data": {
      "image/png": "[encoded data removed]",
      "text/plain": [
       "<Figure size 360x360 with 1 Axes>"
      ]
     },
     "metadata": {
      "needs_background": "light"
     },
     "output_type": "display_data"
    }
   ],
   "source": [
    "sns.displot(job_title_length)"
   ]
  },
  {
   "cell_type": "markdown",
   "metadata": {},
   "source": [
    "little bit tricky since there is special characters , punctuation and othre stuff we need to deal with"
   ]
  },
  {
   "cell_type": "markdown",
   "metadata": {},
   "source": [
    "###### generating wordcloud for the titles"
   ]
  },
  {
   "cell_type": "code",
   "execution_count": 17,
   "metadata": {
    "scrolled": false
   },
   "outputs": [
    {
     "data": {
      "image/png": "[encoded data removed]",
      "text/plain": [
       "<Figure size 432x288 with 1 Axes>"
      ]
     },
     "metadata": {
      "needs_background": "light"
     },
     "output_type": "display_data"
    }
   ],
   "source": [
    "from wordcloud import WordCloud\n",
    "text = \" \".join(cat.split()[0] for cat in data['job title'])\n",
    "word_cloud = WordCloud(collocations = False, background_color = 'white').generate(text)\n",
    "plt.imshow(word_cloud, interpolation='bilinear')\n",
    "plt.axis(\"off\")\n",
    "plt.show()"
   ]
  },
  {
   "cell_type": "markdown",
   "metadata": {},
   "source": [
    "###### word count for each word in job titles"
   ]
  },
  {
   "cell_type": "code",
   "execution_count": 18,
   "metadata": {
    "scrolled": true
   },
   "outputs": [
    {
     "data": {
      "text/plain": [
       "-                   1229.0\n",
       "manager              487.0\n",
       "marketing            461.0\n",
       "developer            390.0\n",
       "engineer             369.0\n",
       "                     ...  \n",
       "opportunity!           1.0\n",
       "pupils                 1.0\n",
       "immediately            1.0\n",
       "restaurants            1.0\n",
       "(arabic/english)       1.0\n",
       "Length: 2711, dtype: float64"
      ]
     },
     "execution_count": 18,
     "metadata": {},
     "output_type": "execute_result"
    }
   ],
   "source": [
    "data['job title'].apply(lambda x: pd.value_counts(x.split(\" \"))).sum(axis = 0).sort_values(ascending=False)"
   ]
  },
  {
   "cell_type": "markdown",
   "metadata": {},
   "source": [
    " '-' is the top repeated word !! ,  we need to clean job titles first before converting it to separate features"
   ]
  },
  {
   "cell_type": "code",
   "execution_count": 20,
   "metadata": {},
   "outputs": [
    {
     "name": "stderr",
     "output_type": "stream",
     "text": [
      "[nltk_data] Downloading package wordnet to\n",
      "[nltk_data]     C:\\Users\\20100\\AppData\\Roaming\\nltk_data...\n",
      "[nltk_data]   Package wordnet is already up-to-date!\n"
     ]
    }
   ],
   "source": [
    "\n",
    "import re\n",
    "import nltk\n",
    "nltk.download('wordnet')\n",
    "from nltk.stem import WordNetLemmatizer\n",
    "stemmer = WordNetLemmatizer()\n",
    "\n",
    "def clean_text(df):\n",
    "    title_descriptions = []\n",
    "    for i in range(len(df)):\n",
    "        title_description = str(df.iloc[i,0])\n",
    "#         print(title_description)\n",
    "        \n",
    "        # Remove all the special characters\n",
    "        title_description = re.sub(r'\\W', ' ', str(df.iloc[i,0]))\n",
    "\n",
    "        # remove all single characters\n",
    "        title_description = re.sub(r'\\s+[a-zA-Z]\\s+', ' ', title_description)\n",
    "\n",
    "        # Remove single characters from the start ; eg : a \n",
    "        title_description = re.sub(r'\\^[a-zA-Z]\\s+', ' ', title_description) \n",
    "\n",
    "        # Substituting multiple spaces with single space\n",
    "        title_description = re.sub(r'\\s+', ' ', title_description, flags=re.I)\n",
    "\n",
    "        # Converting to Lowercase\n",
    "        title_description = title_description.lower()\n",
    "\n",
    "        # Lemmatization , to send words back to its root\n",
    "        title_description = title_description.split()\n",
    "\n",
    "        title_description = [stemmer.lemmatize(word) for word in title_description]\n",
    "        title_description = ' '.join(title_description)\n",
    "\n",
    "        title_descriptions.append(title_description)\n",
    "    return title_descriptions"
   ]
  },
  {
   "cell_type": "code",
   "execution_count": 21,
   "metadata": {},
   "outputs": [],
   "source": [
    "job_titles = clean_text(data)"
   ]
  },
  {
   "cell_type": "code",
   "execution_count": 22,
   "metadata": {},
   "outputs": [],
   "source": [
    "data['job title'] = job_titles"
   ]
  },
  {
   "cell_type": "code",
   "execution_count": 23,
   "metadata": {},
   "outputs": [],
   "source": [
    "#import necessarry libraries\n",
    "\n",
    "from sklearn.feature_extraction.text import CountVectorizer,FeatureHasher ,HashingVectorizer, TfidfVectorizer\n",
    "import nltk\n",
    "# nltk.download('stopwords')\n",
    "import pickle\n",
    "from nltk.corpus import stopwords"
   ]
  },
  {
   "cell_type": "markdown",
   "metadata": {},
   "source": [
    "use the bag of words model to convert text documents into corresponding numerical features, use TFIDF to measue word frequency among all job decriptions"
   ]
  },
  {
   "cell_type": "code",
   "execution_count": 24,
   "metadata": {},
   "outputs": [],
   "source": [
    "vectorizer = TfidfVectorizer(max_features=1000, min_df=5, max_df=0.7, stop_words=stopwords.words('english'))\n",
    "X = vectorizer.fit_transform(job_titles).toarray()"
   ]
  },
  {
   "cell_type": "code",
   "execution_count": 25,
   "metadata": {},
   "outputs": [
    {
     "data": {
      "text/plain": [
       "array([[0., 0., 0., ..., 0., 0., 0.],\n",
       "       [0., 0., 0., ..., 0., 0., 0.],\n",
       "       [0., 0., 0., ..., 0., 0., 0.],\n",
       "       ...,\n",
       "       [0., 0., 0., ..., 0., 0., 0.],\n",
       "       [0., 0., 0., ..., 0., 0., 0.],\n",
       "       [0., 0., 0., ..., 0., 0., 0.]])"
      ]
     },
     "execution_count": 25,
     "metadata": {},
     "output_type": "execute_result"
    }
   ],
   "source": [
    "X"
   ]
  },
  {
   "cell_type": "code",
   "execution_count": 26,
   "metadata": {},
   "outputs": [
    {
     "data": {
      "text/plain": [
       "(3968, 466)"
      ]
     },
     "execution_count": 26,
     "metadata": {},
     "output_type": "execute_result"
    }
   ],
   "source": [
    "X.shape"
   ]
  },
  {
   "cell_type": "markdown",
   "metadata": {},
   "source": [
    "we have only distinct 466 after removing the stopwords"
   ]
  },
  {
   "cell_type": "markdown",
   "metadata": {},
   "source": [
    "out data is a sparse data , there is many techniques to handle this ( we will visit FeatureHasher later)"
   ]
  },
  {
   "cell_type": "markdown",
   "metadata": {},
   "source": [
    "# Data Modeling"
   ]
  },
  {
   "cell_type": "markdown",
   "metadata": {},
   "source": [
    "### Unsupervised learning "
   ]
  },
  {
   "cell_type": "markdown",
   "metadata": {},
   "source": [
    "kmeans clustering"
   ]
  },
  {
   "cell_type": "code",
   "execution_count": 27,
   "metadata": {},
   "outputs": [
    {
     "data": {
      "text/plain": [
       "array([0, 3, 0, ..., 2, 1, 0])"
      ]
     },
     "execution_count": 27,
     "metadata": {},
     "output_type": "execute_result"
    }
   ],
   "source": [
    "from sklearn.cluster import KMeans\n",
    "km = KMeans(n_clusters=4)\n",
    "km.fit(X)\n",
    "km.labels_\n"
   ]
  },
  {
   "cell_type": "code",
   "execution_count": 28,
   "metadata": {},
   "outputs": [
    {
     "ename": "NameError",
     "evalue": "name 'y' is not defined",
     "output_type": "error",
     "traceback": [
      "\u001b[1;31m---------------------------------------------------------------------------\u001b[0m",
      "\u001b[1;31mNameError\u001b[0m                                 Traceback (most recent call last)",
      "\u001b[1;32m<ipython-input-28-afc807ce96c2>\u001b[0m in \u001b[0;36m<module>\u001b[1;34m\u001b[0m\n\u001b[1;32m----> 1\u001b[1;33m \u001b[0mpd\u001b[0m\u001b[1;33m.\u001b[0m\u001b[0mcrosstab\u001b[0m\u001b[1;33m(\u001b[0m\u001b[0my\u001b[0m\u001b[1;33m,\u001b[0m\u001b[0mkm\u001b[0m\u001b[1;33m.\u001b[0m\u001b[0mlabels_\u001b[0m\u001b[1;33m)\u001b[0m\u001b[1;33m\u001b[0m\u001b[1;33m\u001b[0m\u001b[0m\n\u001b[0m",
      "\u001b[1;31mNameError\u001b[0m: name 'y' is not defined"
     ]
    }
   ],
   "source": [
    "pd.crosstab(,km.labels_)"
   ]
  },
  {
   "cell_type": "markdown",
   "metadata": {},
   "source": [
    "there is heavy overlapping for IT and marketing classes with other classes"
   ]
  },
  {
   "cell_type": "markdown",
   "metadata": {},
   "source": [
    "T-SNE"
   ]
  },
  {
   "cell_type": "code",
   "execution_count": 139,
   "metadata": {},
   "outputs": [
    {
     "data": {
      "text/plain": [
       "(8586, 679)"
      ]
     },
     "execution_count": 139,
     "metadata": {},
     "output_type": "execute_result"
    }
   ],
   "source": [
    "X.shape"
   ]
  },
  {
   "cell_type": "code",
   "execution_count": 141,
   "metadata": {},
   "outputs": [],
   "source": [
    "from sklearn.manifold import TSNE\n",
    "\n",
    "t = TSNE(n_components=2,learning_rate=100)\n",
    "X_new = t.fit_transform(X)"
   ]
  },
  {
   "cell_type": "code",
   "execution_count": null,
   "metadata": {},
   "outputs": [],
   "source": [
    "color"
   ]
  },
  {
   "cell_type": "code",
   "execution_count": 145,
   "metadata": {},
   "outputs": [
    {
     "data": {
      "text/plain": [
       "<AxesSubplot:>"
      ]
     },
     "execution_count": 145,
     "metadata": {},
     "output_type": "execute_result"
    },
    {
     "data": {
      "image/png": "[encoded data removed]",
      "text/plain": [
       "<Figure size 432x288 with 1 Axes>"
      ]
     },
     "metadata": {
      "needs_background": "light"
     },
     "output_type": "display_data"
    }
   ],
   "source": [
    "sns.scatterplot(x=X_new[:,0],y=X_new[:,1],hue=y)"
   ]
  },
  {
   "cell_type": "markdown",
   "metadata": {},
   "source": [
    "there is a little bit overlap, specially for Accountancy jobs, they're not distinguishable easily like other titles "
   ]
  },
  {
   "cell_type": "markdown",
   "metadata": {},
   "source": [
    "### split for testing"
   ]
  },
  {
   "cell_type": "markdown",
   "metadata": {},
   "source": [
    "we will use kfold validation to get more confident about out local score"
   ]
  },
  {
   "cell_type": "code",
   "execution_count": 165,
   "metadata": {},
   "outputs": [],
   "source": [
    "from sklearn.metrics import confusion_matrix,ConfusionMatrixDisplay, accuracy_score\n",
    "from sklearn.model_selection import KFold\n",
    "from sklearn.naive_bayes import MultinomialNB\n",
    "from sklearn.ensemble import RandomForestClassifier,GradientBoostingClassifier\n",
    "from sklearn.svm import SVC\n",
    "from sklearn.linear_model import LogisticRegression"
   ]
  },
  {
   "cell_type": "code",
   "execution_count": 166,
   "metadata": {},
   "outputs": [
    {
     "name": "stdout",
     "output_type": "stream",
     "text": [
      "MultinomialNB()\n",
      "fold 1  train accuracy is 0.9199184624344787\n",
      "fold 1  test accuracy is 0.9161816065192084\n",
      "fold 2  train accuracy is 0.9218226816130441\n",
      "fold 2  test accuracy is 0.9097262667443214\n",
      "fold 3  train accuracy is 0.9200757024312127\n",
      "fold 3  test accuracy is 0.9143855562026791\n",
      "fold 4  train accuracy is 0.9215315184160722\n",
      "fold 4  test accuracy is 0.9132207338380897\n",
      "fold 5  train accuracy is 0.9218226816130441\n",
      "fold 5  test accuracy is 0.9138031450203844\n",
      "=============\n",
      "RandomForestClassifier()\n",
      "fold 1  train accuracy is 0.9768491555037857\n",
      "fold 1  test accuracy is 0.929569266589057\n",
      "fold 2  train accuracy is 0.9771436890377057\n",
      "fold 2  test accuracy is 0.935934769947583\n",
      "fold 3  train accuracy is 0.9758334546513321\n",
      "fold 3  test accuracy is 0.9411764705882353\n",
      "fold 4  train accuracy is 0.9771436890377057\n",
      "fold 4  test accuracy is 0.930110658124636\n",
      "fold 5  train accuracy is 0.9771436890377057\n",
      "fold 5  test accuracy is 0.9394292370413512\n",
      "=============\n",
      "SVC()\n",
      "fold 1  train accuracy is 0.9630168899242866\n",
      "fold 1  test accuracy is 0.9423748544819558\n",
      "fold 2  train accuracy is 0.964186926772456\n",
      "fold 2  test accuracy is 0.9336051252184042\n",
      "fold 3  train accuracy is 0.9622943659921386\n",
      "fold 3  test accuracy is 0.94175888177053\n",
      "fold 4  train accuracy is 0.9654971611588296\n",
      "fold 4  test accuracy is 0.9306930693069307\n",
      "fold 5  train accuracy is 0.9628766923860824\n",
      "fold 5  test accuracy is 0.9400116482236459\n",
      "=============\n",
      "GradientBoostingClassifier()\n",
      "fold 1  train accuracy is 0.9245777518928363\n",
      "fold 1  test accuracy is 0.8987194412107101\n",
      "fold 2  train accuracy is 0.9218226816130441\n",
      "fold 2  test accuracy is 0.9050669772859639\n",
      "fold 3  train accuracy is 0.9224050080069879\n",
      "fold 3  test accuracy is 0.9079790331974374\n",
      "fold 4  train accuracy is 0.9245887319842772\n",
      "fold 4  test accuracy is 0.895165987186954\n",
      "fold 5  train accuracy is 0.925171058378221\n",
      "fold 5  test accuracy is 0.9073966220151427\n",
      "=============\n",
      "LogisticRegression()\n",
      "fold 1  train accuracy is 0.9349155503785672\n",
      "fold 1  test accuracy is 0.9260768335273574\n",
      "fold 2  train accuracy is 0.9359440966661814\n",
      "fold 2  test accuracy is 0.9231217239370996\n",
      "fold 3  train accuracy is 0.9359440966661814\n",
      "fold 3  test accuracy is 0.9242865463016889\n",
      "fold 4  train accuracy is 0.9366720046586111\n",
      "fold 4  test accuracy is 0.9213744903902155\n",
      "fold 5  train accuracy is 0.9378366574464988\n",
      "fold 5  test accuracy is 0.9248689574839837\n",
      "=============\n"
     ]
    }
   ],
   "source": [
    "X,y = X,data['industry']\n",
    "\n",
    "\n",
    "models = [MultinomialNB(),RandomForestClassifier(),SVC(),GradientBoostingClassifier(),LogisticRegression()]\n",
    "# models = [MultinomialNB()]\n",
    "\n",
    "results = []\n",
    "kf = KFold(n_splits=5,random_state=1,shuffle=True)\n",
    "for model in models:\n",
    "    print(model)\n",
    "    i=1\n",
    "    for train_index, test_index in kf.split(X,y):\n",
    "                X_train, X_test = X[train_index], X[test_index]\n",
    "                y_train, y_test = y.iloc[train_index], y.iloc[test_index]\n",
    "    #             sm = BorderlineSMOTE()\n",
    "    #             X_train, y_train = sm.fit_resample(X_train, y_train)\n",
    "                model.fit(X_train,y_train)\n",
    "                preds_test = model.predict(X_test)\n",
    "                preds_train = model.predict(X_train)        \n",
    "                preds_test = model.predict(X_test)\n",
    "                print(\"fold {}  train accuracy is {}\".format(i,accuracy_score(y_train,preds_train)))\n",
    "                print(\"fold {}  test accuracy is {}\".format(i,accuracy_score(y_test,preds_test)))\n",
    "#                 results.append([model,i ,accuracy_score(y_train,preds_train), accuracy_score(y_test,preds_test)])\n",
    "\n",
    "                i+=1\n",
    "#                 cm = confusion_matrix(y_test,preds_test)\n",
    "#                 ConfusionMatrixDisplay(cm).plot()\n",
    "#                 plt.xticks(rotation=90)\n",
    "#                 plt.show()  \n",
    "    print(\"=============\")\n",
    "\n"
   ]
  },
  {
   "cell_type": "markdown",
   "metadata": {},
   "source": [
    "lets try the same but try to balance classes"
   ]
  },
  {
   "cell_type": "code",
   "execution_count": 168,
   "metadata": {},
   "outputs": [
    {
     "name": "stdout",
     "output_type": "stream",
     "text": [
      "MultinomialNB()\n",
      "fold 1  train accuracy is 0.923492230708454\n",
      "fold 1  test accuracy is 0.9033760186263097\n",
      "fold 2  train accuracy is 0.9229298523206751\n",
      "fold 2  test accuracy is 0.9044845661036692\n",
      "fold 3  train accuracy is 0.9261423319327731\n",
      "fold 3  test accuracy is 0.9172976121141526\n",
      "fold 4  train accuracy is 0.9242524477374967\n",
      "fold 4  test accuracy is 0.9015725101921956\n",
      "fold 5  train accuracy is 0.9283088235294118\n",
      "fold 5  test accuracy is 0.912638322655795\n",
      "=============\n",
      "RandomForestClassifier()\n",
      "fold 1  train accuracy is 0.9855807216223335\n",
      "fold 1  test accuracy is 0.9225844004656577\n",
      "fold 2  train accuracy is 0.9862869198312236\n",
      "fold 2  test accuracy is 0.9283634245777519\n",
      "fold 3  train accuracy is 0.9845719537815126\n",
      "fold 3  test accuracy is 0.9365171811298777\n",
      "fold 4  train accuracy is 0.9862397459645409\n",
      "fold 4  test accuracy is 0.9289458357600466\n",
      "fold 5  train accuracy is 0.9852284663865546\n",
      "fold 5  test accuracy is 0.9318578916715201\n",
      "=============\n",
      "SVC()\n",
      "fold 1  train accuracy is 0.9655649196734264\n",
      "fold 1  test accuracy is 0.9318975552968568\n",
      "fold 2  train accuracy is 0.9671017932489452\n",
      "fold 2  test accuracy is 0.9324403028538147\n",
      "fold 3  train accuracy is 0.9655987394957983\n",
      "fold 3  test accuracy is 0.9411764705882353\n",
      "fold 4  train accuracy is 0.9671209314633501\n",
      "fold 4  test accuracy is 0.9248689574839837\n",
      "fold 5  train accuracy is 0.9680278361344538\n",
      "fold 5  test accuracy is 0.9365171811298777\n",
      "=============\n",
      "GradientBoostingClassifier()\n",
      "fold 1  train accuracy is 0.9358704240189624\n",
      "fold 1  test accuracy is 0.9039580908032596\n",
      "fold 2  train accuracy is 0.9393459915611815\n",
      "fold 2  test accuracy is 0.9033197437390798\n",
      "fold 3  train accuracy is 0.9368434873949579\n",
      "fold 3  test accuracy is 0.9149679673849738\n",
      "fold 4  train accuracy is 0.9410558348769515\n",
      "fold 4  test accuracy is 0.9050669772859639\n",
      "fold 5  train accuracy is 0.9342174369747899\n",
      "fold 5  test accuracy is 0.895165987186954\n",
      "=============\n",
      "LogisticRegression()\n"
     ]
    },
    {
     "name": "stderr",
     "output_type": "stream",
     "text": [
      "C:\\Users\\20100\\AppData\\Roaming\\Python\\Python38\\site-packages\\sklearn\\linear_model\\_logistic.py:762: ConvergenceWarning: lbfgs failed to converge (status=1):\n",
      "STOP: TOTAL NO. of ITERATIONS REACHED LIMIT.\n",
      "\n",
      "Increase the number of iterations (max_iter) or scale the data as shown in:\n",
      "    https://scikit-learn.org/stable/modules/preprocessing.html\n",
      "Please also refer to the documentation for alternative solver options:\n",
      "    https://scikit-learn.org/stable/modules/linear_model.html#logistic-regression\n",
      "  n_iter_i = _check_optimize_result(\n"
     ]
    },
    {
     "name": "stdout",
     "output_type": "stream",
     "text": [
      "fold 1  train accuracy is 0.9359362654727417\n",
      "fold 1  test accuracy is 0.9208381839348079\n"
     ]
    },
    {
     "name": "stderr",
     "output_type": "stream",
     "text": [
      "C:\\Users\\20100\\AppData\\Roaming\\Python\\Python38\\site-packages\\sklearn\\linear_model\\_logistic.py:762: ConvergenceWarning: lbfgs failed to converge (status=1):\n",
      "STOP: TOTAL NO. of ITERATIONS REACHED LIMIT.\n",
      "\n",
      "Increase the number of iterations (max_iter) or scale the data as shown in:\n",
      "    https://scikit-learn.org/stable/modules/preprocessing.html\n",
      "Please also refer to the documentation for alternative solver options:\n",
      "    https://scikit-learn.org/stable/modules/linear_model.html#logistic-regression\n",
      "  n_iter_i = _check_optimize_result(\n"
     ]
    },
    {
     "name": "stdout",
     "output_type": "stream",
     "text": [
      "fold 2  train accuracy is 0.9382911392405063\n",
      "fold 2  test accuracy is 0.9161327897495631\n"
     ]
    },
    {
     "name": "stderr",
     "output_type": "stream",
     "text": [
      "C:\\Users\\20100\\AppData\\Roaming\\Python\\Python38\\site-packages\\sklearn\\linear_model\\_logistic.py:762: ConvergenceWarning: lbfgs failed to converge (status=1):\n",
      "STOP: TOTAL NO. of ITERATIONS REACHED LIMIT.\n",
      "\n",
      "Increase the number of iterations (max_iter) or scale the data as shown in:\n",
      "    https://scikit-learn.org/stable/modules/preprocessing.html\n",
      "Please also refer to the documentation for alternative solver options:\n",
      "    https://scikit-learn.org/stable/modules/linear_model.html#logistic-regression\n",
      "  n_iter_i = _check_optimize_result(\n"
     ]
    },
    {
     "name": "stdout",
     "output_type": "stream",
     "text": [
      "fold 3  train accuracy is 0.9408482142857143\n",
      "fold 3  test accuracy is 0.9254513686662784\n"
     ]
    },
    {
     "name": "stderr",
     "output_type": "stream",
     "text": [
      "C:\\Users\\20100\\AppData\\Roaming\\Python\\Python38\\site-packages\\sklearn\\linear_model\\_logistic.py:762: ConvergenceWarning: lbfgs failed to converge (status=1):\n",
      "STOP: TOTAL NO. of ITERATIONS REACHED LIMIT.\n",
      "\n",
      "Increase the number of iterations (max_iter) or scale the data as shown in:\n",
      "    https://scikit-learn.org/stable/modules/preprocessing.html\n",
      "Please also refer to the documentation for alternative solver options:\n",
      "    https://scikit-learn.org/stable/modules/linear_model.html#logistic-regression\n",
      "  n_iter_i = _check_optimize_result(\n"
     ]
    },
    {
     "name": "stdout",
     "output_type": "stream",
     "text": [
      "fold 4  train accuracy is 0.9325879862397459\n",
      "fold 4  test accuracy is 0.906814210832848\n",
      "fold 5  train accuracy is 0.9410451680672269\n",
      "fold 5  test accuracy is 0.9202096680256261\n",
      "=============\n"
     ]
    },
    {
     "name": "stderr",
     "output_type": "stream",
     "text": [
      "C:\\Users\\20100\\AppData\\Roaming\\Python\\Python38\\site-packages\\sklearn\\linear_model\\_logistic.py:762: ConvergenceWarning: lbfgs failed to converge (status=1):\n",
      "STOP: TOTAL NO. of ITERATIONS REACHED LIMIT.\n",
      "\n",
      "Increase the number of iterations (max_iter) or scale the data as shown in:\n",
      "    https://scikit-learn.org/stable/modules/preprocessing.html\n",
      "Please also refer to the documentation for alternative solver options:\n",
      "    https://scikit-learn.org/stable/modules/linear_model.html#logistic-regression\n",
      "  n_iter_i = _check_optimize_result(\n"
     ]
    }
   ],
   "source": [
    "from imblearn.over_sampling import SMOTE\n",
    "\n",
    "X,y = X,data['industry']\n",
    "\n",
    "\n",
    "models = [MultinomialNB(),RandomForestClassifier(),SVC(),GradientBoostingClassifier(),LogisticRegression()]\n",
    "# models = [MultinomialNB()]\n",
    "\n",
    "results = []\n",
    "kf = KFold(n_splits=5,random_state=1,shuffle=True)\n",
    "for model in models:\n",
    "    print(model)\n",
    "    i=1\n",
    "    for train_index, test_index in kf.split(X,y):\n",
    "                X_train, X_test = X[train_index], X[test_index]\n",
    "                y_train, y_test = y.iloc[train_index], y.iloc[test_index]\n",
    "                sm = SMOTE()\n",
    "                X_train, y_train = sm.fit_resample(X_train, y_train)\n",
    "                model.fit(X_train,y_train)\n",
    "                preds_test = model.predict(X_test)\n",
    "                preds_train = model.predict(X_train)        \n",
    "                preds_test = model.predict(X_test)\n",
    "                print(\"fold {}  train accuracy is {}\".format(i,accuracy_score(y_train,preds_train)))\n",
    "                print(\"fold {}  test accuracy is {}\".format(i,accuracy_score(y_test,preds_test)))\n",
    "#                 results.append([model,i ,accuracy_score(y_train,preds_train), accuracy_score(y_test,preds_test)])\n",
    "\n",
    "                i+=1\n",
    "#                 cm = confusion_matrix(y_test,preds_test)\n",
    "#                 ConfusionMatrixDisplay(cm).plot()\n",
    "#                 plt.xticks(rotation=90)\n",
    "#                 plt.show()  \n",
    "    print(\"=============\")\n"
   ]
  },
  {
   "cell_type": "code",
   "execution_count": null,
   "metadata": {},
   "outputs": [],
   "source": []
  },
  {
   "cell_type": "markdown",
   "metadata": {},
   "source": [
    "#### from above results we can conclude that SVM with no oversampling is the best classifier"
   ]
  },
  {
   "cell_type": "markdown",
   "metadata": {},
   "source": [
    "#### tuning SVC classifier parameters"
   ]
  },
  {
   "cell_type": "code",
   "execution_count": 171,
   "metadata": {},
   "outputs": [],
   "source": [
    "from sklearn.model_selection import train_test_split\n",
    "from sklearn.model_selection import GridSearchCV\n",
    "from sklearn.metrics import classification_report, confusion_matrix\n",
    "\n",
    "\n",
    "param_grid = {'C':[1,10,100,1000],'gamma':[10,1,0.1,0.001,0.0001], 'kernel':['linear','rbf']}"
   ]
  },
  {
   "cell_type": "code",
   "execution_count": 199,
   "metadata": {},
   "outputs": [
    {
     "name": "stdout",
     "output_type": "stream",
     "text": [
      "Fitting 5 folds for each of 40 candidates, totalling 200 fits\n"
     ]
    },
    {
     "name": "stderr",
     "output_type": "stream",
     "text": [
      "[Parallel(n_jobs=-1)]: Using backend LokyBackend with 12 concurrent workers.\n",
      "[Parallel(n_jobs=-1)]: Done  17 tasks      | elapsed:  4.9min\n",
      "[Parallel(n_jobs=-1)]: Done 138 tasks      | elapsed: 30.3min\n",
      "[Parallel(n_jobs=-1)]: Done 200 out of 200 | elapsed: 41.8min finished\n"
     ]
    },
    {
     "data": {
      "text/plain": [
       "GridSearchCV(estimator=SVC(probability=True), n_jobs=-1,\n",
       "             param_grid={'C': [1, 10, 100, 1000],\n",
       "                         'gamma': [10, 1, 0.1, 0.001, 0.0001],\n",
       "                         'kernel': ['linear', 'rbf']},\n",
       "             verbose=2)"
      ]
     },
     "execution_count": 199,
     "metadata": {},
     "output_type": "execute_result"
    }
   ],
   "source": [
    "X_train, X_test, y_train, y_test = train_test_split(X, y, test_size = 0.3, random_state = 42,stratify=y)\n",
    "grid = GridSearchCV(SVC(probability=True),param_grid,refit = True, verbose=2,n_jobs=-1)\n",
    "grid.fit(X_train,y_train)"
   ]
  },
  {
   "cell_type": "code",
   "execution_count": 200,
   "metadata": {},
   "outputs": [
    {
     "data": {
      "text/plain": [
       "{'C': 100, 'gamma': 1, 'kernel': 'rbf'}"
      ]
     },
     "execution_count": 200,
     "metadata": {},
     "output_type": "execute_result"
    }
   ],
   "source": [
    "grid.best_params_"
   ]
  },
  {
   "cell_type": "code",
   "execution_count": 201,
   "metadata": {},
   "outputs": [],
   "source": [
    "preds = grid.predict(X_test)"
   ]
  },
  {
   "cell_type": "code",
   "execution_count": 202,
   "metadata": {},
   "outputs": [
    {
     "name": "stdout",
     "output_type": "stream",
     "text": [
      "              precision    recall  f1-score   support\n",
      "\n",
      " Accountancy       0.91      0.79      0.85       112\n",
      "   Education       0.94      0.87      0.90       431\n",
      "          IT       0.95      0.97      0.96      1424\n",
      "   Marketing       0.90      0.91      0.90       609\n",
      "\n",
      "    accuracy                           0.93      2576\n",
      "   macro avg       0.92      0.89      0.90      2576\n",
      "weighted avg       0.93      0.93      0.93      2576\n",
      "\n",
      "[[  89    2   19    2]\n",
      " [   2  375   18   36]\n",
      " [   3   11 1386   24]\n",
      " [   4   12   41  552]]\n"
     ]
    }
   ],
   "source": [
    "print(classification_report(y_test,preds))\n",
    "print(confusion_matrix(y_test, preds))"
   ]
  },
  {
   "cell_type": "markdown",
   "metadata": {},
   "source": [
    "# Saving best model to use in REST-API"
   ]
  },
  {
   "cell_type": "code",
   "execution_count": 203,
   "metadata": {},
   "outputs": [],
   "source": [
    "best_model = grid.best_estimator_"
   ]
  },
  {
   "cell_type": "code",
   "execution_count": 204,
   "metadata": {},
   "outputs": [
    {
     "data": {
      "text/plain": [
       "SVC(C=100, gamma=1, probability=True)"
      ]
     },
     "execution_count": 204,
     "metadata": {},
     "output_type": "execute_result"
    }
   ],
   "source": [
    "best_model.fit(X,y)"
   ]
  },
  {
   "cell_type": "code",
   "execution_count": 205,
   "metadata": {},
   "outputs": [],
   "source": [
    "import pickle\n",
    "\n",
    "model_filename = \"Pickle_SVM_Model.pkl\"  \n",
    "vectorizer_filename = 'Pickle_vectorizer.pkl'\n",
    "\n",
    "with open(model_filename, 'wb') as file:  \n",
    "    pickle.dump(best_model, file)\n",
    "\n",
    "with open(vectorizer_filename, 'wb') as file:  \n",
    "    pickle.dump(vectorizer, file)\n"
   ]
  },
  {
   "cell_type": "markdown",
   "metadata": {},
   "source": [
    "testing model"
   ]
  },
  {
   "cell_type": "code",
   "execution_count": 206,
   "metadata": {},
   "outputs": [
    {
     "data": {
      "text/plain": [
       "SVC(C=100, gamma=1, probability=True)"
      ]
     },
     "execution_count": 206,
     "metadata": {},
     "output_type": "execute_result"
    }
   ],
   "source": [
    "with open(model_filename, 'rb') as file:  \n",
    "    m = pickle.load(file)\n",
    "\n",
    "m"
   ]
  },
  {
   "cell_type": "code",
   "execution_count": 207,
   "metadata": {},
   "outputs": [
    {
     "data": {
      "text/plain": [
       "TfidfVectorizer(max_df=0.7, max_features=1000, min_df=5,\n",
       "                stop_words=['i', 'me', 'my', 'myself', 'we', 'our', 'ours',\n",
       "                            'ourselves', 'you', \"you're\", \"you've\", \"you'll\",\n",
       "                            \"you'd\", 'your', 'yours', 'yourself', 'yourselves',\n",
       "                            'he', 'him', 'his', 'himself', 'she', \"she's\",\n",
       "                            'her', 'hers', 'herself', 'it', \"it's\", 'its',\n",
       "                            'itself', ...])"
      ]
     },
     "execution_count": 207,
     "metadata": {},
     "output_type": "execute_result"
    }
   ],
   "source": [
    "with open(vectorizer_filename, 'rb') as file:  \n",
    "    v = pickle.load(file)\n",
    "\n",
    "v"
   ]
  },
  {
   "cell_type": "markdown",
   "metadata": {},
   "source": [
    "sample data"
   ]
  },
  {
   "cell_type": "code",
   "execution_count": 208,
   "metadata": {},
   "outputs": [],
   "source": [
    "job_describtion_sample = [\"IT Persion required\"]"
   ]
  },
  {
   "cell_type": "code",
   "execution_count": 209,
   "metadata": {},
   "outputs": [],
   "source": [
    "sample = v.transform(job_describtion_sample).toarray()"
   ]
  },
  {
   "cell_type": "code",
   "execution_count": 210,
   "metadata": {},
   "outputs": [
    {
     "data": {
      "text/plain": [
       "array([[0., 0., 0., 0., 0., 0., 0., 0., 0., 0., 0., 0., 0., 0., 0., 0.,\n",
       "        0., 0., 0., 0., 0., 0., 0., 0., 0., 0., 0., 0., 0., 0., 0., 0.,\n",
       "        0., 0., 0., 0., 0., 0., 0., 0., 0., 0., 0., 0., 0., 0., 0., 0.,\n",
       "        0., 0., 0., 0., 0., 0., 0., 0., 0., 0., 0., 0., 0., 0., 0., 0.,\n",
       "        0., 0., 0., 0., 0., 0., 0., 0., 0., 0., 0., 0., 0., 0., 0., 0.,\n",
       "        0., 0., 0., 0., 0., 0., 0., 0., 0., 0., 0., 0., 0., 0., 0., 0.,\n",
       "        0., 0., 0., 0., 0., 0., 0., 0., 0., 0., 0., 0., 0., 0., 0., 0.,\n",
       "        0., 0., 0., 0., 0., 0., 0., 0., 0., 0., 0., 0., 0., 0., 0., 0.,\n",
       "        0., 0., 0., 0., 0., 0., 0., 0., 0., 0., 0., 0., 0., 0., 0., 0.,\n",
       "        0., 0., 0., 0., 0., 0., 0., 0., 0., 0., 0., 0., 0., 0., 0., 0.,\n",
       "        0., 0., 0., 0., 0., 0., 0., 0., 0., 0., 0., 0., 0., 0., 0., 0.,\n",
       "        0., 0., 0., 0., 0., 0., 0., 0., 0., 0., 0., 0., 0., 0., 0., 0.,\n",
       "        0., 0., 0., 0., 0., 0., 0., 0., 0., 0., 0., 0., 0., 0., 0., 0.,\n",
       "        0., 0., 0., 0., 0., 0., 0., 0., 0., 0., 0., 0., 0., 0., 0., 0.,\n",
       "        0., 0., 0., 0., 0., 0., 0., 0., 0., 0., 0., 0., 0., 0., 0., 0.,\n",
       "        0., 0., 0., 0., 0., 0., 0., 0., 0., 0., 0., 0., 0., 0., 0., 0.,\n",
       "        0., 0., 0., 0., 0., 0., 0., 0., 0., 0., 0., 0., 0., 0., 0., 0.,\n",
       "        0., 0., 0., 0., 0., 0., 0., 0., 0., 0., 0., 0., 0., 0., 0., 0.,\n",
       "        0., 0., 0., 0., 0., 0., 0., 0., 0., 0., 0., 0., 0., 0., 0., 0.,\n",
       "        0., 0., 0., 0., 0., 0., 0., 0., 0., 0., 0., 0., 0., 0., 0., 0.,\n",
       "        0., 0., 0., 0., 0., 0., 0., 0., 0., 0., 0., 0., 0., 0., 0., 0.,\n",
       "        0., 0., 0., 0., 0., 0., 0., 0., 0., 0., 0., 0., 0., 0., 0., 0.,\n",
       "        0., 0., 0., 0., 0., 0., 0., 0., 0., 0., 0., 0., 0., 0., 0., 0.,\n",
       "        0., 0., 0., 0., 0., 0., 0., 0., 0., 0., 0., 0., 0., 0., 0., 0.,\n",
       "        0., 0., 0., 0., 0., 0., 0., 0., 0., 0., 0., 0., 0., 0., 0., 0.,\n",
       "        0., 0., 0., 0., 0., 0., 0., 0., 0., 0., 0., 0., 0., 0., 0., 0.,\n",
       "        0., 0., 0., 0., 0., 0., 0., 0., 0., 0., 0., 0., 0., 0., 0., 0.,\n",
       "        0., 0., 0., 0., 0., 0., 0., 0., 0., 0., 0., 0., 0., 0., 0., 0.,\n",
       "        0., 0., 0., 0., 0., 0., 0., 0., 0., 0., 0., 0., 0., 0., 0., 0.,\n",
       "        0., 0., 0., 0., 0., 0., 0., 0., 0., 0., 0., 0., 0., 0., 0., 0.,\n",
       "        0., 0., 0., 0., 0., 0., 0., 0., 0., 0., 0., 0., 0., 0., 0., 0.,\n",
       "        0., 0., 0., 0., 0., 0., 0., 0., 0., 0., 0., 0., 0., 0., 0., 0.,\n",
       "        0., 0., 0., 0., 0., 0., 0., 0., 0., 0., 0., 0., 0., 0., 0., 0.,\n",
       "        0., 0., 0., 0., 0., 0., 0., 0., 0., 0., 0., 1., 0., 0., 0., 0.,\n",
       "        0., 0., 0., 0., 0., 0., 0., 0., 0., 0., 0., 0., 0., 0., 0., 0.,\n",
       "        0., 0., 0., 0., 0., 0., 0., 0., 0., 0., 0., 0., 0., 0., 0., 0.,\n",
       "        0., 0., 0., 0., 0., 0., 0., 0., 0., 0., 0., 0., 0., 0., 0., 0.,\n",
       "        0., 0., 0., 0., 0., 0., 0., 0., 0., 0., 0., 0., 0., 0., 0., 0.,\n",
       "        0., 0., 0., 0., 0., 0., 0., 0., 0., 0., 0., 0., 0., 0., 0., 0.,\n",
       "        0., 0., 0., 0., 0., 0., 0., 0., 0., 0., 0., 0., 0., 0., 0., 0.,\n",
       "        0., 0., 0., 0., 0., 0., 0., 0., 0., 0., 0., 0., 0., 0., 0., 0.,\n",
       "        0., 0., 0., 0., 0., 0., 0., 0., 0., 0., 0., 0., 0., 0., 0., 0.,\n",
       "        0., 0., 0., 0., 0., 0., 0.]])"
      ]
     },
     "execution_count": 210,
     "metadata": {},
     "output_type": "execute_result"
    }
   ],
   "source": [
    "sample"
   ]
  },
  {
   "cell_type": "code",
   "execution_count": 211,
   "metadata": {},
   "outputs": [
    {
     "data": {
      "text/plain": [
       "array(['Education'], dtype=object)"
      ]
     },
     "execution_count": 211,
     "metadata": {},
     "output_type": "execute_result"
    }
   ],
   "source": [
    "m.predict(sample)"
   ]
  },
  {
   "cell_type": "code",
   "execution_count": 212,
   "metadata": {},
   "outputs": [
    {
     "data": {
      "text/plain": [
       "array([[0.04308287, 0.45922396, 0.29560004, 0.20209312]])"
      ]
     },
     "execution_count": 212,
     "metadata": {},
     "output_type": "execute_result"
    }
   ],
   "source": [
    "m.predict_proba(sample)"
   ]
  },
  {
   "cell_type": "markdown",
   "metadata": {},
   "source": [
    "Not that accurate but it works  😄"
   ]
  },
  {
   "cell_type": "code",
   "execution_count": 213,
   "metadata": {},
   "outputs": [],
   "source": [
    "x = np.array(['asd'])"
   ]
  },
  {
   "cell_type": "code",
   "execution_count": 214,
   "metadata": {},
   "outputs": [
    {
     "data": {
      "text/plain": [
       "array(['asd'], dtype='<U3')"
      ]
     },
     "execution_count": 214,
     "metadata": {},
     "output_type": "execute_result"
    }
   ],
   "source": [
    "x"
   ]
  },
  {
   "cell_type": "code",
   "execution_count": 217,
   "metadata": {},
   "outputs": [],
   "source": [
    "p = m.predict(sample)"
   ]
  },
  {
   "cell_type": "code",
   "execution_count": 218,
   "metadata": {},
   "outputs": [
    {
     "data": {
      "text/plain": [
       "'Education'"
      ]
     },
     "execution_count": 218,
     "metadata": {},
     "output_type": "execute_result"
    }
   ],
   "source": [
    "p[0]"
   ]
  },
  {
   "cell_type": "markdown",
   "metadata": {},
   "source": [
    "# Calling the API "
   ]
  },
  {
   "cell_type": "code",
   "execution_count": 256,
   "metadata": {},
   "outputs": [],
   "source": [
    "import requests \n",
    "import json\n",
    "END_POINT = 'http://127.0.0.1:5000/api/v1/predict/'"
   ]
  },
  {
   "cell_type": "code",
   "execution_count": 257,
   "metadata": {},
   "outputs": [],
   "source": [
    "def predict(text):\n",
    "    endpoint = END_POINT+requests.utils.quote(text)\n",
    "    try:\n",
    "        r = requests.get(endpoint,timeout=3)\n",
    "        r.raise_for_status()\n",
    "        return json.loads(r.text)['prediction']\n",
    "    except requests.exceptions.HTTPError as errh:\n",
    "        print (\"Http Error:\",errh)\n",
    "    except requests.exceptions.ConnectionError as errc:\n",
    "        print (\"Error Connecting:\",errc)\n",
    "    except requests.exceptions.Timeout as errt:\n",
    "        print (\"Timeout Error:\",errt)\n",
    "    except requests.exceptions.RequestException as err:\n",
    "        print (\"OOps: Something Else\",err)\n",
    "        \n",
    "    "
   ]
  },
  {
   "cell_type": "code",
   "execution_count": 258,
   "metadata": {},
   "outputs": [
    {
     "data": {
      "text/plain": [
       "'IT'"
      ]
     },
     "execution_count": 258,
     "metadata": {},
     "output_type": "execute_result"
    }
   ],
   "source": [
    "predict(\"java developer\")"
   ]
  },
  {
   "cell_type": "code",
   "execution_count": 259,
   "metadata": {},
   "outputs": [
    {
     "data": {
      "text/plain": [
       "'Education'"
      ]
     },
     "execution_count": 259,
     "metadata": {},
     "output_type": "execute_result"
    }
   ],
   "source": [
    "predict(\"science teacher\")"
   ]
  },
  {
   "cell_type": "code",
   "execution_count": 260,
   "metadata": {},
   "outputs": [
    {
     "data": {
      "text/plain": [
       "'Accountancy'"
      ]
     },
     "execution_count": 260,
     "metadata": {},
     "output_type": "execute_result"
    }
   ],
   "source": [
    "predict(\"tax accounting\")"
   ]
  },
  {
   "cell_type": "code",
   "execution_count": 261,
   "metadata": {},
   "outputs": [
    {
     "data": {
      "text/plain": [
       "'Marketing'"
      ]
     },
     "execution_count": 261,
     "metadata": {},
     "output_type": "execute_result"
    }
   ],
   "source": [
    "predict(\"social media\")"
   ]
  },
  {
   "cell_type": "code",
   "execution_count": 269,
   "metadata": {},
   "outputs": [
    {
     "data": {
      "text/html": [
       "<div>\n",
       "<style scoped>\n",
       "    .dataframe tbody tr th:only-of-type {\n",
       "        vertical-align: middle;\n",
       "    }\n",
       "\n",
       "    .dataframe tbody tr th {\n",
       "        vertical-align: top;\n",
       "    }\n",
       "\n",
       "    .dataframe thead th {\n",
       "        text-align: right;\n",
       "    }\n",
       "</style>\n",
       "<table border=\"1\" class=\"dataframe\">\n",
       "  <thead>\n",
       "    <tr style=\"text-align: right;\">\n",
       "      <th></th>\n",
       "      <th>job title</th>\n",
       "      <th>industry</th>\n",
       "    </tr>\n",
       "  </thead>\n",
       "  <tbody>\n",
       "    <tr>\n",
       "      <th>7</th>\n",
       "      <td>devops engineer 3 global brand</td>\n",
       "      <td>IT</td>\n",
       "    </tr>\n",
       "    <tr>\n",
       "      <th>10</th>\n",
       "      <td>devops engineer 3 global brand</td>\n",
       "      <td>IT</td>\n",
       "    </tr>\n",
       "    <tr>\n",
       "      <th>11</th>\n",
       "      <td>devops engineer 3 global brand</td>\n",
       "      <td>IT</td>\n",
       "    </tr>\n",
       "    <tr>\n",
       "      <th>26</th>\n",
       "      <td>business analyst</td>\n",
       "      <td>IT</td>\n",
       "    </tr>\n",
       "    <tr>\n",
       "      <th>36</th>\n",
       "      <td>net developer</td>\n",
       "      <td>IT</td>\n",
       "    </tr>\n",
       "    <tr>\n",
       "      <th>...</th>\n",
       "      <td>...</td>\n",
       "      <td>...</td>\n",
       "    </tr>\n",
       "    <tr>\n",
       "      <th>471</th>\n",
       "      <td>trainee network technician</td>\n",
       "      <td>IT</td>\n",
       "    </tr>\n",
       "    <tr>\n",
       "      <th>472</th>\n",
       "      <td>trainee network technician</td>\n",
       "      <td>IT</td>\n",
       "    </tr>\n",
       "    <tr>\n",
       "      <th>473</th>\n",
       "      <td>trainee network technician</td>\n",
       "      <td>IT</td>\n",
       "    </tr>\n",
       "    <tr>\n",
       "      <th>474</th>\n",
       "      <td>senior java developer</td>\n",
       "      <td>IT</td>\n",
       "    </tr>\n",
       "    <tr>\n",
       "      <th>475</th>\n",
       "      <td>service solution manager 6 month fixed term</td>\n",
       "      <td>IT</td>\n",
       "    </tr>\n",
       "  </tbody>\n",
       "</table>\n",
       "<p>200 rows × 2 columns</p>\n",
       "</div>"
      ],
      "text/plain": [
       "                                       job title industry\n",
       "7                 devops engineer 3 global brand       IT\n",
       "10                devops engineer 3 global brand       IT\n",
       "11                devops engineer 3 global brand       IT\n",
       "26                              business analyst       IT\n",
       "36                                 net developer       IT\n",
       "..                                           ...      ...\n",
       "471                   trainee network technician       IT\n",
       "472                   trainee network technician       IT\n",
       "473                   trainee network technician       IT\n",
       "474                        senior java developer       IT\n",
       "475  service solution manager 6 month fixed term       IT\n",
       "\n",
       "[200 rows x 2 columns]"
      ]
     },
     "execution_count": 269,
     "metadata": {},
     "output_type": "execute_result"
    }
   ],
   "source": [
    "data[data.duplicated()][:200]"
   ]
  },
  {
   "cell_type": "code",
   "execution_count": 265,
   "metadata": {},
   "outputs": [
    {
     "data": {
      "text/plain": [
       "(8586, 2)"
      ]
     },
     "execution_count": 265,
     "metadata": {},
     "output_type": "execute_result"
    }
   ],
   "source": [
    "data.shape"
   ]
  },
  {
   "cell_type": "code",
   "execution_count": null,
   "metadata": {},
   "outputs": [],
   "source": []
  }
 ],
 "metadata": {
  "kernelspec": {
   "display_name": "Python 3",
   "language": "python",
   "name": "python3"
  },
  "language_info": {
   "codemirror_mode": {
    "name": "ipython",
    "version": 3
   },
   "file_extension": ".py",
   "mimetype": "text/x-python",
   "name": "python",
   "nbconvert_exporter": "python",
   "pygments_lexer": "ipython3",
   "version": "3.8.5"
  }
 },
 "nbformat": 4,
 "nbformat_minor": 4
}
