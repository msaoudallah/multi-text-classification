{
 "cells": [
  {
   "cell_type": "markdown",
   "metadata": {},
   "source": [
    "# Job Title Classification By Industry"
   ]
  },
  {
   "cell_type": "markdown",
   "metadata": {},
   "source": [
    "#### loading libraries"
   ]
  },
  {
   "cell_type": "code",
   "execution_count": 1,
   "metadata": {},
   "outputs": [],
   "source": [
    "import numpy as np\n",
    "import pandas as pd\n",
    "import matplotlib.pyplot as plt\n",
    "import seaborn as sns "
   ]
  },
  {
   "cell_type": "markdown",
   "metadata": {},
   "source": [
    "#### reading the dataset"
   ]
  },
  {
   "cell_type": "code",
   "execution_count": 3,
   "metadata": {},
   "outputs": [],
   "source": [
    "data = pd.read_csv(\"Job titles and industries.csv\")"
   ]
  },
  {
   "cell_type": "markdown",
   "metadata": {},
   "source": [
    "#### data exploration"
   ]
  },
  {
   "cell_type": "code",
   "execution_count": 4,
   "metadata": {},
   "outputs": [
    {
     "data": {
      "text/html": [
       "<div>\n",
       "<style scoped>\n",
       "    .dataframe tbody tr th:only-of-type {\n",
       "        vertical-align: middle;\n",
       "    }\n",
       "\n",
       "    .dataframe tbody tr th {\n",
       "        vertical-align: top;\n",
       "    }\n",
       "\n",
       "    .dataframe thead th {\n",
       "        text-align: right;\n",
       "    }\n",
       "</style>\n",
       "<table border=\"1\" class=\"dataframe\">\n",
       "  <thead>\n",
       "    <tr style=\"text-align: right;\">\n",
       "      <th></th>\n",
       "      <th>job title</th>\n",
       "      <th>industry</th>\n",
       "    </tr>\n",
       "  </thead>\n",
       "  <tbody>\n",
       "    <tr>\n",
       "      <th>0</th>\n",
       "      <td>technical support and helpdesk supervisor - co...</td>\n",
       "      <td>IT</td>\n",
       "    </tr>\n",
       "    <tr>\n",
       "      <th>1</th>\n",
       "      <td>senior technical support engineer</td>\n",
       "      <td>IT</td>\n",
       "    </tr>\n",
       "    <tr>\n",
       "      <th>2</th>\n",
       "      <td>head of it services</td>\n",
       "      <td>IT</td>\n",
       "    </tr>\n",
       "    <tr>\n",
       "      <th>3</th>\n",
       "      <td>js front end engineer</td>\n",
       "      <td>IT</td>\n",
       "    </tr>\n",
       "    <tr>\n",
       "      <th>4</th>\n",
       "      <td>network and telephony controller</td>\n",
       "      <td>IT</td>\n",
       "    </tr>\n",
       "  </tbody>\n",
       "</table>\n",
       "</div>"
      ],
      "text/plain": [
       "                                           job title industry\n",
       "0  technical support and helpdesk supervisor - co...       IT\n",
       "1                  senior technical support engineer       IT\n",
       "2                                head of it services       IT\n",
       "3                              js front end engineer       IT\n",
       "4                   network and telephony controller       IT"
      ]
     },
     "execution_count": 4,
     "metadata": {},
     "output_type": "execute_result"
    }
   ],
   "source": [
    "data.head()"
   ]
  },
  {
   "cell_type": "code",
   "execution_count": 5,
   "metadata": {},
   "outputs": [
    {
     "name": "stdout",
     "output_type": "stream",
     "text": [
      "<class 'pandas.core.frame.DataFrame'>\n",
      "RangeIndex: 8586 entries, 0 to 8585\n",
      "Data columns (total 2 columns):\n",
      " #   Column     Non-Null Count  Dtype \n",
      "---  ------     --------------  ----- \n",
      " 0   job title  8586 non-null   object\n",
      " 1   industry   8586 non-null   object\n",
      "dtypes: object(2)\n",
      "memory usage: 134.3+ KB\n"
     ]
    }
   ],
   "source": [
    "data.info()"
   ]
  },
  {
   "cell_type": "code",
   "execution_count": 6,
   "metadata": {},
   "outputs": [
    {
     "data": {
      "text/html": [
       "<div>\n",
       "<style scoped>\n",
       "    .dataframe tbody tr th:only-of-type {\n",
       "        vertical-align: middle;\n",
       "    }\n",
       "\n",
       "    .dataframe tbody tr th {\n",
       "        vertical-align: top;\n",
       "    }\n",
       "\n",
       "    .dataframe thead th {\n",
       "        text-align: right;\n",
       "    }\n",
       "</style>\n",
       "<table border=\"1\" class=\"dataframe\">\n",
       "  <thead>\n",
       "    <tr style=\"text-align: right;\">\n",
       "      <th></th>\n",
       "      <th>job title</th>\n",
       "      <th>industry</th>\n",
       "    </tr>\n",
       "  </thead>\n",
       "  <tbody>\n",
       "    <tr>\n",
       "      <th>count</th>\n",
       "      <td>8586</td>\n",
       "      <td>8586</td>\n",
       "    </tr>\n",
       "    <tr>\n",
       "      <th>unique</th>\n",
       "      <td>3890</td>\n",
       "      <td>4</td>\n",
       "    </tr>\n",
       "    <tr>\n",
       "      <th>top</th>\n",
       "      <td>marketing executive</td>\n",
       "      <td>IT</td>\n",
       "    </tr>\n",
       "    <tr>\n",
       "      <th>freq</th>\n",
       "      <td>91</td>\n",
       "      <td>4746</td>\n",
       "    </tr>\n",
       "  </tbody>\n",
       "</table>\n",
       "</div>"
      ],
      "text/plain": [
       "                  job title industry\n",
       "count                  8586     8586\n",
       "unique                 3890        4\n",
       "top     marketing executive       IT\n",
       "freq                     91     4746"
      ]
     },
     "execution_count": 6,
     "metadata": {},
     "output_type": "execute_result"
    }
   ],
   "source": [
    "data.describe()"
   ]
  },
  {
   "cell_type": "markdown",
   "metadata": {},
   "source": [
    "we have only 2 cols, both are textual , we have no nulls to worry about , but we still need to deal with text data"
   ]
  },
  {
   "cell_type": "markdown",
   "metadata": {},
   "source": [
    "#### explore the label "
   ]
  },
  {
   "cell_type": "code",
   "execution_count": 7,
   "metadata": {},
   "outputs": [],
   "source": [
    "industry = data['industry']"
   ]
  },
  {
   "cell_type": "code",
   "execution_count": 9,
   "metadata": {},
   "outputs": [
    {
     "data": {
      "text/plain": [
       "IT             0.552760\n",
       "Marketing      0.236548\n",
       "Education      0.167133\n",
       "Accountancy    0.043559\n",
       "Name: industry, dtype: float64"
      ]
     },
     "execution_count": 9,
     "metadata": {},
     "output_type": "execute_result"
    }
   ],
   "source": [
    "industry.value_counts(normalize=True)"
   ]
  },
  {
   "cell_type": "markdown",
   "metadata": {},
   "source": [
    "#### there is class impalance here , Accountancy is represented with less than 1% in data"
   ]
  },
  {
   "cell_type": "markdown",
   "metadata": {},
   "source": [
    "#### Data Visualization"
   ]
  },
  {
   "cell_type": "code",
   "execution_count": 16,
   "metadata": {},
   "outputs": [],
   "source": [
    "def hist_pie(df,target):\n",
    "    fig, ax=plt.subplots(1,2,figsize=(15,6))\n",
    "    _ = sns.histplot(x=target, data=df, ax=ax[0],bins=4,hue=target,)\n",
    "    _ = df[target].value_counts().plot.pie(autopct=\"%1.1f%%\", ax=ax[1])"
   ]
  },
  {
   "cell_type": "code",
   "execution_count": 17,
   "metadata": {},
   "outputs": [
    {
     "data": {
      "image/png": "[encoded data removed]",
      "text/plain": [
       "<Figure size 1080x432 with 2 Axes>"
      ]
     },
     "metadata": {
      "needs_background": "light"
     },
     "output_type": "display_data"
    }
   ],
   "source": [
    "hist_pie(data,'industry')"
   ]
  },
  {
   "cell_type": "markdown",
   "metadata": {},
   "source": [
    "### Data Preprocessing"
   ]
  },
  {
   "cell_type": "markdown",
   "metadata": {},
   "source": [
    "since machine learning models accepts only numbers , we need to deal with \"job title\" column"
   ]
  },
  {
   "cell_type": "code",
   "execution_count": 36,
   "metadata": {},
   "outputs": [],
   "source": [
    "job_title = [a for a in data['job title'].values] "
   ]
  },
  {
   "cell_type": "code",
   "execution_count": 37,
   "metadata": {},
   "outputs": [
    {
     "data": {
      "text/plain": [
       "['technical support and helpdesk supervisor - county buildings, ayr soa04086',\n",
       " 'senior technical support engineer',\n",
       " 'head of it services',\n",
       " 'js front end engineer',\n",
       " 'network and telephony controller',\n",
       " 'privileged access management expert',\n",
       " 'devops engineers x 3 - global brand',\n",
       " 'devops engineers x 3 - global brand',\n",
       " 'data modeller',\n",
       " 'php web developer £45,000 based in london',\n",
       " 'devops engineers x 3 - global brand',\n",
       " 'devops engineers x 3 - global brand',\n",
       " 'solution / technical architect - ethical brand',\n",
       " 'lead developer - ethical brand',\n",
       " 'junior front-end developer',\n",
       " 'vb .net web developer, milton keynes, £45k',\n",
       " 'data scientist, newcastle, up to £40k',\n",
       " 'senior bi engineer',\n",
       " 'machine learning engineer',\n",
       " 'full stack developer, oxfordshire, £40k',\n",
       " 'c# software developer, waltham cross, £55k',\n",
       " 'senior data engineer',\n",
       " 'erp support analyst - unit4, agresso business world',\n",
       " 'application support analyst - cheshire - financial services',\n",
       " 'accountancy software trainer - manchester - remote working',\n",
       " 'business analyst',\n",
       " 'business analyst',\n",
       " 'delivery lead',\n",
       " 'devops engineer x 2 temp - county buildings, ayr soa04079',\n",
       " 'it change and problem analyst',\n",
       " 'data science - product manager',\n",
       " 'development team lead',\n",
       " 'project manager',\n",
       " '.net developer',\n",
       " 'senior web developer',\n",
       " 'java developer',\n",
       " '.net developer',\n",
       " 'business analyst',\n",
       " 'lead data engineer',\n",
       " 'ict technician',\n",
       " 'infrastructure architect',\n",
       " 'front end developer contract',\n",
       " 'java developer - dv cleared - contract',\n",
       " 'senior ios developer',\n",
       " 'ui developer',\n",
       " 'senior data engineer - machine learning',\n",
       " 'solution architect',\n",
       " 'front end javascript developer (react.js), £55k, 4 days remote, 1 day ascot',\n",
       " 'application support analyst - dynamics - central london - £competative',\n",
       " 'civils agent / manager',\n",
       " 'application support analyst',\n",
       " 'devops engineer',\n",
       " 'part time web editor with search',\n",
       " 'senior bi analyst',\n",
       " 'junior-mid level developer',\n",
       " 'php/drupal web developer',\n",
       " 'junior web developer',\n",
       " 'marketing bi analyst',\n",
       " 'product manager - £65-70,000 - great career progression',\n",
       " 'digital insight analyst',\n",
       " 'bi data architect',\n",
       " 'senior network consulting engineer',\n",
       " 'python developer - leading fintech greenfield projects',\n",
       " 'cloud platform engineer',\n",
       " 'paid search specialist',\n",
       " 'senior python developer',\n",
       " 'head of data & analytics',\n",
       " 'senior software engineer',\n",
       " 'bi manager',\n",
       " 'bi developer',\n",
       " 'bi analyst',\n",
       " 'data architect',\n",
       " 'junior data architect',\n",
       " 'analytics manager',\n",
       " 'data analyst',\n",
       " 'full-stack developer',\n",
       " 'graduate it administrator',\n",
       " 'data scientist',\n",
       " 'data engineer',\n",
       " 'bi developer',\n",
       " '3rd line infrastructure support engineer - £40-45,000',\n",
       " 'head of leadership analytics',\n",
       " 'powerbi developer',\n",
       " 'bi developer',\n",
       " 'data analyst',\n",
       " 'bi developer',\n",
       " 'data analyst',\n",
       " 'data analyst',\n",
       " 'lead digital analyst',\n",
       " 'it infrastructure analyst',\n",
       " 'senior java developer',\n",
       " 'devops engineer',\n",
       " 'senior devops engineer',\n",
       " 'infrastructure manager',\n",
       " 'senior software engineer - java',\n",
       " 'devops engineer - birmingham - docker - kubernetes',\n",
       " 'senior software engineer',\n",
       " 'lead java developer',\n",
       " 'software developer - c# .net javascript',\n",
       " 'senior java developer',\n",
       " 'java developer',\n",
       " 'datatcentre support analyst  linux, ms server 2016',\n",
       " 'infrastructure engineer',\n",
       " 'software quality assurance qa',\n",
       " 'web developer',\n",
       " 'software developer',\n",
       " 'software test engineer',\n",
       " 'senior network engineer',\n",
       " 'it support engineer, 2nd/3rd line, witney',\n",
       " 'php developer',\n",
       " 'qa lead',\n",
       " 'technical customer support engineer - windows',\n",
       " 'finance epm applications analyst',\n",
       " 'javascript web developer',\n",
       " 'senior .net developer',\n",
       " 'java developer - poland',\n",
       " 'java data engineer',\n",
       " 'sap ewm / wm lead consultant',\n",
       " 'product manager - sports trading',\n",
       " 'project manager - sportsbook',\n",
       " 'java it support engineer',\n",
       " 'java developer - j2ee',\n",
       " 'chief architect - back end',\n",
       " 'java developer all levels',\n",
       " 'it support engineer - level 2 - hosting, servers, cloud',\n",
       " 'professional services consultant - implementation - paris',\n",
       " 'professional services consultant - software - paris',\n",
       " 'professional services consultant - based in paris, france',\n",
       " 'clinical engineering manager',\n",
       " 'tech support',\n",
       " 'product owner - payments',\n",
       " 'epm applications analyst - finance',\n",
       " 'ch0834 - web development officers',\n",
       " 'software engineer',\n",
       " 'business application team lead - finance',\n",
       " 'business application team lead - hr/payroll',\n",
       " 'hardware engineer',\n",
       " 'client service and database operations executive',\n",
       " 'software consultant',\n",
       " 'devops engineer',\n",
       " 'data quality kpi analyst',\n",
       " 'customer service',\n",
       " 'unified communications manager',\n",
       " 'database manager charity sector',\n",
       " 'technical lead',\n",
       " 'php developer - chesterfield - £17,000 to £25,000 - javascript',\n",
       " 'lead data scientist',\n",
       " 'games artist - west yorkshire - up to £30,000 - 2d and 3d',\n",
       " 'devops engineer',\n",
       " 'experienced web & systems developer',\n",
       " 'dynamics crm functional consultant',\n",
       " 'javascript developer angular',\n",
       " 'global head of data management',\n",
       " 'mdm architect',\n",
       " 'full stack javascript developer - html, css, node.js - plymouth',\n",
       " 'data analyst',\n",
       " 'trainee it support - no experience required',\n",
       " 'trainee it support - no experience required',\n",
       " 'trainee it support - no experience required',\n",
       " 'trainee it support - no experience required',\n",
       " 'trainee it support - no experience required',\n",
       " 'trainee it support - no experience required',\n",
       " 'trainee it support - no experience required',\n",
       " 'trainee it support - no experience required',\n",
       " 'automation anywhere developer - contract',\n",
       " 'trainee it support - no experience required',\n",
       " 'trainee it support - no experience required',\n",
       " 'project manager/ it',\n",
       " 'trainee it support - no experience required',\n",
       " 'trainee it support - no experience required',\n",
       " 'trainee it support - no experience required',\n",
       " 'trainee it support - no experience required',\n",
       " 'trainee it support - no experience required',\n",
       " 'trainee it support - no experience required',\n",
       " 'trainee it support - no experience required',\n",
       " 'trainee it support - no experience required',\n",
       " 'trainee it support - no experience required',\n",
       " 'trainee it support - no experience required',\n",
       " 'trainee it support - no experience required',\n",
       " 'trainee it support - no experience required',\n",
       " 'data quality',\n",
       " 'global service delivery lead',\n",
       " 'it support / windows / linux / networking / vmware £28-35k',\n",
       " 'data quality analyst',\n",
       " 'javascript developer - react or angular',\n",
       " 'java developer',\n",
       " 'senior java developer',\n",
       " '.net developer',\n",
       " 'junior / graduate software developer, c# / asp.net',\n",
       " 'low latency java developer - contract',\n",
       " 'c# developer',\n",
       " '.net developer',\n",
       " 'big data architect azure',\n",
       " 'senior analytics qa engineer',\n",
       " 'software development team lead',\n",
       " 'software support analyst - fleet - £40k',\n",
       " 'software developer',\n",
       " 'mobile developer (ios/android)',\n",
       " 'supplier assurance advisor - information security',\n",
       " '.net developer',\n",
       " 'software developer',\n",
       " 'application support analyst (sql server)',\n",
       " 'senior software developer',\n",
       " 'test automation engineer',\n",
       " 'sales development representative - £32k ote',\n",
       " 'technical team lead - c# & sql',\n",
       " 'lead nodejs developer',\n",
       " 'project manager',\n",
       " 'senior software developer',\n",
       " 'project manager',\n",
       " 'hpc infrastructure engineer',\n",
       " 'entry level developer - c#',\n",
       " '1st line support - service desk analyst - (£25,000 - £28,000) 12 months',\n",
       " '3rd line support analyst',\n",
       " 'full-stack .net / c# mvc developer - leicestershire',\n",
       " 'php developer',\n",
       " 'cloud engineer',\n",
       " 'software engineer',\n",
       " 'data analyst - sql',\n",
       " 'senior software engineer',\n",
       " 'ux lead',\n",
       " 'senior software engineer',\n",
       " 'it  support analyst',\n",
       " 'client onboarding support',\n",
       " 'client onboarding support',\n",
       " 'client support advisor',\n",
       " 'data analyst',\n",
       " 'application support analyst',\n",
       " 'web services & sharepoint administrator',\n",
       " 'infrastructure analyst',\n",
       " 'php developer',\n",
       " 'business solutions analyst',\n",
       " 'development tech lead',\n",
       " 'full-stack developer',\n",
       " 'full stack developer - .net, c#, sql, html, css, rest, asp.net',\n",
       " 'front end developer / web developer contract',\n",
       " 'web developer (agency)',\n",
       " 'it service analyst',\n",
       " 'junior business analyst',\n",
       " 'security engineer',\n",
       " 'network support engineer',\n",
       " 'user researcher',\n",
       " 'broadband support technician',\n",
       " 'it technician',\n",
       " 'technical consultant',\n",
       " 'junior data analyst',\n",
       " 'technology consultant',\n",
       " 'it support analyst - ormskirk, lancashire- £30,000',\n",
       " 'business analyst ba',\n",
       " 'lead front end developer',\n",
       " 'salesforce consultant / business analyst',\n",
       " 'ux designer',\n",
       " 'global business intelligence developer',\n",
       " 'sql developer',\n",
       " 'data analyst',\n",
       " 'network lead',\n",
       " 'it support engineer, 2nd/3rd line, witney',\n",
       " 'it business analyst',\n",
       " 'application architect - devops',\n",
       " 'senior infrastructure engineer',\n",
       " 'head of mi',\n",
       " 'front end developer',\n",
       " 'java developer',\n",
       " 'government it consultants',\n",
       " 'sql developer',\n",
       " 'senior systems engineer',\n",
       " 'business intelligence developer',\n",
       " 'java developer - spring, hibernate, agile',\n",
       " 'senior project manager must have telecoms experience',\n",
       " 'project manager telecoms experience required',\n",
       " 'software developer',\n",
       " 'software engineer - javascript, node.js',\n",
       " '2nd line support',\n",
       " 'php  laravel developer',\n",
       " 'product designer - elegant, innovative, experience enhancing',\n",
       " 'android developer',\n",
       " 'ios developer',\n",
       " 'manual tester data warehouse',\n",
       " 'data analyst - business analyst within data - etl analyst',\n",
       " 'sql developer with strong unix scripting skills - invest in you',\n",
       " 'front-end developer - angular typescript / es6, bleeding edge',\n",
       " 'start up senior software engineer - free thinker, microservices',\n",
       " 'start up software engineer - free thinker, microservices',\n",
       " 'internet economy senior full stack engineer - react, java, es6',\n",
       " 'internet economy senior full stack engineer - react, java, es6',\n",
       " 'internet economy senior mobile software engineer - native apps',\n",
       " 'internet economy senior full stack engineer - react, java, es6',\n",
       " 'internet economy senior back end software engineer -distributed',\n",
       " 'internet economy senior back end software engineer -distributed',\n",
       " 'internet economy senior back end software engineer -distributed',\n",
       " 'java developer with interest in big data - train kafka, hadoop',\n",
       " 'java enterprise developer - spring, supportive culture, invest',\n",
       " 'java software engineer - sdlc, r&d, agile, innovative, 1.8',\n",
       " 'security software engineer - java or c#, security architecture',\n",
       " 'linux systems administrator - gcp, devops, ci / cd',\n",
       " 'informatica developer - migration, dwh, oracle, pl/sql',\n",
       " 'senior java software engineer / java application architect',\n",
       " 'application architect - looking to security architecture',\n",
       " 'java software engineer / java developer - low-latency, agile',\n",
       " 'product designer - elegant, innovative, experience enhancing',\n",
       " 'android developer',\n",
       " 'ios developer',\n",
       " 'manual tester data warehouse',\n",
       " 'data analyst - business analyst within data - etl analyst',\n",
       " 'sql developer with strong unix scripting skills - invest in you',\n",
       " 'front-end developer - angular typescript / es6, bleeding edge',\n",
       " 'start up senior software engineer - free thinker, microservices',\n",
       " 'start up software engineer - free thinker, microservices',\n",
       " 'internet economy senior full stack engineer - react, java, es6',\n",
       " 'internet economy senior full stack engineer - react, java, es6',\n",
       " 'internet economy senior mobile software engineer - native apps',\n",
       " 'internet economy senior full stack engineer - react, java, es6',\n",
       " 'internet economy senior back end software engineer -distributed',\n",
       " 'internet economy senior back end software engineer -distributed',\n",
       " 'internet economy senior back end software engineer -distributed',\n",
       " 'java developer with interest in big data - train kafka, hadoop',\n",
       " 'java enterprise developer - spring, supportive culture, invest',\n",
       " 'java software engineer - sdlc, r&d, agile, innovative, 1.8',\n",
       " 'security software engineer - java or c#, security architecture',\n",
       " 'linux systems administrator - gcp, devops, ci / cd',\n",
       " 'informatica developer - migration, dwh, oracle, pl/sql',\n",
       " 'senior java software engineer / java application architect',\n",
       " 'application architect - looking to security architecture',\n",
       " 'java software engineer / java developer - low-latency, agile',\n",
       " 'infrastructure support officer',\n",
       " 'ict support assistant',\n",
       " 'infrastructure support officer',\n",
       " 'ict support assistant',\n",
       " 'data analyst transaction monitoring',\n",
       " 'data analyst',\n",
       " 'mainframe specialist',\n",
       " '3rd line infrastructure engineer microsoft',\n",
       " 'screening automation application developer',\n",
       " \"2 x oracle  / ms sql dba's - glasgow\",\n",
       " 'senior middleware developer',\n",
       " 'middleware developer',\n",
       " 'devops engineer',\n",
       " 'technical designer - infrastructure & networks',\n",
       " 'platform engineer',\n",
       " 'aws platform engineer',\n",
       " 'technical support engineer',\n",
       " 'technical infrastructure engineer',\n",
       " 'web developer - php, mongodb',\n",
       " 'product designer - elegant, innovative, experience enhancing',\n",
       " 'android developer',\n",
       " 'ios developer',\n",
       " 'manual tester data warehouse',\n",
       " 'data analyst - business analyst within data - etl analyst',\n",
       " 'sql developer with strong unix scripting skills - invest in you',\n",
       " 'front-end developer - angular typescript / es6, bleeding edge',\n",
       " 'start up senior software engineer - free thinker, microservices',\n",
       " 'data analyst transaction monitoring',\n",
       " 'data analyst',\n",
       " 'mainframe specialist',\n",
       " '3rd line infrastructure engineer microsoft',\n",
       " 'screening automation application developer',\n",
       " \"2 x oracle  / ms sql dba's - glasgow\",\n",
       " 'senior middleware developer',\n",
       " 'middleware developer',\n",
       " 'devops engineer',\n",
       " 'technical designer - infrastructure & networks',\n",
       " 'platform engineer',\n",
       " 'aws platform engineer',\n",
       " 'technical support engineer',\n",
       " 'technical infrastructure engineer',\n",
       " 'web developer - php, mongodb',\n",
       " 'product designer - elegant, innovative, experience enhancing',\n",
       " 'android developer',\n",
       " 'ios developer',\n",
       " 'manual tester data warehouse',\n",
       " 'data analyst - business analyst within data - etl analyst',\n",
       " 'sql developer with strong unix scripting skills - invest in you',\n",
       " 'front-end developer - angular typescript / es6, bleeding edge',\n",
       " 'start up senior software engineer - free thinker, microservices',\n",
       " 'data analyst transaction monitoring',\n",
       " 'devops engineer',\n",
       " 'technical designer - infrastructure & networks',\n",
       " 'platform engineer',\n",
       " 'aws platform engineer',\n",
       " 'technical support engineer',\n",
       " 'technical infrastructure engineer',\n",
       " 'web developer - php, mongodb',\n",
       " 'product designer - elegant, innovative, experience enhancing',\n",
       " 'android developer',\n",
       " 'ios developer',\n",
       " 'manual tester data warehouse',\n",
       " 'data analyst - business analyst within data - etl analyst',\n",
       " 'sql developer with strong unix scripting skills - invest in you',\n",
       " 'front-end developer - angular typescript / es6, bleeding edge',\n",
       " 'start up senior software engineer - free thinker, microservices',\n",
       " 'data analyst transaction monitoring',\n",
       " 'infrastructure support officer',\n",
       " 'ict support assistant',\n",
       " 'infrastructure support officer',\n",
       " 'ict support assistant',\n",
       " 'data analyst transaction monitoring',\n",
       " 'data analyst',\n",
       " 'mainframe specialist',\n",
       " '3rd line infrastructure engineer microsoft',\n",
       " 'screening automation application developer',\n",
       " \"2 x oracle  / ms sql dba's - glasgow\",\n",
       " 'senior middleware developer',\n",
       " 'middleware developer',\n",
       " 'devops engineer',\n",
       " 'technical designer - infrastructure & networks',\n",
       " 'platform engineer',\n",
       " 'aws platform engineer',\n",
       " 'technical support engineer',\n",
       " 'technical infrastructure engineer',\n",
       " 'web developer - php, mongodb',\n",
       " 'product designer - elegant, innovative, experience enhancing',\n",
       " 'android developer',\n",
       " 'ios developer',\n",
       " 'manual tester data warehouse',\n",
       " 'data analyst - business analyst within data - etl analyst',\n",
       " 'sql developer with strong unix scripting skills - invest in you',\n",
       " 'front-end developer - angular typescript / es6, bleeding edge',\n",
       " 'start up senior software engineer - free thinker, microservices',\n",
       " 'trainee network technician',\n",
       " 'test analyst',\n",
       " 'trainee network technician',\n",
       " 'senior systems engineer (299jc)',\n",
       " 'trainee network technician',\n",
       " '2nd line support engineer',\n",
       " 'graduate service desk analyst',\n",
       " 'trainee network technician',\n",
       " 'systems manager - ormskirk, lancashire- £30,000',\n",
       " 'trainee network technician',\n",
       " 'trainee network technician',\n",
       " 'trainee network technician',\n",
       " 'business analyst - it',\n",
       " 'automation tester - essex - £50k',\n",
       " 'devops engineers - jnr, mid, snr, lead - multiple roles',\n",
       " 'full stack developer',\n",
       " 'database developer',\n",
       " 'senior project manager',\n",
       " 'erp implementation project manager',\n",
       " '1st line support',\n",
       " 'back end developer',\n",
       " 'software developer',\n",
       " 'service solutions manager (6 months fixed term)',\n",
       " 'trainee network technician',\n",
       " 'trainee network technician',\n",
       " 'junior it consultant',\n",
       " 'trainee network technician',\n",
       " 'floorwalker',\n",
       " 'support technician',\n",
       " 'business analyst',\n",
       " 'trainee network technician',\n",
       " 'senior project consultant',\n",
       " 'it trainer',\n",
       " 'trainee network technician',\n",
       " 'sales business executive',\n",
       " 'it support engineer',\n",
       " 'data migration consultant',\n",
       " 'javascript - node',\n",
       " 'associate cyber security consultant',\n",
       " 'trainee network technician',\n",
       " 'trainee network technician',\n",
       " 'business analyst',\n",
       " 'service solutions manager (6 months fixed term)',\n",
       " 'trainee network technician',\n",
       " 'trainee network technician',\n",
       " 'technical support manager (6 months fixed term)',\n",
       " 'service solutions manager (6 months fixed term)',\n",
       " 'software development manager',\n",
       " 'technical support manager (6 months fixed term)',\n",
       " 'cyber security consulting manager',\n",
       " 'trainee network technician',\n",
       " 'junior/mid c# developer',\n",
       " 'data officer',\n",
       " 'trainee network technician',\n",
       " 'trainee network technician',\n",
       " 'trainee network technician',\n",
       " 'senior java developer',\n",
       " 'service solutions manager (6 months fixed term)',\n",
       " 'technical support manager (6 months fixed term)',\n",
       " 'software developer',\n",
       " 'software development manager',\n",
       " 'software development manager',\n",
       " 'technical support manager (6 months fixed term)',\n",
       " 'cyber security consulting manager',\n",
       " 'trainee network technician',\n",
       " 'junior/mid c# developer',\n",
       " 'data officer',\n",
       " 'trainee network technician',\n",
       " 'trainee network technician',\n",
       " 'trainee network technician',\n",
       " 'senior java developer',\n",
       " 'trainee network technician',\n",
       " 'trainee network technician',\n",
       " 'trainee network technician',\n",
       " 'trainee network technician',\n",
       " 'trainee network technician',\n",
       " 'graduate front end designer/developer',\n",
       " 'trainee network technician',\n",
       " 'senior cyber security consultant',\n",
       " 'trainee network technician',\n",
       " 'trainee network technician',\n",
       " 'trainee network technician',\n",
       " 'junior it consultant',\n",
       " 'trainee network technician',\n",
       " 'service solutions manager (6 months fixed term)',\n",
       " 'senior quality assurance (qa) engineer',\n",
       " 'trainee network technician',\n",
       " 'it analyst',\n",
       " 'it professional',\n",
       " 'trainee network technician',\n",
       " 'trainee network technician',\n",
       " 'trainee network technician',\n",
       " 'trainee network technician',\n",
       " 'trainee network technician',\n",
       " 'it project manager',\n",
       " 'trainee network technician',\n",
       " 'trainee network technician',\n",
       " 'trainee network technician',\n",
       " 'trainee network technician',\n",
       " 'trainee network technician',\n",
       " 'trainee network technician',\n",
       " 'senior project manager - i.t services',\n",
       " 'trainee network technician',\n",
       " 'trainee network technician',\n",
       " 'senior network engineer',\n",
       " 'trainee network technician',\n",
       " 'trainee network technician',\n",
       " 'cloud engineer',\n",
       " 'trainee network technician',\n",
       " 'product manager insurance / financial it systems  software',\n",
       " 'trainee network technician',\n",
       " 'data quality analyst',\n",
       " 'devops engineer',\n",
       " '3rd line support engineer, infrastructure',\n",
       " 'senior solutions engineer, infrastructure',\n",
       " 'infrastructure manager - hands on opportunity to work from home',\n",
       " 'technical support engineer, retail',\n",
       " 'full stack developer',\n",
       " 'infrastructure support engineer, sponsored vcp certification',\n",
       " 'full stack java developer',\n",
       " 'ad ops manager',\n",
       " 'network support manager, senior network engineer',\n",
       " 'delivery manager - solihull',\n",
       " 'java developer',\n",
       " 'mdm architect',\n",
       " 'head of data governance',\n",
       " 'it support/1st-2nd line/desktop engineer',\n",
       " '3rd line support engineer, infrastructure',\n",
       " 'senior solutions engineer, infrastructure',\n",
       " 'infrastructure manager - hands on opportunity to work from home',\n",
       " 'technical support engineer, retail',\n",
       " 'full stack developer',\n",
       " 'infrastructure support engineer, sponsored vcp certification',\n",
       " 'full stack java developer',\n",
       " 'ad ops manager',\n",
       " 'network support manager, senior network engineer',\n",
       " 'delivery manager - solihull',\n",
       " 'java developer',\n",
       " 'software developer',\n",
       " 'c# / .net developer',\n",
       " 'dev-ops engineer',\n",
       " 'web developer',\n",
       " 'javascript developer',\n",
       " 'software engineer',\n",
       " 'software engineer',\n",
       " 'junior software developer',\n",
       " 'software developer',\n",
       " 'service desk support analyst',\n",
       " '.net developer',\n",
       " 'java based graduate developer, central norwich, £21,000pa + excellent benefits & salary progression',\n",
       " 'project manager / digital / technology / agile / doncaster',\n",
       " 'quality control analyst',\n",
       " 'junior rails developer',\n",
       " 'mi developer',\n",
       " 'senior software engineer (full stack)',\n",
       " '.net developer',\n",
       " 'senior front-end ui developer',\n",
       " 'aws dev ops engineer',\n",
       " 'software tester',\n",
       " 'senior ios engineer - designing native ios apps',\n",
       " 'service desk support analyst',\n",
       " 'technical architect',\n",
       " 'technical director',\n",
       " 'project manager insurance / financial services systems',\n",
       " '2nd line / sql server professional',\n",
       " 'agile business analyst',\n",
       " 'project manager',\n",
       " 'it service technician',\n",
       " 'python engineer',\n",
       " 'data analyst',\n",
       " 'digital customer experience executive',\n",
       " 'toots technician',\n",
       " 'commercial analyst',\n",
       " 'systems architect',\n",
       " '1st line customer service',\n",
       " 'customer service technical support',\n",
       " 'software test engineer',\n",
       " 'service desk technician 1st line',\n",
       " 'group it network engineer',\n",
       " 'windows 10 migration engineer',\n",
       " 'information security manager - cyber security',\n",
       " 'front end developer',\n",
       " 'angular developer',\n",
       " 'web developer',\n",
       " 'project manager / doncaster',\n",
       " 'vb.net developer',\n",
       " 'head of digital marketing - ksa  riyadh',\n",
       " '.net developer',\n",
       " 'privileged access identity management specialist',\n",
       " 'sap otc consultant',\n",
       " 'senior business change analyst',\n",
       " 'senior cro consultant - digital agency - london - £55000 - international travel opportunities',\n",
       " 'software procurement consultant : global energy co.',\n",
       " 'android lead',\n",
       " '3rd line infrastructure engineer',\n",
       " 'qlik sence',\n",
       " 'xwgc docucare asda',\n",
       " 'partner account manager',\n",
       " 'php web developer - mysql',\n",
       " 'field engineer - managed services - camden £30-40k',\n",
       " 'senior software developer',\n",
       " 'software developer graduate programme - april start',\n",
       " '3rd line engineer',\n",
       " 'front-end ui developer',\n",
       " 'senior business analyst',\n",
       " 'ux designer',\n",
       " 'change management consultant',\n",
       " 'product manager',\n",
       " 'senior service desk analyst',\n",
       " 'devops engineer',\n",
       " 'chief executive officer - cyber security services',\n",
       " 'senior ux/ui designer',\n",
       " 'infrastructure project manager',\n",
       " 'smart meter training lead',\n",
       " 'salesforce administrator',\n",
       " 'digital product manager',\n",
       " 'software developer (level 2)',\n",
       " 'full stack developer - educational technology company',\n",
       " 'it support engineer - travel throughout london',\n",
       " 'senior web developer',\n",
       " 'azure devops engineer',\n",
       " 'contract front end developer',\n",
       " 'sql data analyst',\n",
       " 'php developer',\n",
       " 'software developer (level 3)',\n",
       " 'php web developer - west london',\n",
       " 'full stack javascript developer - html, css, node.js - bristol',\n",
       " 'head of infrastructure / infrastructure manager, oxford, £80k',\n",
       " 'infrastructure engineer',\n",
       " 'field engineer - managed services - stratford £30-40k',\n",
       " 'it security officer',\n",
       " 'android developer',\n",
       " 'system administrator',\n",
       " 'infrastructure engineer',\n",
       " 'windows systems administrator',\n",
       " 'crm developer',\n",
       " 'full stack developer - javascript',\n",
       " 'technical support analyst (fintech) - central london - £30k -£60k',\n",
       " 'test/ senior test engineers',\n",
       " 'javascript developer',\n",
       " 'technology project management - aop lead',\n",
       " 'support and operations engineer',\n",
       " 'server engineer - manchester - £250 - £275',\n",
       " 'api integration developer',\n",
       " '1st line technical support',\n",
       " 'xml developer',\n",
       " 'java engineer',\n",
       " 'business analyst',\n",
       " 'support analyst',\n",
       " 'senior technical support engineer',\n",
       " 'embedded software engineer',\n",
       " 'digital workplace consultant - surrey - £60k',\n",
       " 'junior/graduate c#.net developer, oxfordshire',\n",
       " 'it helpdesk technical support analyst',\n",
       " 'web developer',\n",
       " 'front end web developer',\n",
       " 'front end developer',\n",
       " 'it electronic security design engineer',\n",
       " 'software developer',\n",
       " 'software developer',\n",
       " 'back end developer',\n",
       " 'software developer',\n",
       " 'application support engineer sql',\n",
       " 'operations support analyst',\n",
       " '.net developers needed - brno!',\n",
       " 'it service management and design consultant - milton keynes',\n",
       " '2nd line helpdesk support engineer',\n",
       " 'service desk analyst',\n",
       " 'it project engineer',\n",
       " '3rd line it engineer',\n",
       " '2nd line engineer',\n",
       " 'agile test analyst',\n",
       " 'agile automation test specialist',\n",
       " 'service desk analyst',\n",
       " '2nd line it engineer',\n",
       " 'it support engineer',\n",
       " 'citrix engineer',\n",
       " 'aem adobe consultant role: £100-120k basic salary, plus bonus & benefits (multinational)',\n",
       " 'platform integration engineer',\n",
       " 'application support analyst',\n",
       " 'business support executive/product owner',\n",
       " 'senior technical manager',\n",
       " 'php developer',\n",
       " 'cloud contact centre consultant - genesys - uk & ireland',\n",
       " 'data analyst',\n",
       " 'customer service technician (it help desk)',\n",
       " 'pre-sales engineer',\n",
       " 'data engineer',\n",
       " 'server engineer',\n",
       " 'contact centre business analyst / engineer - genesys - dublin',\n",
       " 'senior network engineer',\n",
       " 'backend engineer',\n",
       " 'php / filemaker developer - graduates welcome',\n",
       " 'electrical service engineer',\n",
       " 'business analyst - private banking/change',\n",
       " 'digital project manager',\n",
       " 'contact centre engineer - genesys - london',\n",
       " 'react native developer',\n",
       " 'senior back end developer - malta',\n",
       " 'web developer',\n",
       " 'project manager / business analyst  - fix',\n",
       " 'service desk team leader',\n",
       " 'infrastructure technician',\n",
       " 'senior it support engineer',\n",
       " 'technical support analyst',\n",
       " 'c# software developer .net mvc',\n",
       " 'software engineer kotlin, spring boot, kafka',\n",
       " 'key account manager',\n",
       " 'ict support engineer x2- county buildings, ayr soa04142',\n",
       " 'devops technician x4 - county buildings, ayr soa04149',\n",
       " 'buisness analyst oracle',\n",
       " 'contract test automation engineer - javascript - cypress',\n",
       " 'sap pi consultant',\n",
       " 'it engineer hosting team',\n",
       " 'lead developer',\n",
       " 'ui developer',\n",
       " 'technical services engineer',\n",
       " 'technical services engineer',\n",
       " 'technical services engineer',\n",
       " 'technical services engineer',\n",
       " 'senior network engineer',\n",
       " 'java developer',\n",
       " 'senior java developer',\n",
       " 'java developer',\n",
       " 'mid weight php / drupal developer - with flexible working - bristol',\n",
       " 'agresso systems support / software support',\n",
       " 'scrum master agile',\n",
       " 'senior angular developer - with flexible working - bristol or based remotely',\n",
       " 'principal software engineer',\n",
       " 'frontend developer - £450 p/d',\n",
       " 'scrum master',\n",
       " 'java developer - e-commerce',\n",
       " 'senior software engineer - polyglot skills / agile',\n",
       " 'software developer',\n",
       " 'it technical manager',\n",
       " 'infrastructure architect, enterprise, windows, togaf',\n",
       " 'service desk analyst',\n",
       " 'service desk analyst',\n",
       " 'contract php / laravel developer - immediate start',\n",
       " 'full stack developer',\n",
       " 'senior java developer',\n",
       " 'full stack developer',\n",
       " 'php developer - west midlands - £400 per day',\n",
       " 'web developer - london agency - £50,000',\n",
       " 'salesforce developer - contract',\n",
       " 'mdm architect',\n",
       " 'head of data governance',\n",
       " 'it support/1st-2nd line/desktop engineer',\n",
       " 'data quality analyst',\n",
       " 'devops engineer',\n",
       " '3rd line support engineer, infrastructure',\n",
       " 'senior solutions engineer, infrastructure',\n",
       " 'infrastructure manager - hands on opportunity to work from home',\n",
       " 'technical support engineer, retail',\n",
       " 'full stack developer',\n",
       " 'infrastructure support engineer, sponsored vcp certification',\n",
       " 'full stack java developer',\n",
       " 'ad ops manager',\n",
       " 'network support manager, senior network engineer',\n",
       " 'delivery manager - solihull',\n",
       " 'java developer',\n",
       " 'software developer',\n",
       " 'c# / .net developer',\n",
       " 'dev-ops engineer',\n",
       " 'web developer',\n",
       " 'javascript developer',\n",
       " 'software engineer',\n",
       " 'software engineer',\n",
       " 'junior software developer',\n",
       " 'software developer',\n",
       " 'development team lead',\n",
       " 'lead developer',\n",
       " 'test architect - test manager',\n",
       " 'software developer',\n",
       " 'biztalk developer',\n",
       " '.net developer',\n",
       " 'senior network engineer, wireless, wifi',\n",
       " '.net developer - greenfield project - multiple roles',\n",
       " 'network build manager, network manager, isp, telco',\n",
       " 'senior react native developer',\n",
       " 'servicenow consultant',\n",
       " 'network engineer, isp, telecoms, broadband, cable',\n",
       " 'network / infrastructure engineer - projects',\n",
       " 'network engineer, isp, telecoms, broadband, cable',\n",
       " 'senior it support engineer - stand alone it engineer role',\n",
       " 'graduate it support engineer',\n",
       " 'network architect, network designer,isp',\n",
       " 'database administrator',\n",
       " 'deployment engineer - linux, windows, sql, oracle',\n",
       " 'network architect, network designer,isp',\n",
       " 'application support specialist',\n",
       " 'front-end developer',\n",
       " 'senior solutions engineer, infrastructure',\n",
       " 'senior devops engineer - london - £80k',\n",
       " 'network build manager, network manager, isp, telco',\n",
       " 'senior it support engineer, 1st-3rd line, manufacturing',\n",
       " 'c# developer',\n",
       " 'python developer - contract',\n",
       " 'drupal developer',\n",
       " 'project manager security clearance needed',\n",
       " '.net developer - angular - greenfield project',\n",
       " 'senior it service engineer',\n",
       " 'devops analyst - fintech -windows, cloud, scripting, powershell',\n",
       " 'senior react developer',\n",
       " 'servicenow testing & transition lead',\n",
       " 'application support analyst',\n",
       " 'it technical support analyst, training in 3rd line',\n",
       " 'product manager',\n",
       " 'senior full-stack developer  bristol',\n",
       " 'senior infrastructure engineer - windows server & azure',\n",
       " 'junior drupal web developer',\n",
       " 'ux designer',\n",
       " 'test automation engineer - £35 - £45k - leeds - digital agency',\n",
       " 'development manager - west london - £85-90k',\n",
       " 'front end developer',\n",
       " 'business analyst',\n",
       " 'business analyst systems',\n",
       " 'digital product analyst - great benefits!',\n",
       " 'php developer',\n",
       " 'test and product compliance manager',\n",
       " 'assistant systems administrator',\n",
       " 'commercial analyst (revenue & pricing analytics)',\n",
       " 'project manager - surrey - £35,000 - £45,000',\n",
       " 'senior software engineer',\n",
       " 'software engineer - polyglot - central bristol',\n",
       " 'junior project manager',\n",
       " 'c# .net software engineer',\n",
       " 'c# .net developer',\n",
       " 'junior php developer',\n",
       " 'ux designer',\n",
       " 'field engineer',\n",
       " 'digital transformation manager',\n",
       " 'linux production support engineer',\n",
       " 'sap project manager',\n",
       " 'senior it governance & assurance analyst',\n",
       " 'javascript developer',\n",
       " 'help desk analyst',\n",
       " 'bi developer',\n",
       " 'it coordinator',\n",
       " 'business analyst business process',\n",
       " 'software developer',\n",
       " 'devops engineer - award winning ecommerce tech company',\n",
       " 'technical support analyst',\n",
       " 'servicenow consultant',\n",
       " 'technical support specialist',\n",
       " 'business analyst it',\n",
       " 'solutions architect',\n",
       " 'ux designer',\n",
       " 'java developer',\n",
       " 'desktop support',\n",
       " '1st line support engineer contract',\n",
       " 'test analyst',\n",
       " 'senior digital analyst',\n",
       " 'pos support',\n",
       " 'data analyst',\n",
       " 'qube analyst and systems developer - real estate - london',\n",
       " 'javascript developer - bristol - £45,000',\n",
       " 'euc specialist',\n",
       " 'c++ software engineer',\n",
       " 'tech lead - data engineering',\n",
       " 'platform engineer',\n",
       " 'epos or pc or computer field service engineer / technical courier - southampton / bournemouth',\n",
       " 'incident manager',\n",
       " 'mid / senior developer',\n",
       " 'software engineer',\n",
       " 'java developer',\n",
       " 'senior java developer',\n",
       " '3rd line support engineer, infrastructure',\n",
       " 'data scientist',\n",
       " 'it business analyst',\n",
       " 'lead developer',\n",
       " 'infrastructure engineer',\n",
       " 'qa engineer - up to £20,000 doe - preston',\n",
       " 'business development manager',\n",
       " 'infrastructure system team leader',\n",
       " 'graduate test engineer',\n",
       " 'graduate it software support',\n",
       " 'data analyst',\n",
       " 'senior ruby on rails developer - permanent - london - hiring now!',\n",
       " 'it support specialist',\n",
       " 'data scientist / machine learning engineer',\n",
       " 'change analyst - contract',\n",
       " 'project consultant',\n",
       " 'full-stack developer role',\n",
       " 'ms dynamics ax business analyst',\n",
       " 'process automation senior manager',\n",
       " 'fullstack developer',\n",
       " 'service desk analyst - desktop - sharepoint - o365 - 1st line',\n",
       " 'network analyst',\n",
       " 'infrastructure engineer',\n",
       " 'junior developer',\n",
       " 'interim programme manager ir35',\n",
       " 'senior business analyst',\n",
       " 'product manager cyber - wimborne - £30,000-£45,000',\n",
       " 'ms dynamics ax business analyst',\n",
       " 'field service technician',\n",
       " 'helpdesk analyst',\n",
       " 'helpdesk operative',\n",
       " 'senior systems architect - scotstoun - contract role',\n",
       " 'permanent - qa tester - london',\n",
       " 'senior information security analyst',\n",
       " 'technical support specialist',\n",
       " 'software developer',\n",
       " 'ux designer, user experience, ucd, usability testing, adobe, css, html, javascript',\n",
       " 'project support',\n",
       " 'it systems engineer - it / security',\n",
       " 'senior it infrastructure engineer - £50k',\n",
       " 'contract business analyst',\n",
       " 'junior python developer',\n",
       " 'digital product designer',\n",
       " 'product tech lead',\n",
       " 'application support analyst',\n",
       " 'senior pmo analyst - brighton',\n",
       " 'senior network engineer ferndown- £45,000 benefits',\n",
       " 'project support/project planner - windows 10',\n",
       " 'it systems engineer',\n",
       " 'product manager - £65-70,000 - great career progression',\n",
       " 'graduate implementation engineer - preston - £20,000',\n",
       " '2nd line engineer',\n",
       " 'laravel/vue.js developer',\n",
       " '3rd line support engineer',\n",
       " 'business analyst',\n",
       " 'it support analyst',\n",
       " 'it engineer (1st & 2nd line) - uxbridge, uk - £150 - £175 per day - 3 days per week',\n",
       " 'data scientist',\n",
       " 'software developer',\n",
       " 'it support engineer / ict technician / field engineer',\n",
       " 'change project manager / financial services',\n",
       " 'devops engineer',\n",
       " 'windows 10 rollout engineer',\n",
       " 'software developer',\n",
       " 'it support engineer',\n",
       " '.net core - 6 month contract - reigate - competitive rates',\n",
       " 'is business partner',\n",
       " 'first line support technician - poole - £17,000-£19,000',\n",
       " 'ict senior communications engineer',\n",
       " 'junior it support engineer',\n",
       " 'project support co-ordinator - £19/£20 per hour paye',\n",
       " 'web developer',\n",
       " 'solution architect',\n",
       " 'software developer vb6 and c#',\n",
       " 'java software engineer',\n",
       " 'infrastructure engineer - 3rd line',\n",
       " 'penetration tester - multinational company',\n",
       " 'senior python software developer - bristol - python, agile',\n",
       " 'digital analyst implementation',\n",
       " 'system analyst - 18 month contract',\n",
       " 'php developer - symfony',\n",
       " 'elasticsearch / elastic stack developer/engineer',\n",
       " 'front end developer - preston - up to £37,000',\n",
       " 'lead devops engineer',\n",
       " 'contract python developer required',\n",
       " 'java developers central scotland',\n",
       " 'senior helpdesk analyst',\n",
       " 'integration technical leads',\n",
       " 'test engineer',\n",
       " 'solutions architect',\n",
       " 'lead devops engineer',\n",
       " 'infrastructure engineer - contract - £300 - £325 per day',\n",
       " 'principal devops engineer',\n",
       " 'software engineer - c# mvc',\n",
       " 'principal java engineer',\n",
       " 'automation tester - jmeter',\n",
       " 'dba lead',\n",
       " 'solution architect',\n",
       " 'senior business analyst',\n",
       " 'ux designer',\n",
       " 'software engineer, python,  healthcare solutions',\n",
       " 'solution architect',\n",
       " 'helpdesk manager',\n",
       " 'it support engineer',\n",
       " 'project manager',\n",
       " 'technical writer - bristol',\n",
       " 'senior/lead developer',\n",
       " 'software engineer - java',\n",
       " 'systems, information & support manager',\n",
       " 'bi sql developer',\n",
       " 'it programme manager claims delivery ivr self-serve portals',\n",
       " 'software engineer - c#',\n",
       " 'senior software developer - c# & java',\n",
       " 'senior software developer - poole - £45-50,000 p.a.',\n",
       " 'infrastructure engineer',\n",
       " ...]"
      ]
     },
     "execution_count": 37,
     "metadata": {},
     "output_type": "execute_result"
    }
   ],
   "source": [
    "job_title"
   ]
  },
  {
   "cell_type": "code",
   "execution_count": 38,
   "metadata": {},
   "outputs": [],
   "source": [
    "job_title_length = [len(a.split(' ')) for a in data['job title'].values] "
   ]
  },
  {
   "cell_type": "code",
   "execution_count": 39,
   "metadata": {},
   "outputs": [
    {
     "data": {
      "text/plain": [
       "(20, 1, 4.102958304216166, 2.3872424939232766)"
      ]
     },
     "execution_count": 39,
     "metadata": {},
     "output_type": "execute_result"
    }
   ],
   "source": [
    "max(job_title_length), min(job_title_length), np.mean(job_title_length), np.std(job_title_length)"
   ]
  },
  {
   "cell_type": "code",
   "execution_count": 41,
   "metadata": {
    "scrolled": true
   },
   "outputs": [
    {
     "data": {
      "text/plain": [
       "<seaborn.axisgrid.FacetGrid at 0x1ad9e648400>"
      ]
     },
     "execution_count": 41,
     "metadata": {},
     "output_type": "execute_result"
    },
    {
     "data": {
      "image/png": "[encoded data removed]",
      "text/plain": [
       "<Figure size 360x360 with 1 Axes>"
      ]
     },
     "metadata": {
      "needs_background": "light"
     },
     "output_type": "display_data"
    }
   ],
   "source": [
    "sns.displot(job_title_length)"
   ]
  },
  {
   "cell_type": "markdown",
   "metadata": {},
   "source": [
    "little bit tricky since there is special characters , punctuation and othre stuff we need to deal with"
   ]
  },
  {
   "cell_type": "markdown",
   "metadata": {},
   "source": [
    "###### generating wordcloud for the titles"
   ]
  },
  {
   "cell_type": "code",
   "execution_count": 95,
   "metadata": {
    "scrolled": false
   },
   "outputs": [
    {
     "data": {
      "image/png": "[encoded data removed]",
      "text/plain": [
       "<Figure size 432x288 with 1 Axes>"
      ]
     },
     "metadata": {
      "needs_background": "light"
     },
     "output_type": "display_data"
    }
   ],
   "source": [
    "from wordcloud import WordCloud\n",
    "text = \" \".join(cat.split()[0] for cat in data['job title'])\n",
    "word_cloud = WordCloud(collocations = False, background_color = 'white').generate(text)\n",
    "plt.imshow(word_cloud, interpolation='bilinear')\n",
    "plt.axis(\"off\")\n",
    "plt.show()"
   ]
  },
  {
   "cell_type": "markdown",
   "metadata": {},
   "source": [
    "###### word count for each word in job titles"
   ]
  },
  {
   "cell_type": "code",
   "execution_count": 96,
   "metadata": {
    "scrolled": true
   },
   "outputs": [
    {
     "data": {
      "text/plain": [
       "-                     2100.0\n",
       "developer             1411.0\n",
       "engineer              1039.0\n",
       "manager                901.0\n",
       "marketing              881.0\n",
       "                       ...  \n",
       "graduates-teaching       1.0\n",
       "groupwork                1.0\n",
       "wrexham                  1.0\n",
       "berwyn,                  1.0\n",
       "(arabic/english)         1.0\n",
       "Length: 2711, dtype: float64"
      ]
     },
     "execution_count": 96,
     "metadata": {},
     "output_type": "execute_result"
    }
   ],
   "source": [
    "data['job title'].apply(lambda x: pd.value_counts(x.split(\" \"))).sum(axis = 0).sort_values(ascending=False)"
   ]
  },
  {
   "cell_type": "markdown",
   "metadata": {},
   "source": [
    " we need to clean job title first before converting it to separate features"
   ]
  },
  {
   "cell_type": "code",
   "execution_count": 97,
   "metadata": {},
   "outputs": [
    {
     "name": "stderr",
     "output_type": "stream",
     "text": [
      "[nltk_data] Downloading package wordnet to\n",
      "[nltk_data]     C:\\Users\\20100\\AppData\\Roaming\\nltk_data...\n",
      "[nltk_data]   Package wordnet is already up-to-date!\n"
     ]
    }
   ],
   "source": [
    "import re\n",
    "nltk.download('wordnet')\n",
    "from nltk.stem import WordNetLemmatizer\n",
    "stemmer = WordNetLemmatizer()\n",
    "\n",
    "def clean_text(df):\n",
    "    title_descriptions = []\n",
    "    for i in range(len(df)):\n",
    "        title_description = str(df.iloc[i,0])\n",
    "#         print(title_description)\n",
    "        \n",
    "        # Remove all the special characters\n",
    "        title_description = re.sub(r'\\W', ' ', str(df.iloc[i,0]))\n",
    "\n",
    "        # remove all single characters\n",
    "        title_description = re.sub(r'\\s+[a-zA-Z]\\s+', ' ', title_description)\n",
    "\n",
    "        # Remove single characters from the start ; eg : a \n",
    "        title_description = re.sub(r'\\^[a-zA-Z]\\s+', ' ', title_description) \n",
    "\n",
    "        # Substituting multiple spaces with single space\n",
    "        title_description = re.sub(r'\\s+', ' ', title_description, flags=re.I)\n",
    "\n",
    "        # Converting to Lowercase\n",
    "        title_description = title_description.lower()\n",
    "\n",
    "        # Lemmatization , to send words back to its root\n",
    "        title_description = title_description.split()\n",
    "\n",
    "        title_description = [stemmer.lemmatize(word) for word in title_description]\n",
    "        title_description = ' '.join(title_description)\n",
    "\n",
    "        title_descriptions.append(title_description)\n",
    "    return title_descriptions"
   ]
  },
  {
   "cell_type": "code",
   "execution_count": 66,
   "metadata": {},
   "outputs": [],
   "source": [
    "job_titles = clean_text(data)"
   ]
  },
  {
   "cell_type": "code",
   "execution_count": 98,
   "metadata": {},
   "outputs": [],
   "source": [
    "data['job title'] = job_titles"
   ]
  },
  {
   "cell_type": "code",
   "execution_count": 99,
   "metadata": {},
   "outputs": [],
   "source": [
    "#import necessarry libraries\n",
    "\n",
    "from sklearn.feature_extraction.text import CountVectorizer,FeatureHasher ,HashingVectorizer, TfidfVectorizer\n",
    "import nltk\n",
    "# nltk.download('stopwords')\n",
    "import pickle\n",
    "from nltk.corpus import stopwords"
   ]
  },
  {
   "cell_type": "markdown",
   "metadata": {},
   "source": [
    "use the bag of words model to convert text documents into corresponding numerical features, use TFIDF to measue word frequency among all job decriptions"
   ]
  },
  {
   "cell_type": "code",
   "execution_count": 109,
   "metadata": {},
   "outputs": [],
   "source": [
    "vectorizer = TfidfVectorizer(max_features=1000, min_df=5, max_df=0.7, stop_words=stopwords.words('english'))\n",
    "X = vectorizer.fit_transform(job_titles).toarray()"
   ]
  },
  {
   "cell_type": "code",
   "execution_count": 110,
   "metadata": {},
   "outputs": [
    {
     "data": {
      "text/plain": [
       "array([[0., 0., 0., ..., 0., 0., 0.],\n",
       "       [0., 0., 0., ..., 0., 0., 0.],\n",
       "       [0., 0., 0., ..., 0., 0., 0.],\n",
       "       ...,\n",
       "       [0., 0., 0., ..., 0., 0., 0.],\n",
       "       [0., 0., 0., ..., 0., 0., 0.],\n",
       "       [0., 0., 0., ..., 0., 0., 0.]])"
      ]
     },
     "execution_count": 110,
     "metadata": {},
     "output_type": "execute_result"
    }
   ],
   "source": [
    "X"
   ]
  },
  {
   "cell_type": "code",
   "execution_count": 111,
   "metadata": {},
   "outputs": [
    {
     "data": {
      "text/plain": [
       "(8586, 679)"
      ]
     },
     "execution_count": 111,
     "metadata": {},
     "output_type": "execute_result"
    }
   ],
   "source": [
    "X.shape"
   ]
  },
  {
   "cell_type": "markdown",
   "metadata": {},
   "source": [
    "we have only distinct 679 after removing the stopwords"
   ]
  },
  {
   "cell_type": "markdown",
   "metadata": {},
   "source": [
    "out data is a sparse data , there is many techniques to handle this ( we will visit FeatureHasher later)"
   ]
  },
  {
   "cell_type": "markdown",
   "metadata": {},
   "source": [
    "# Data Modeling"
   ]
  },
  {
   "cell_type": "markdown",
   "metadata": {},
   "source": [
    "### Unsupervised learning "
   ]
  },
  {
   "cell_type": "markdown",
   "metadata": {},
   "source": [
    "kmeans clustering"
   ]
  },
  {
   "cell_type": "code",
   "execution_count": 137,
   "metadata": {},
   "outputs": [
    {
     "data": {
      "text/plain": [
       "array([0, 1, 0, ..., 2, 2, 0])"
      ]
     },
     "execution_count": 137,
     "metadata": {},
     "output_type": "execute_result"
    }
   ],
   "source": [
    "from sklearn.cluster import KMeans\n",
    "km = KMeans(n_clusters=4)\n",
    "km.fit(X)\n",
    "km.labels_\n"
   ]
  },
  {
   "cell_type": "code",
   "execution_count": 170,
   "metadata": {},
   "outputs": [
    {
     "data": {
      "text/html": [
       "<div>\n",
       "<style scoped>\n",
       "    .dataframe tbody tr th:only-of-type {\n",
       "        vertical-align: middle;\n",
       "    }\n",
       "\n",
       "    .dataframe tbody tr th {\n",
       "        vertical-align: top;\n",
       "    }\n",
       "\n",
       "    .dataframe thead th {\n",
       "        text-align: right;\n",
       "    }\n",
       "</style>\n",
       "<table border=\"1\" class=\"dataframe\">\n",
       "  <thead>\n",
       "    <tr style=\"text-align: right;\">\n",
       "      <th>col_0</th>\n",
       "      <th>0</th>\n",
       "      <th>1</th>\n",
       "      <th>2</th>\n",
       "      <th>3</th>\n",
       "    </tr>\n",
       "    <tr>\n",
       "      <th>industry</th>\n",
       "      <th></th>\n",
       "      <th></th>\n",
       "      <th></th>\n",
       "      <th></th>\n",
       "    </tr>\n",
       "  </thead>\n",
       "  <tbody>\n",
       "    <tr>\n",
       "      <th>Accountancy</th>\n",
       "      <td>370</td>\n",
       "      <td>1</td>\n",
       "      <td>3</td>\n",
       "      <td>0</td>\n",
       "    </tr>\n",
       "    <tr>\n",
       "      <th>Education</th>\n",
       "      <td>1397</td>\n",
       "      <td>6</td>\n",
       "      <td>23</td>\n",
       "      <td>9</td>\n",
       "    </tr>\n",
       "    <tr>\n",
       "      <th>IT</th>\n",
       "      <td>2331</td>\n",
       "      <td>1059</td>\n",
       "      <td>17</td>\n",
       "      <td>1339</td>\n",
       "    </tr>\n",
       "    <tr>\n",
       "      <th>Marketing</th>\n",
       "      <td>1151</td>\n",
       "      <td>7</td>\n",
       "      <td>849</td>\n",
       "      <td>24</td>\n",
       "    </tr>\n",
       "  </tbody>\n",
       "</table>\n",
       "</div>"
      ],
      "text/plain": [
       "col_0           0     1    2     3\n",
       "industry                          \n",
       "Accountancy   370     1    3     0\n",
       "Education    1397     6   23     9\n",
       "IT           2331  1059   17  1339\n",
       "Marketing    1151     7  849    24"
      ]
     },
     "execution_count": 170,
     "metadata": {},
     "output_type": "execute_result"
    }
   ],
   "source": [
    "pd.crosstab(y,km.labels_)"
   ]
  },
  {
   "cell_type": "markdown",
   "metadata": {},
   "source": [
    "there is heavy overlapping for IT and marketing classes with other classes"
   ]
  },
  {
   "cell_type": "markdown",
   "metadata": {},
   "source": [
    "T-SNE"
   ]
  },
  {
   "cell_type": "code",
   "execution_count": 139,
   "metadata": {},
   "outputs": [
    {
     "data": {
      "text/plain": [
       "(8586, 679)"
      ]
     },
     "execution_count": 139,
     "metadata": {},
     "output_type": "execute_result"
    }
   ],
   "source": [
    "X.shape"
   ]
  },
  {
   "cell_type": "code",
   "execution_count": 141,
   "metadata": {},
   "outputs": [],
   "source": [
    "from sklearn.manifold import TSNE\n",
    "\n",
    "t = TSNE(n_components=2,learning_rate=100)\n",
    "X_new = t.fit_transform(X)"
   ]
  },
  {
   "cell_type": "code",
   "execution_count": null,
   "metadata": {},
   "outputs": [],
   "source": [
    "color"
   ]
  },
  {
   "cell_type": "code",
   "execution_count": 145,
   "metadata": {},
   "outputs": [
    {
     "data": {
      "text/plain": [
       "<AxesSubplot:>"
      ]
     },
     "execution_count": 145,
     "metadata": {},
     "output_type": "execute_result"
    },
    {
     "data": {
      "image/png": "[encoded data removed]",
      "text/plain": [
       "<Figure size 432x288 with 1 Axes>"
      ]
     },
     "metadata": {
      "needs_background": "light"
     },
     "output_type": "display_data"
    }
   ],
   "source": [
    "sns.scatterplot(x=X_new[:,0],y=X_new[:,1],hue=y)"
   ]
  },
  {
   "cell_type": "markdown",
   "metadata": {},
   "source": [
    "there is a little bit overlap, specially for Accountancy jobs, they're not distinguishable easily like other titles "
   ]
  },
  {
   "cell_type": "markdown",
   "metadata": {},
   "source": [
    "### split for testing"
   ]
  },
  {
   "cell_type": "markdown",
   "metadata": {},
   "source": [
    "we will use kfold validation to get more confident about out local score"
   ]
  },
  {
   "cell_type": "code",
   "execution_count": 165,
   "metadata": {},
   "outputs": [],
   "source": [
    "from sklearn.metrics import confusion_matrix,ConfusionMatrixDisplay, accuracy_score\n",
    "from sklearn.model_selection import KFold\n",
    "from sklearn.naive_bayes import MultinomialNB\n",
    "from sklearn.ensemble import RandomForestClassifier,GradientBoostingClassifier\n",
    "from sklearn.svm import SVC\n",
    "from sklearn.linear_model import LogisticRegression"
   ]
  },
  {
   "cell_type": "code",
   "execution_count": 166,
   "metadata": {},
   "outputs": [
    {
     "name": "stdout",
     "output_type": "stream",
     "text": [
      "MultinomialNB()\n",
      "fold 1  train accuracy is 0.9199184624344787\n",
      "fold 1  test accuracy is 0.9161816065192084\n",
      "fold 2  train accuracy is 0.9218226816130441\n",
      "fold 2  test accuracy is 0.9097262667443214\n",
      "fold 3  train accuracy is 0.9200757024312127\n",
      "fold 3  test accuracy is 0.9143855562026791\n",
      "fold 4  train accuracy is 0.9215315184160722\n",
      "fold 4  test accuracy is 0.9132207338380897\n",
      "fold 5  train accuracy is 0.9218226816130441\n",
      "fold 5  test accuracy is 0.9138031450203844\n",
      "=============\n",
      "RandomForestClassifier()\n",
      "fold 1  train accuracy is 0.9768491555037857\n",
      "fold 1  test accuracy is 0.929569266589057\n",
      "fold 2  train accuracy is 0.9771436890377057\n",
      "fold 2  test accuracy is 0.935934769947583\n",
      "fold 3  train accuracy is 0.9758334546513321\n",
      "fold 3  test accuracy is 0.9411764705882353\n",
      "fold 4  train accuracy is 0.9771436890377057\n",
      "fold 4  test accuracy is 0.930110658124636\n",
      "fold 5  train accuracy is 0.9771436890377057\n",
      "fold 5  test accuracy is 0.9394292370413512\n",
      "=============\n",
      "SVC()\n",
      "fold 1  train accuracy is 0.9630168899242866\n",
      "fold 1  test accuracy is 0.9423748544819558\n",
      "fold 2  train accuracy is 0.964186926772456\n",
      "fold 2  test accuracy is 0.9336051252184042\n",
      "fold 3  train accuracy is 0.9622943659921386\n",
      "fold 3  test accuracy is 0.94175888177053\n",
      "fold 4  train accuracy is 0.9654971611588296\n",
      "fold 4  test accuracy is 0.9306930693069307\n",
      "fold 5  train accuracy is 0.9628766923860824\n",
      "fold 5  test accuracy is 0.9400116482236459\n",
      "=============\n",
      "GradientBoostingClassifier()\n",
      "fold 1  train accuracy is 0.9245777518928363\n",
      "fold 1  test accuracy is 0.8987194412107101\n",
      "fold 2  train accuracy is 0.9218226816130441\n",
      "fold 2  test accuracy is 0.9050669772859639\n",
      "fold 3  train accuracy is 0.9224050080069879\n",
      "fold 3  test accuracy is 0.9079790331974374\n",
      "fold 4  train accuracy is 0.9245887319842772\n",
      "fold 4  test accuracy is 0.895165987186954\n",
      "fold 5  train accuracy is 0.925171058378221\n",
      "fold 5  test accuracy is 0.9073966220151427\n",
      "=============\n",
      "LogisticRegression()\n",
      "fold 1  train accuracy is 0.9349155503785672\n",
      "fold 1  test accuracy is 0.9260768335273574\n",
      "fold 2  train accuracy is 0.9359440966661814\n",
      "fold 2  test accuracy is 0.9231217239370996\n",
      "fold 3  train accuracy is 0.9359440966661814\n",
      "fold 3  test accuracy is 0.9242865463016889\n",
      "fold 4  train accuracy is 0.9366720046586111\n",
      "fold 4  test accuracy is 0.9213744903902155\n",
      "fold 5  train accuracy is 0.9378366574464988\n",
      "fold 5  test accuracy is 0.9248689574839837\n",
      "=============\n"
     ]
    }
   ],
   "source": [
    "X,y = X,data['industry']\n",
    "\n",
    "\n",
    "models = [MultinomialNB(),RandomForestClassifier(),SVC(),GradientBoostingClassifier(),LogisticRegression()]\n",
    "# models = [MultinomialNB()]\n",
    "\n",
    "results = []\n",
    "kf = KFold(n_splits=5,random_state=1,shuffle=True)\n",
    "for model in models:\n",
    "    print(model)\n",
    "    i=1\n",
    "    for train_index, test_index in kf.split(X,y):\n",
    "                X_train, X_test = X[train_index], X[test_index]\n",
    "                y_train, y_test = y.iloc[train_index], y.iloc[test_index]\n",
    "    #             sm = BorderlineSMOTE()\n",
    "    #             X_train, y_train = sm.fit_resample(X_train, y_train)\n",
    "                model.fit(X_train,y_train)\n",
    "                preds_test = model.predict(X_test)\n",
    "                preds_train = model.predict(X_train)        \n",
    "                preds_test = model.predict(X_test)\n",
    "                print(\"fold {}  train accuracy is {}\".format(i,accuracy_score(y_train,preds_train)))\n",
    "                print(\"fold {}  test accuracy is {}\".format(i,accuracy_score(y_test,preds_test)))\n",
    "#                 results.append([model,i ,accuracy_score(y_train,preds_train), accuracy_score(y_test,preds_test)])\n",
    "\n",
    "                i+=1\n",
    "#                 cm = confusion_matrix(y_test,preds_test)\n",
    "#                 ConfusionMatrixDisplay(cm).plot()\n",
    "#                 plt.xticks(rotation=90)\n",
    "#                 plt.show()  \n",
    "    print(\"=============\")\n",
    "\n"
   ]
  },
  {
   "cell_type": "markdown",
   "metadata": {},
   "source": [
    "lets try the same but try to balance classes"
   ]
  },
  {
   "cell_type": "code",
   "execution_count": 168,
   "metadata": {},
   "outputs": [
    {
     "name": "stdout",
     "output_type": "stream",
     "text": [
      "MultinomialNB()\n",
      "fold 1  train accuracy is 0.923492230708454\n",
      "fold 1  test accuracy is 0.9033760186263097\n",
      "fold 2  train accuracy is 0.9229298523206751\n",
      "fold 2  test accuracy is 0.9044845661036692\n",
      "fold 3  train accuracy is 0.9261423319327731\n",
      "fold 3  test accuracy is 0.9172976121141526\n",
      "fold 4  train accuracy is 0.9242524477374967\n",
      "fold 4  test accuracy is 0.9015725101921956\n",
      "fold 5  train accuracy is 0.9283088235294118\n",
      "fold 5  test accuracy is 0.912638322655795\n",
      "=============\n",
      "RandomForestClassifier()\n",
      "fold 1  train accuracy is 0.9855807216223335\n",
      "fold 1  test accuracy is 0.9225844004656577\n",
      "fold 2  train accuracy is 0.9862869198312236\n",
      "fold 2  test accuracy is 0.9283634245777519\n",
      "fold 3  train accuracy is 0.9845719537815126\n",
      "fold 3  test accuracy is 0.9365171811298777\n",
      "fold 4  train accuracy is 0.9862397459645409\n",
      "fold 4  test accuracy is 0.9289458357600466\n",
      "fold 5  train accuracy is 0.9852284663865546\n",
      "fold 5  test accuracy is 0.9318578916715201\n",
      "=============\n",
      "SVC()\n",
      "fold 1  train accuracy is 0.9655649196734264\n",
      "fold 1  test accuracy is 0.9318975552968568\n",
      "fold 2  train accuracy is 0.9671017932489452\n",
      "fold 2  test accuracy is 0.9324403028538147\n",
      "fold 3  train accuracy is 0.9655987394957983\n",
      "fold 3  test accuracy is 0.9411764705882353\n",
      "fold 4  train accuracy is 0.9671209314633501\n",
      "fold 4  test accuracy is 0.9248689574839837\n",
      "fold 5  train accuracy is 0.9680278361344538\n",
      "fold 5  test accuracy is 0.9365171811298777\n",
      "=============\n",
      "GradientBoostingClassifier()\n",
      "fold 1  train accuracy is 0.9358704240189624\n",
      "fold 1  test accuracy is 0.9039580908032596\n",
      "fold 2  train accuracy is 0.9393459915611815\n",
      "fold 2  test accuracy is 0.9033197437390798\n",
      "fold 3  train accuracy is 0.9368434873949579\n",
      "fold 3  test accuracy is 0.9149679673849738\n",
      "fold 4  train accuracy is 0.9410558348769515\n",
      "fold 4  test accuracy is 0.9050669772859639\n",
      "fold 5  train accuracy is 0.9342174369747899\n",
      "fold 5  test accuracy is 0.895165987186954\n",
      "=============\n",
      "LogisticRegression()\n"
     ]
    },
    {
     "name": "stderr",
     "output_type": "stream",
     "text": [
      "C:\\Users\\20100\\AppData\\Roaming\\Python\\Python38\\site-packages\\sklearn\\linear_model\\_logistic.py:762: ConvergenceWarning: lbfgs failed to converge (status=1):\n",
      "STOP: TOTAL NO. of ITERATIONS REACHED LIMIT.\n",
      "\n",
      "Increase the number of iterations (max_iter) or scale the data as shown in:\n",
      "    https://scikit-learn.org/stable/modules/preprocessing.html\n",
      "Please also refer to the documentation for alternative solver options:\n",
      "    https://scikit-learn.org/stable/modules/linear_model.html#logistic-regression\n",
      "  n_iter_i = _check_optimize_result(\n"
     ]
    },
    {
     "name": "stdout",
     "output_type": "stream",
     "text": [
      "fold 1  train accuracy is 0.9359362654727417\n",
      "fold 1  test accuracy is 0.9208381839348079\n"
     ]
    },
    {
     "name": "stderr",
     "output_type": "stream",
     "text": [
      "C:\\Users\\20100\\AppData\\Roaming\\Python\\Python38\\site-packages\\sklearn\\linear_model\\_logistic.py:762: ConvergenceWarning: lbfgs failed to converge (status=1):\n",
      "STOP: TOTAL NO. of ITERATIONS REACHED LIMIT.\n",
      "\n",
      "Increase the number of iterations (max_iter) or scale the data as shown in:\n",
      "    https://scikit-learn.org/stable/modules/preprocessing.html\n",
      "Please also refer to the documentation for alternative solver options:\n",
      "    https://scikit-learn.org/stable/modules/linear_model.html#logistic-regression\n",
      "  n_iter_i = _check_optimize_result(\n"
     ]
    },
    {
     "name": "stdout",
     "output_type": "stream",
     "text": [
      "fold 2  train accuracy is 0.9382911392405063\n",
      "fold 2  test accuracy is 0.9161327897495631\n"
     ]
    },
    {
     "name": "stderr",
     "output_type": "stream",
     "text": [
      "C:\\Users\\20100\\AppData\\Roaming\\Python\\Python38\\site-packages\\sklearn\\linear_model\\_logistic.py:762: ConvergenceWarning: lbfgs failed to converge (status=1):\n",
      "STOP: TOTAL NO. of ITERATIONS REACHED LIMIT.\n",
      "\n",
      "Increase the number of iterations (max_iter) or scale the data as shown in:\n",
      "    https://scikit-learn.org/stable/modules/preprocessing.html\n",
      "Please also refer to the documentation for alternative solver options:\n",
      "    https://scikit-learn.org/stable/modules/linear_model.html#logistic-regression\n",
      "  n_iter_i = _check_optimize_result(\n"
     ]
    },
    {
     "name": "stdout",
     "output_type": "stream",
     "text": [
      "fold 3  train accuracy is 0.9408482142857143\n",
      "fold 3  test accuracy is 0.9254513686662784\n"
     ]
    },
    {
     "name": "stderr",
     "output_type": "stream",
     "text": [
      "C:\\Users\\20100\\AppData\\Roaming\\Python\\Python38\\site-packages\\sklearn\\linear_model\\_logistic.py:762: ConvergenceWarning: lbfgs failed to converge (status=1):\n",
      "STOP: TOTAL NO. of ITERATIONS REACHED LIMIT.\n",
      "\n",
      "Increase the number of iterations (max_iter) or scale the data as shown in:\n",
      "    https://scikit-learn.org/stable/modules/preprocessing.html\n",
      "Please also refer to the documentation for alternative solver options:\n",
      "    https://scikit-learn.org/stable/modules/linear_model.html#logistic-regression\n",
      "  n_iter_i = _check_optimize_result(\n"
     ]
    },
    {
     "name": "stdout",
     "output_type": "stream",
     "text": [
      "fold 4  train accuracy is 0.9325879862397459\n",
      "fold 4  test accuracy is 0.906814210832848\n",
      "fold 5  train accuracy is 0.9410451680672269\n",
      "fold 5  test accuracy is 0.9202096680256261\n",
      "=============\n"
     ]
    },
    {
     "name": "stderr",
     "output_type": "stream",
     "text": [
      "C:\\Users\\20100\\AppData\\Roaming\\Python\\Python38\\site-packages\\sklearn\\linear_model\\_logistic.py:762: ConvergenceWarning: lbfgs failed to converge (status=1):\n",
      "STOP: TOTAL NO. of ITERATIONS REACHED LIMIT.\n",
      "\n",
      "Increase the number of iterations (max_iter) or scale the data as shown in:\n",
      "    https://scikit-learn.org/stable/modules/preprocessing.html\n",
      "Please also refer to the documentation for alternative solver options:\n",
      "    https://scikit-learn.org/stable/modules/linear_model.html#logistic-regression\n",
      "  n_iter_i = _check_optimize_result(\n"
     ]
    }
   ],
   "source": [
    "from imblearn.over_sampling import SMOTE\n",
    "\n",
    "X,y = X,data['industry']\n",
    "\n",
    "\n",
    "models = [MultinomialNB(),RandomForestClassifier(),SVC(),GradientBoostingClassifier(),LogisticRegression()]\n",
    "# models = [MultinomialNB()]\n",
    "\n",
    "results = []\n",
    "kf = KFold(n_splits=5,random_state=1,shuffle=True)\n",
    "for model in models:\n",
    "    print(model)\n",
    "    i=1\n",
    "    for train_index, test_index in kf.split(X,y):\n",
    "                X_train, X_test = X[train_index], X[test_index]\n",
    "                y_train, y_test = y.iloc[train_index], y.iloc[test_index]\n",
    "                sm = SMOTE()\n",
    "                X_train, y_train = sm.fit_resample(X_train, y_train)\n",
    "                model.fit(X_train,y_train)\n",
    "                preds_test = model.predict(X_test)\n",
    "                preds_train = model.predict(X_train)        \n",
    "                preds_test = model.predict(X_test)\n",
    "                print(\"fold {}  train accuracy is {}\".format(i,accuracy_score(y_train,preds_train)))\n",
    "                print(\"fold {}  test accuracy is {}\".format(i,accuracy_score(y_test,preds_test)))\n",
    "#                 results.append([model,i ,accuracy_score(y_train,preds_train), accuracy_score(y_test,preds_test)])\n",
    "\n",
    "                i+=1\n",
    "#                 cm = confusion_matrix(y_test,preds_test)\n",
    "#                 ConfusionMatrixDisplay(cm).plot()\n",
    "#                 plt.xticks(rotation=90)\n",
    "#                 plt.show()  \n",
    "    print(\"=============\")\n"
   ]
  },
  {
   "cell_type": "code",
   "execution_count": null,
   "metadata": {},
   "outputs": [],
   "source": []
  },
  {
   "cell_type": "markdown",
   "metadata": {},
   "source": [
    "#### from above results we can conclude that SVM with no oversampling is the best classifier"
   ]
  },
  {
   "cell_type": "markdown",
   "metadata": {},
   "source": [
    "#### tuning SVC classifier parameters"
   ]
  },
  {
   "cell_type": "code",
   "execution_count": 171,
   "metadata": {},
   "outputs": [],
   "source": [
    "from sklearn.model_selection import train_test_split\n",
    "from sklearn.model_selection import GridSearchCV\n",
    "from sklearn.metrics import classification_report, confusion_matrix\n",
    "\n",
    "\n",
    "param_grid = {'C':[1,10,100,1000],'gamma':[10,1,0.1,0.001,0.0001], 'kernel':['linear','rbf']}"
   ]
  },
  {
   "cell_type": "code",
   "execution_count": 199,
   "metadata": {},
   "outputs": [
    {
     "name": "stdout",
     "output_type": "stream",
     "text": [
      "Fitting 5 folds for each of 40 candidates, totalling 200 fits\n"
     ]
    },
    {
     "name": "stderr",
     "output_type": "stream",
     "text": [
      "[Parallel(n_jobs=-1)]: Using backend LokyBackend with 12 concurrent workers.\n",
      "[Parallel(n_jobs=-1)]: Done  17 tasks      | elapsed:  4.9min\n",
      "[Parallel(n_jobs=-1)]: Done 138 tasks      | elapsed: 30.3min\n",
      "[Parallel(n_jobs=-1)]: Done 200 out of 200 | elapsed: 41.8min finished\n"
     ]
    },
    {
     "data": {
      "text/plain": [
       "GridSearchCV(estimator=SVC(probability=True), n_jobs=-1,\n",
       "             param_grid={'C': [1, 10, 100, 1000],\n",
       "                         'gamma': [10, 1, 0.1, 0.001, 0.0001],\n",
       "                         'kernel': ['linear', 'rbf']},\n",
       "             verbose=2)"
      ]
     },
     "execution_count": 199,
     "metadata": {},
     "output_type": "execute_result"
    }
   ],
   "source": [
    "X_train, X_test, y_train, y_test = train_test_split(X, y, test_size = 0.3, random_state = 42,stratify=y)\n",
    "grid = GridSearchCV(SVC(probability=True),param_grid,refit = True, verbose=2,n_jobs=-1)\n",
    "grid.fit(X_train,y_train)"
   ]
  },
  {
   "cell_type": "code",
   "execution_count": 200,
   "metadata": {},
   "outputs": [
    {
     "data": {
      "text/plain": [
       "{'C': 100, 'gamma': 1, 'kernel': 'rbf'}"
      ]
     },
     "execution_count": 200,
     "metadata": {},
     "output_type": "execute_result"
    }
   ],
   "source": [
    "grid.best_params_"
   ]
  },
  {
   "cell_type": "code",
   "execution_count": 201,
   "metadata": {},
   "outputs": [],
   "source": [
    "preds = grid.predict(X_test)"
   ]
  },
  {
   "cell_type": "code",
   "execution_count": 202,
   "metadata": {},
   "outputs": [
    {
     "name": "stdout",
     "output_type": "stream",
     "text": [
      "              precision    recall  f1-score   support\n",
      "\n",
      " Accountancy       0.91      0.79      0.85       112\n",
      "   Education       0.94      0.87      0.90       431\n",
      "          IT       0.95      0.97      0.96      1424\n",
      "   Marketing       0.90      0.91      0.90       609\n",
      "\n",
      "    accuracy                           0.93      2576\n",
      "   macro avg       0.92      0.89      0.90      2576\n",
      "weighted avg       0.93      0.93      0.93      2576\n",
      "\n",
      "[[  89    2   19    2]\n",
      " [   2  375   18   36]\n",
      " [   3   11 1386   24]\n",
      " [   4   12   41  552]]\n"
     ]
    }
   ],
   "source": [
    "print(classification_report(y_test,preds))\n",
    "print(confusion_matrix(y_test, preds))"
   ]
  },
  {
   "cell_type": "markdown",
   "metadata": {},
   "source": [
    "# Saving best model to use in REST-API"
   ]
  },
  {
   "cell_type": "code",
   "execution_count": 203,
   "metadata": {},
   "outputs": [],
   "source": [
    "best_model = grid.best_estimator_"
   ]
  },
  {
   "cell_type": "code",
   "execution_count": 204,
   "metadata": {},
   "outputs": [
    {
     "data": {
      "text/plain": [
       "SVC(C=100, gamma=1, probability=True)"
      ]
     },
     "execution_count": 204,
     "metadata": {},
     "output_type": "execute_result"
    }
   ],
   "source": [
    "best_model.fit(X,y)"
   ]
  },
  {
   "cell_type": "code",
   "execution_count": 205,
   "metadata": {},
   "outputs": [],
   "source": [
    "import pickle\n",
    "\n",
    "model_filename = \"Pickle_SVM_Model.pkl\"  \n",
    "vectorizer_filename = 'Pickle_vectorizer.pkl'\n",
    "\n",
    "with open(model_filename, 'wb') as file:  \n",
    "    pickle.dump(best_model, file)\n",
    "\n",
    "with open(vectorizer_filename, 'wb') as file:  \n",
    "    pickle.dump(vectorizer, file)\n"
   ]
  },
  {
   "cell_type": "markdown",
   "metadata": {},
   "source": [
    "testing model"
   ]
  },
  {
   "cell_type": "code",
   "execution_count": 206,
   "metadata": {},
   "outputs": [
    {
     "data": {
      "text/plain": [
       "SVC(C=100, gamma=1, probability=True)"
      ]
     },
     "execution_count": 206,
     "metadata": {},
     "output_type": "execute_result"
    }
   ],
   "source": [
    "with open(model_filename, 'rb') as file:  \n",
    "    m = pickle.load(file)\n",
    "\n",
    "m"
   ]
  },
  {
   "cell_type": "code",
   "execution_count": 207,
   "metadata": {},
   "outputs": [
    {
     "data": {
      "text/plain": [
       "TfidfVectorizer(max_df=0.7, max_features=1000, min_df=5,\n",
       "                stop_words=['i', 'me', 'my', 'myself', 'we', 'our', 'ours',\n",
       "                            'ourselves', 'you', \"you're\", \"you've\", \"you'll\",\n",
       "                            \"you'd\", 'your', 'yours', 'yourself', 'yourselves',\n",
       "                            'he', 'him', 'his', 'himself', 'she', \"she's\",\n",
       "                            'her', 'hers', 'herself', 'it', \"it's\", 'its',\n",
       "                            'itself', ...])"
      ]
     },
     "execution_count": 207,
     "metadata": {},
     "output_type": "execute_result"
    }
   ],
   "source": [
    "with open(vectorizer_filename, 'rb') as file:  \n",
    "    v = pickle.load(file)\n",
    "\n",
    "v"
   ]
  },
  {
   "cell_type": "markdown",
   "metadata": {},
   "source": [
    "sample data"
   ]
  },
  {
   "cell_type": "code",
   "execution_count": 208,
   "metadata": {},
   "outputs": [],
   "source": [
    "job_describtion_sample = [\"IT Persion required\"]"
   ]
  },
  {
   "cell_type": "code",
   "execution_count": 209,
   "metadata": {},
   "outputs": [],
   "source": [
    "sample = v.transform(job_describtion_sample).toarray()"
   ]
  },
  {
   "cell_type": "code",
   "execution_count": 210,
   "metadata": {},
   "outputs": [
    {
     "data": {
      "text/plain": [
       "array([[0., 0., 0., 0., 0., 0., 0., 0., 0., 0., 0., 0., 0., 0., 0., 0.,\n",
       "        0., 0., 0., 0., 0., 0., 0., 0., 0., 0., 0., 0., 0., 0., 0., 0.,\n",
       "        0., 0., 0., 0., 0., 0., 0., 0., 0., 0., 0., 0., 0., 0., 0., 0.,\n",
       "        0., 0., 0., 0., 0., 0., 0., 0., 0., 0., 0., 0., 0., 0., 0., 0.,\n",
       "        0., 0., 0., 0., 0., 0., 0., 0., 0., 0., 0., 0., 0., 0., 0., 0.,\n",
       "        0., 0., 0., 0., 0., 0., 0., 0., 0., 0., 0., 0., 0., 0., 0., 0.,\n",
       "        0., 0., 0., 0., 0., 0., 0., 0., 0., 0., 0., 0., 0., 0., 0., 0.,\n",
       "        0., 0., 0., 0., 0., 0., 0., 0., 0., 0., 0., 0., 0., 0., 0., 0.,\n",
       "        0., 0., 0., 0., 0., 0., 0., 0., 0., 0., 0., 0., 0., 0., 0., 0.,\n",
       "        0., 0., 0., 0., 0., 0., 0., 0., 0., 0., 0., 0., 0., 0., 0., 0.,\n",
       "        0., 0., 0., 0., 0., 0., 0., 0., 0., 0., 0., 0., 0., 0., 0., 0.,\n",
       "        0., 0., 0., 0., 0., 0., 0., 0., 0., 0., 0., 0., 0., 0., 0., 0.,\n",
       "        0., 0., 0., 0., 0., 0., 0., 0., 0., 0., 0., 0., 0., 0., 0., 0.,\n",
       "        0., 0., 0., 0., 0., 0., 0., 0., 0., 0., 0., 0., 0., 0., 0., 0.,\n",
       "        0., 0., 0., 0., 0., 0., 0., 0., 0., 0., 0., 0., 0., 0., 0., 0.,\n",
       "        0., 0., 0., 0., 0., 0., 0., 0., 0., 0., 0., 0., 0., 0., 0., 0.,\n",
       "        0., 0., 0., 0., 0., 0., 0., 0., 0., 0., 0., 0., 0., 0., 0., 0.,\n",
       "        0., 0., 0., 0., 0., 0., 0., 0., 0., 0., 0., 0., 0., 0., 0., 0.,\n",
       "        0., 0., 0., 0., 0., 0., 0., 0., 0., 0., 0., 0., 0., 0., 0., 0.,\n",
       "        0., 0., 0., 0., 0., 0., 0., 0., 0., 0., 0., 0., 0., 0., 0., 0.,\n",
       "        0., 0., 0., 0., 0., 0., 0., 0., 0., 0., 0., 0., 0., 0., 0., 0.,\n",
       "        0., 0., 0., 0., 0., 0., 0., 0., 0., 0., 0., 0., 0., 0., 0., 0.,\n",
       "        0., 0., 0., 0., 0., 0., 0., 0., 0., 0., 0., 0., 0., 0., 0., 0.,\n",
       "        0., 0., 0., 0., 0., 0., 0., 0., 0., 0., 0., 0., 0., 0., 0., 0.,\n",
       "        0., 0., 0., 0., 0., 0., 0., 0., 0., 0., 0., 0., 0., 0., 0., 0.,\n",
       "        0., 0., 0., 0., 0., 0., 0., 0., 0., 0., 0., 0., 0., 0., 0., 0.,\n",
       "        0., 0., 0., 0., 0., 0., 0., 0., 0., 0., 0., 0., 0., 0., 0., 0.,\n",
       "        0., 0., 0., 0., 0., 0., 0., 0., 0., 0., 0., 0., 0., 0., 0., 0.,\n",
       "        0., 0., 0., 0., 0., 0., 0., 0., 0., 0., 0., 0., 0., 0., 0., 0.,\n",
       "        0., 0., 0., 0., 0., 0., 0., 0., 0., 0., 0., 0., 0., 0., 0., 0.,\n",
       "        0., 0., 0., 0., 0., 0., 0., 0., 0., 0., 0., 0., 0., 0., 0., 0.,\n",
       "        0., 0., 0., 0., 0., 0., 0., 0., 0., 0., 0., 0., 0., 0., 0., 0.,\n",
       "        0., 0., 0., 0., 0., 0., 0., 0., 0., 0., 0., 0., 0., 0., 0., 0.,\n",
       "        0., 0., 0., 0., 0., 0., 0., 0., 0., 0., 0., 1., 0., 0., 0., 0.,\n",
       "        0., 0., 0., 0., 0., 0., 0., 0., 0., 0., 0., 0., 0., 0., 0., 0.,\n",
       "        0., 0., 0., 0., 0., 0., 0., 0., 0., 0., 0., 0., 0., 0., 0., 0.,\n",
       "        0., 0., 0., 0., 0., 0., 0., 0., 0., 0., 0., 0., 0., 0., 0., 0.,\n",
       "        0., 0., 0., 0., 0., 0., 0., 0., 0., 0., 0., 0., 0., 0., 0., 0.,\n",
       "        0., 0., 0., 0., 0., 0., 0., 0., 0., 0., 0., 0., 0., 0., 0., 0.,\n",
       "        0., 0., 0., 0., 0., 0., 0., 0., 0., 0., 0., 0., 0., 0., 0., 0.,\n",
       "        0., 0., 0., 0., 0., 0., 0., 0., 0., 0., 0., 0., 0., 0., 0., 0.,\n",
       "        0., 0., 0., 0., 0., 0., 0., 0., 0., 0., 0., 0., 0., 0., 0., 0.,\n",
       "        0., 0., 0., 0., 0., 0., 0.]])"
      ]
     },
     "execution_count": 210,
     "metadata": {},
     "output_type": "execute_result"
    }
   ],
   "source": [
    "sample"
   ]
  },
  {
   "cell_type": "code",
   "execution_count": 211,
   "metadata": {},
   "outputs": [
    {
     "data": {
      "text/plain": [
       "array(['Education'], dtype=object)"
      ]
     },
     "execution_count": 211,
     "metadata": {},
     "output_type": "execute_result"
    }
   ],
   "source": [
    "m.predict(sample)"
   ]
  },
  {
   "cell_type": "code",
   "execution_count": 212,
   "metadata": {},
   "outputs": [
    {
     "data": {
      "text/plain": [
       "array([[0.04308287, 0.45922396, 0.29560004, 0.20209312]])"
      ]
     },
     "execution_count": 212,
     "metadata": {},
     "output_type": "execute_result"
    }
   ],
   "source": [
    "m.predict_proba(sample)"
   ]
  },
  {
   "cell_type": "markdown",
   "metadata": {},
   "source": [
    "Not that accurate but it works  😄"
   ]
  },
  {
   "cell_type": "code",
   "execution_count": 213,
   "metadata": {},
   "outputs": [],
   "source": [
    "x = np.array(['asd'])"
   ]
  },
  {
   "cell_type": "code",
   "execution_count": 214,
   "metadata": {},
   "outputs": [
    {
     "data": {
      "text/plain": [
       "array(['asd'], dtype='<U3')"
      ]
     },
     "execution_count": 214,
     "metadata": {},
     "output_type": "execute_result"
    }
   ],
   "source": [
    "x"
   ]
  },
  {
   "cell_type": "code",
   "execution_count": 217,
   "metadata": {},
   "outputs": [],
   "source": [
    "p = m.predict(sample)"
   ]
  },
  {
   "cell_type": "code",
   "execution_count": 218,
   "metadata": {},
   "outputs": [
    {
     "data": {
      "text/plain": [
       "'Education'"
      ]
     },
     "execution_count": 218,
     "metadata": {},
     "output_type": "execute_result"
    }
   ],
   "source": [
    "p[0]"
   ]
  },
  {
   "cell_type": "markdown",
   "metadata": {},
   "source": [
    "# Calling the API "
   ]
  },
  {
   "cell_type": "code",
   "execution_count": 256,
   "metadata": {},
   "outputs": [],
   "source": [
    "import requests \n",
    "import json\n",
    "END_POINT = 'http://127.0.0.1:5000/api/v1/predict/'"
   ]
  },
  {
   "cell_type": "code",
   "execution_count": 257,
   "metadata": {},
   "outputs": [],
   "source": [
    "def predict(text):\n",
    "    endpoint = END_POINT+requests.utils.quote(text)\n",
    "    try:\n",
    "        r = requests.get(endpoint,timeout=3)\n",
    "        r.raise_for_status()\n",
    "        return json.loads(r.text)['prediction']\n",
    "    except requests.exceptions.HTTPError as errh:\n",
    "        print (\"Http Error:\",errh)\n",
    "    except requests.exceptions.ConnectionError as errc:\n",
    "        print (\"Error Connecting:\",errc)\n",
    "    except requests.exceptions.Timeout as errt:\n",
    "        print (\"Timeout Error:\",errt)\n",
    "    except requests.exceptions.RequestException as err:\n",
    "        print (\"OOps: Something Else\",err)\n",
    "        \n",
    "    "
   ]
  },
  {
   "cell_type": "code",
   "execution_count": 258,
   "metadata": {},
   "outputs": [
    {
     "data": {
      "text/plain": [
       "'IT'"
      ]
     },
     "execution_count": 258,
     "metadata": {},
     "output_type": "execute_result"
    }
   ],
   "source": [
    "predict(\"java developer\")"
   ]
  },
  {
   "cell_type": "code",
   "execution_count": 259,
   "metadata": {},
   "outputs": [
    {
     "data": {
      "text/plain": [
       "'Education'"
      ]
     },
     "execution_count": 259,
     "metadata": {},
     "output_type": "execute_result"
    }
   ],
   "source": [
    "predict(\"science teacher\")"
   ]
  },
  {
   "cell_type": "code",
   "execution_count": 260,
   "metadata": {},
   "outputs": [
    {
     "data": {
      "text/plain": [
       "'Accountancy'"
      ]
     },
     "execution_count": 260,
     "metadata": {},
     "output_type": "execute_result"
    }
   ],
   "source": [
    "predict(\"tax accounting\")"
   ]
  },
  {
   "cell_type": "code",
   "execution_count": 261,
   "metadata": {},
   "outputs": [
    {
     "data": {
      "text/plain": [
       "'Marketing'"
      ]
     },
     "execution_count": 261,
     "metadata": {},
     "output_type": "execute_result"
    }
   ],
   "source": [
    "predict(\"social media\")"
   ]
  },
  {
   "cell_type": "code",
   "execution_count": null,
   "metadata": {},
   "outputs": [],
   "source": []
  }
 ],
 "metadata": {
  "kernelspec": {
   "display_name": "Python 3",
   "language": "python",
   "name": "python3"
  },
  "language_info": {
   "codemirror_mode": {
    "name": "ipython",
    "version": 3
   },
   "file_extension": ".py",
   "mimetype": "text/x-python",
   "name": "python",
   "nbconvert_exporter": "python",
   "pygments_lexer": "ipython3",
   "version": "3.8.5"
  }
 },
 "nbformat": 4,
 "nbformat_minor": 4
}
